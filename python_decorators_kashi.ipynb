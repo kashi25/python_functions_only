{
  "cells": [
    {
      "cell_type": "code",
      "execution_count": null,
      "metadata": {
        "colab": {
          "base_uri": "https://localhost:8080/"
        },
        "id": "Lg41fE3OYshQ",
        "outputId": "ef2009b6-b9fa-48b0-c494-0ac3f00b63c5"
      },
      "outputs": [
        {
          "name": "stdout",
          "output_type": "stream",
          "text": [
            "hello\n"
          ]
        }
      ],
      "source": [
        "print(\"hello\")"
      ]
    },
    {
      "cell_type": "code",
      "execution_count": null,
      "metadata": {
        "id": "0e-DdRnGY1N3"
      },
      "outputs": [],
      "source": [
        "def kashi():\n",
        "  return \"hello kashi\""
      ]
    },
    {
      "cell_type": "code",
      "execution_count": null,
      "metadata": {
        "colab": {
          "base_uri": "https://localhost:8080/",
          "height": 36
        },
        "id": "OxBv5WtoZLEg",
        "outputId": "c6055c47-91a7-4c40-ecd8-f5a8e615006e"
      },
      "outputs": [
        {
          "data": {
            "application/vnd.google.colaboratory.intrinsic+json": {
              "type": "string"
            },
            "text/plain": [
              "'hello kashi'"
            ]
          },
          "execution_count": 3,
          "metadata": {},
          "output_type": "execute_result"
        }
      ],
      "source": [
        "kashi()"
      ]
    },
    {
      "cell_type": "code",
      "execution_count": null,
      "metadata": {
        "id": "d8rR9iRevlFY"
      },
      "outputs": [],
      "source": [
        "def kashi(name):\n",
        "  return f\"hello kashi,{name}\""
      ]
    },
    {
      "cell_type": "code",
      "execution_count": null,
      "metadata": {
        "colab": {
          "base_uri": "https://localhost:8080/",
          "height": 36
        },
        "id": "8LsjJFyVv6xv",
        "outputId": "42d5b126-76f5-49cc-a30d-4bba9ff78927"
      },
      "outputs": [
        {
          "data": {
            "application/vnd.google.colaboratory.intrinsic+json": {
              "type": "string"
            },
            "text/plain": [
              "'hello kashi,python_developer'"
            ]
          },
          "execution_count": 5,
          "metadata": {},
          "output_type": "execute_result"
        }
      ],
      "source": [
        "kashi(\"python_developer\")"
      ]
    },
    {
      "cell_type": "code",
      "execution_count": null,
      "metadata": {
        "id": "u5BkMOxJwCpW"
      },
      "outputs": [],
      "source": [
        "def kashi(name=\"python hero\"):\n",
        "  return f\"hello kashi,{name}\""
      ]
    },
    {
      "cell_type": "code",
      "execution_count": null,
      "metadata": {
        "colab": {
          "base_uri": "https://localhost:8080/",
          "height": 36
        },
        "id": "WAmJwecsxAr5",
        "outputId": "1318d9d0-521a-47c7-9f56-113bb467de54"
      },
      "outputs": [
        {
          "data": {
            "application/vnd.google.colaboratory.intrinsic+json": {
              "type": "string"
            },
            "text/plain": [
              "'hello kashi,python hero'"
            ]
          },
          "execution_count": 7,
          "metadata": {},
          "output_type": "execute_result"
        }
      ],
      "source": [
        "kashi()"
      ]
    },
    {
      "cell_type": "code",
      "execution_count": null,
      "metadata": {
        "id": "HCJ9fXWnxB6l"
      },
      "outputs": [],
      "source": [
        "# part 2 and  level 2"
      ]
    },
    {
      "cell_type": "code",
      "execution_count": null,
      "metadata": {
        "id": "nGRkvObSxgrV"
      },
      "outputs": [],
      "source": [
        "# define the function called calcualte_average, it takes a single parameters called numbers,\n",
        "# numbers is empty list,the function should print out a message saying no number provided\n",
        "# and return None if numbers is not an empty list the function should return the arithmetic average(i.e) mean of the numbers\n",
        "# also, before returning the average, the function should print out a message stating the count of number and the calcuated average"
      ]
    },
    {
      "cell_type": "code",
      "execution_count": null,
      "metadata": {
        "id": "a70Q3iujydvX"
      },
      "outputs": [],
      "source": [
        "def calcutate_average(numbers):\n",
        "  if not numbers:\n",
        "    print(\"No numbers provided\")\n",
        "    return None\n",
        "\n",
        "  total_sum = sum(numbers)\n",
        "  count = len(numbers)\n",
        "  avarage = total_sum / count\n",
        "\n",
        "  print(f\"Count:{count},Avarage:{avarage}\")\n",
        "  return avarage\n",
        "\n"
      ]
    },
    {
      "cell_type": "code",
      "execution_count": null,
      "metadata": {
        "id": "pPQpDQIt3B51"
      },
      "outputs": [],
      "source": [
        "numbers_list = [3,4,6,8,9]"
      ]
    },
    {
      "cell_type": "code",
      "execution_count": null,
      "metadata": {
        "colab": {
          "base_uri": "https://localhost:8080/"
        },
        "id": "ayRRlZjT3OR-",
        "outputId": "966fb4c3-ed6a-434f-9515-6fef3b3203ba"
      },
      "outputs": [
        {
          "name": "stdout",
          "output_type": "stream",
          "text": [
            "Count:5,Avarage:6.0\n"
          ]
        },
        {
          "data": {
            "text/plain": [
              "6.0"
            ]
          },
          "execution_count": 13,
          "metadata": {},
          "output_type": "execute_result"
        }
      ],
      "source": [
        "calcutate_average(numbers_list)"
      ]
    },
    {
      "cell_type": "code",
      "execution_count": null,
      "metadata": {
        "id": "Y6ZnaYHe3Rcb"
      },
      "outputs": [],
      "source": [
        "def greet(name, other_name):\n",
        "  print(f\"Hello,{name} and {other_name}\")"
      ]
    },
    {
      "cell_type": "code",
      "execution_count": null,
      "metadata": {
        "colab": {
          "base_uri": "https://localhost:8080/"
        },
        "id": "Z4wHinc33peb",
        "outputId": "8482dcf8-4b62-48f6-c832-78a9d6bdfe0a"
      },
      "outputs": [
        {
          "name": "stdout",
          "output_type": "stream",
          "text": [
            "Hello,kashi and ashok\n"
          ]
        }
      ],
      "source": [
        "greet(\"kashi\",\"ashok\")"
      ]
    },
    {
      "cell_type": "code",
      "execution_count": null,
      "metadata": {
        "id": "kqf35_8M3u0Z"
      },
      "outputs": [],
      "source": [
        "# part3"
      ]
    },
    {
      "cell_type": "code",
      "execution_count": null,
      "metadata": {
        "id": "AQTTdLMI3456"
      },
      "outputs": [],
      "source": [
        "def greet(*args):# we can pass any many parameter as we want\n",
        "   print(f\"hello {' and '.join(args)}\")\n",
        "\n"
      ]
    },
    {
      "cell_type": "code",
      "execution_count": null,
      "metadata": {
        "colab": {
          "base_uri": "https://localhost:8080/"
        },
        "id": "aMwjOuSD4aH3",
        "outputId": "9debfbff-1b3b-482d-a010-9b04678533ca"
      },
      "outputs": [
        {
          "name": "stdout",
          "output_type": "stream",
          "text": [
            "hello madan\n"
          ]
        }
      ],
      "source": [
        "greet(\"madan\")"
      ]
    },
    {
      "cell_type": "code",
      "execution_count": null,
      "metadata": {
        "colab": {
          "base_uri": "https://localhost:8080/"
        },
        "id": "FAPqcngR4czr",
        "outputId": "04d2a504-55ec-4089-cb1d-b003163b639b"
      },
      "outputs": [
        {
          "name": "stdout",
          "output_type": "stream",
          "text": [
            "hello dinesh and dill\n"
          ]
        }
      ],
      "source": [
        "greet(\"dinesh\",\"dill\")"
      ]
    },
    {
      "cell_type": "code",
      "execution_count": null,
      "metadata": {
        "colab": {
          "base_uri": "https://localhost:8080/"
        },
        "id": "nJgXsc6m4flr",
        "outputId": "e7b83ef7-fc53-4325-975d-86d7f2f6ac3e"
      },
      "outputs": [
        {
          "name": "stdout",
          "output_type": "stream",
          "text": [
            "hello ashok and akdev and dina\n"
          ]
        }
      ],
      "source": [
        "greet(\"ashok\",\"akdev\",\"dina\")"
      ]
    },
    {
      "cell_type": "code",
      "execution_count": null,
      "metadata": {
        "id": "yX-ZiAb_4lQ9"
      },
      "outputs": [],
      "source": [
        "def introduce(**kwargs):\n",
        "  for key, value in kwargs.items():\n",
        "    print(f\"{key}:{value}\")"
      ]
    },
    {
      "cell_type": "code",
      "execution_count": null,
      "metadata": {
        "colab": {
          "base_uri": "https://localhost:8080/"
        },
        "id": "RV2E_oFt5Eh-",
        "outputId": "87816eda-90de-4a48-80d6-ec9df931762d"
      },
      "outputs": [
        {
          "name": "stdout",
          "output_type": "stream",
          "text": [
            "name:kashi\n",
            "age:25\n",
            "country:nepal\n"
          ]
        }
      ],
      "source": [
        "introduce(name=\"kashi\",age=25,country=\"nepal\")"
      ]
    },
    {
      "cell_type": "code",
      "execution_count": null,
      "metadata": {
        "id": "eH2R2AlF5dkS"
      },
      "outputs": [],
      "source": [
        "# *args -> positional args\n",
        "# **kwargs -> keyword args"
      ]
    },
    {
      "cell_type": "code",
      "execution_count": null,
      "metadata": {
        "id": "0U7XVnJR55XW"
      },
      "outputs": [],
      "source": [
        "def func(*args,**kwargs):\n",
        "  for arg in args:\n",
        "    print (arg)\n",
        "\n",
        "  for k,v in kwargs.items():\n",
        "    print(k,v)"
      ]
    },
    {
      "cell_type": "code",
      "execution_count": null,
      "metadata": {
        "colab": {
          "base_uri": "https://localhost:8080/"
        },
        "id": "X_pK_wq16Lcg",
        "outputId": "cef08ec1-9b7a-404b-93fb-0043f7a3f67a"
      },
      "outputs": [
        {
          "name": "stdout",
          "output_type": "stream",
          "text": [
            "1\n",
            "2\n",
            "3\n",
            "4\n",
            "name kashi\n",
            "country Nepal\n"
          ]
        }
      ],
      "source": [
        "func(1,2,3,4,name=\"kashi\",country=\"Nepal\")"
      ]
    },
    {
      "cell_type": "code",
      "execution_count": null,
      "metadata": {
        "id": "gclFREHr6aLG"
      },
      "outputs": [],
      "source": [
        "def func(*args,**kwargs):\n",
        "  pass"
      ]
    },
    {
      "cell_type": "code",
      "execution_count": null,
      "metadata": {
        "id": "QT6uhv-W62iv"
      },
      "outputs": [],
      "source": [
        "# variadic funcs\n",
        "# variable arity:different number of argument each time called"
      ]
    },
    {
      "cell_type": "markdown",
      "metadata": {
        "id": "JuLL91Ms7wS0"
      },
      "source": []
    },
    {
      "cell_type": "code",
      "execution_count": null,
      "metadata": {
        "id": "q7CYcG3f7y75"
      },
      "outputs": [],
      "source": [
        "def calcutate_average(*numbers,round_to=2):\n",
        "  if not numbers:\n",
        "    print(\"No numbers provided\")\n",
        "    return None\n",
        "\n",
        "  total_sum = sum(numbers)\n",
        "  count = len(numbers)\n",
        "  avarage = total_sum / count\n",
        "  round_avarage = round(avarage,round_to)\n",
        "\n",
        "  print(f\"Count:{count},Avarage:{round_avarage}\")\n",
        "  return round_avarage\n",
        "\n"
      ]
    },
    {
      "cell_type": "code",
      "execution_count": null,
      "metadata": {
        "colab": {
          "base_uri": "https://localhost:8080/"
        },
        "id": "DcsunIWO8nwE",
        "outputId": "ed91682c-ba6d-4946-c196-70eaf26ec40d"
      },
      "outputs": [
        {
          "name": "stdout",
          "output_type": "stream",
          "text": [
            "Count:4,Avarage:5.675\n",
            "Count:5,Avarage:35.43\n"
          ]
        },
        {
          "data": {
            "text/plain": [
              "35.43"
            ]
          },
          "execution_count": 36,
          "metadata": {},
          "output_type": "execute_result"
        }
      ],
      "source": [
        "calcutate_average(2,4.5,6.7,9.5,round_to=3)\n",
        "calcutate_average(10,45,52.14,40,30)"
      ]
    },
    {
      "cell_type": "code",
      "execution_count": null,
      "metadata": {
        "id": "MZeGbRWl81tT"
      },
      "outputs": [],
      "source": [
        "# part 3 high-order function HOF"
      ]
    },
    {
      "cell_type": "code",
      "execution_count": null,
      "metadata": {
        "id": "ROwoV60qKeQw"
      },
      "outputs": [],
      "source": [
        "def loud(func2):\n",
        "  def wrapper():\n",
        "     return func().upper() + \"!!!\"\n",
        "\n",
        "  return wrapper"
      ]
    },
    {
      "cell_type": "code",
      "execution_count": null,
      "metadata": {
        "id": "m0iAf3c-K1ig"
      },
      "outputs": [],
      "source": [
        "# take one or more functions as there arguments\n",
        "# return a function as its results"
      ]
    },
    {
      "cell_type": "code",
      "execution_count": null,
      "metadata": {
        "id": "tOMrASAzNbih"
      },
      "outputs": [],
      "source": [
        "def greet():\n",
        "  return \"hello kashi\""
      ]
    },
    {
      "cell_type": "code",
      "execution_count": null,
      "metadata": {
        "id": "35BOxlLbNlia"
      },
      "outputs": [],
      "source": [
        "loud_greet = loud(greet)"
      ]
    },
    {
      "cell_type": "code",
      "execution_count": null,
      "metadata": {
        "id": "dkA0Q0FqNuYd"
      },
      "outputs": [],
      "source": [
        "# loud_greet()"
      ]
    },
    {
      "cell_type": "code",
      "execution_count": null,
      "metadata": {
        "id": "WWBWOkXjOCkE"
      },
      "outputs": [],
      "source": [
        "def add(x,y):\n",
        "  return x + y\n"
      ]
    },
    {
      "cell_type": "code",
      "execution_count": null,
      "metadata": {
        "colab": {
          "base_uri": "https://localhost:8080/"
        },
        "id": "fwRUY7byQVaB",
        "outputId": "b619228b-f28f-49ad-e84f-5f9f6b6b6d31"
      },
      "outputs": [
        {
          "data": {
            "text/plain": [
              "8"
            ]
          },
          "execution_count": 63,
          "metadata": {},
          "output_type": "execute_result"
        }
      ],
      "source": [
        "add(3,5)"
      ]
    },
    {
      "cell_type": "code",
      "execution_count": null,
      "metadata": {
        "id": "a5MAPNB7QWxO"
      },
      "outputs": [],
      "source": [
        "from operator import add"
      ]
    },
    {
      "cell_type": "code",
      "execution_count": null,
      "metadata": {
        "colab": {
          "base_uri": "https://localhost:8080/"
        },
        "id": "9E-t-HadQatb",
        "outputId": "bd262a81-fbec-4711-8eb1-589bbb5d2469"
      },
      "outputs": [
        {
          "data": {
            "text/plain": [
              "3"
            ]
          },
          "execution_count": 65,
          "metadata": {},
          "output_type": "execute_result"
        }
      ],
      "source": [
        "add(1,2)"
      ]
    },
    {
      "cell_type": "code",
      "execution_count": null,
      "metadata": {
        "id": "rvMwQaXqQcJv"
      },
      "outputs": [],
      "source": [
        "def double(func):\n",
        "  def inner(*args):\n",
        "    return func(*args) *2\n",
        "\n",
        "  return inner"
      ]
    },
    {
      "cell_type": "code",
      "execution_count": null,
      "metadata": {
        "id": "xrltgwr4Qm50"
      },
      "outputs": [],
      "source": [
        "double_add = double(add)"
      ]
    },
    {
      "cell_type": "code",
      "execution_count": null,
      "metadata": {
        "colab": {
          "base_uri": "https://localhost:8080/"
        },
        "id": "_qKCiRKaQqjM",
        "outputId": "d1f06e56-606a-43b6-9303-0a627992308d"
      },
      "outputs": [
        {
          "data": {
            "text/plain": [
              "6"
            ]
          },
          "execution_count": 68,
          "metadata": {},
          "output_type": "execute_result"
        }
      ],
      "source": [
        "double_add(1,2)"
      ]
    },
    {
      "cell_type": "code",
      "execution_count": null,
      "metadata": {
        "colab": {
          "base_uri": "https://localhost:8080/"
        },
        "id": "yMZuM80HQtw9",
        "outputId": "2e3b5581-e584-4e21-bf40-c5057d2fe16a"
      },
      "outputs": [
        {
          "data": {
            "text/plain": [
              "32"
            ]
          },
          "execution_count": 69,
          "metadata": {},
          "output_type": "execute_result"
        }
      ],
      "source": [
        "double_add(5,11)"
      ]
    },
    {
      "cell_type": "code",
      "execution_count": null,
      "metadata": {
        "id": "mlf7_rkdQyv9"
      },
      "outputs": [],
      "source": [
        "# first_class  function"
      ]
    },
    {
      "cell_type": "code",
      "execution_count": null,
      "metadata": {
        "id": "4-TncXphQ4MH"
      },
      "outputs": [],
      "source": [
        "def loud_greeting(name):\n",
        "  return f\"Hello{name.upper()}!!\""
      ]
    },
    {
      "cell_type": "code",
      "execution_count": null,
      "metadata": {
        "id": "Ga0KSe9kXQ7_"
      },
      "outputs": [],
      "source": [
        "def quiet_greeting(name):\n",
        "  return f\"hello,{name}..\""
      ]
    },
    {
      "cell_type": "code",
      "execution_count": null,
      "metadata": {
        "id": "DlUh7SBks8Fb"
      },
      "outputs": [],
      "source": [
        "def greet(name,greeting):\n",
        "  return greeting(name)"
      ]
    },
    {
      "cell_type": "code",
      "execution_count": null,
      "metadata": {
        "colab": {
          "base_uri": "https://localhost:8080/",
          "height": 36
        },
        "id": "UHHZhFn4tB_8",
        "outputId": "369e1f9c-6e90-470d-d820-2db6c57bab2e"
      },
      "outputs": [
        {
          "data": {
            "application/vnd.google.colaboratory.intrinsic+json": {
              "type": "string"
            },
            "text/plain": [
              "'HelloANDY!!'"
            ]
          },
          "execution_count": 7,
          "metadata": {},
          "output_type": "execute_result"
        }
      ],
      "source": [
        "greet(\"Andy\",loud_greeting)"
      ]
    },
    {
      "cell_type": "code",
      "execution_count": null,
      "metadata": {
        "colab": {
          "base_uri": "https://localhost:8080/",
          "height": 36
        },
        "id": "cpRfIv7ttHn3",
        "outputId": "ea1b2130-c906-42f4-bef0-444eff937765"
      },
      "outputs": [
        {
          "data": {
            "application/vnd.google.colaboratory.intrinsic+json": {
              "type": "string"
            },
            "text/plain": [
              "'hello,Andy..'"
            ]
          },
          "execution_count": 9,
          "metadata": {},
          "output_type": "execute_result"
        }
      ],
      "source": [
        "greet(\"Andy\",quiet_greeting)"
      ]
    },
    {
      "cell_type": "code",
      "execution_count": null,
      "metadata": {
        "id": "Mp3LlTfttSEY"
      },
      "outputs": [],
      "source": [
        "from typing import Callable\n",
        "\n",
        "def greet(name:str,greeting:Callable[[str],str]) -> str:\n",
        "  return greeting(name)"
      ]
    },
    {
      "cell_type": "code",
      "execution_count": null,
      "metadata": {
        "id": "c6LAGUod3QuB"
      },
      "outputs": [],
      "source": [
        "nuns = [1,2,234,123,9]"
      ]
    },
    {
      "cell_type": "code",
      "execution_count": null,
      "metadata": {
        "id": "Lm9U1one3aIE"
      },
      "outputs": [],
      "source": [
        "def is_even(num):\n",
        "  return num % 2 == 0"
      ]
    },
    {
      "cell_type": "code",
      "execution_count": null,
      "metadata": {
        "colab": {
          "base_uri": "https://localhost:8080/"
        },
        "id": "VTbzjOXa3fuM",
        "outputId": "27f3a4d7-a657-4913-91d5-5eb83383538a"
      },
      "outputs": [
        {
          "data": {
            "text/plain": [
              "False"
            ]
          },
          "execution_count": 4,
          "metadata": {},
          "output_type": "execute_result"
        }
      ],
      "source": [
        "is_even(3)"
      ]
    },
    {
      "cell_type": "code",
      "execution_count": null,
      "metadata": {
        "colab": {
          "base_uri": "https://localhost:8080/"
        },
        "id": "tipL8dMU3iOW",
        "outputId": "8cb9e1e9-3353-4154-ef22-74e85e60fd3c"
      },
      "outputs": [
        {
          "data": {
            "text/plain": [
              "[2, 234]"
            ]
          },
          "execution_count": 8,
          "metadata": {},
          "output_type": "execute_result"
        }
      ],
      "source": [
        "list(filter(is_even,nuns))"
      ]
    },
    {
      "cell_type": "code",
      "execution_count": null,
      "metadata": {
        "colab": {
          "base_uri": "https://localhost:8080/"
        },
        "id": "bO5ltzRW3qvJ",
        "outputId": "9c5b186e-22e0-4202-d3c1-a50e85b78b2c"
      },
      "outputs": [
        {
          "data": {
            "text/plain": [
              "[2, 234]"
            ]
          },
          "execution_count": 9,
          "metadata": {},
          "output_type": "execute_result"
        }
      ],
      "source": [
        "list(filter(lambda n:n%2==0,nuns))"
      ]
    },
    {
      "cell_type": "code",
      "execution_count": null,
      "metadata": {
        "id": "qmv95hkK4Fms"
      },
      "outputs": [],
      "source": [
        "def outer(x):\n",
        "  def inner(y):\n",
        "    return x + y\n",
        "  return inner"
      ]
    },
    {
      "cell_type": "code",
      "execution_count": null,
      "metadata": {
        "colab": {
          "base_uri": "https://localhost:8080/"
        },
        "id": "BoJEGwpd4afC",
        "outputId": "313c5d38-1811-4403-a716-257f12adcbea"
      },
      "outputs": [
        {
          "data": {
            "text/plain": [
              "<function __main__.outer.<locals>.inner(y)>"
            ]
          },
          "execution_count": 11,
          "metadata": {},
          "output_type": "execute_result"
        }
      ],
      "source": [
        "outer(10)"
      ]
    },
    {
      "cell_type": "code",
      "execution_count": null,
      "metadata": {
        "id": "CZAgQeoG4_Hu"
      },
      "outputs": [],
      "source": [
        "closure = outer(10)"
      ]
    },
    {
      "cell_type": "code",
      "execution_count": null,
      "metadata": {
        "colab": {
          "base_uri": "https://localhost:8080/"
        },
        "id": "jY233one5J47",
        "outputId": "2aac7eba-3f6a-473c-8a32-5a9974fc503b"
      },
      "outputs": [
        {
          "data": {
            "text/plain": [
              "16"
            ]
          },
          "execution_count": 14,
          "metadata": {},
          "output_type": "execute_result"
        }
      ],
      "source": [
        "closure(6)"
      ]
    },
    {
      "cell_type": "code",
      "execution_count": null,
      "metadata": {
        "colab": {
          "base_uri": "https://localhost:8080/"
        },
        "id": "m5PZuUC15Um6",
        "outputId": "7562b3af-3330-4447-9a20-7e2f8746fc06"
      },
      "outputs": [
        {
          "data": {
            "text/plain": [
              "26"
            ]
          },
          "execution_count": 15,
          "metadata": {},
          "output_type": "execute_result"
        }
      ],
      "source": [
        "closure(16)"
      ]
    },
    {
      "cell_type": "code",
      "execution_count": null,
      "metadata": {
        "id": "A7iuvIlb5X_g"
      },
      "outputs": [],
      "source": [
        "def make_multiply(x):\n",
        "  def multiply(n):\n",
        "    return x *n\n",
        "\n",
        "  return multiply"
      ]
    },
    {
      "cell_type": "code",
      "execution_count": null,
      "metadata": {
        "id": "SHtRYIM_B8i5"
      },
      "outputs": [],
      "source": [
        "times_two = make_multiply(2)\n",
        "times_three = make_multiply(3)"
      ]
    },
    {
      "cell_type": "code",
      "execution_count": null,
      "metadata": {
        "colab": {
          "base_uri": "https://localhost:8080/"
        },
        "id": "nDyuAqaADP5i",
        "outputId": "6ce18c1e-8e3d-4759-ab58-29b35da0b830"
      },
      "outputs": [
        {
          "data": {
            "text/plain": [
              "12"
            ]
          },
          "execution_count": 18,
          "metadata": {},
          "output_type": "execute_result"
        }
      ],
      "source": [
        "times_three(4)"
      ]
    },
    {
      "cell_type": "code",
      "execution_count": null,
      "metadata": {
        "colab": {
          "base_uri": "https://localhost:8080/"
        },
        "id": "jxOnY6INDSLU",
        "outputId": "cab95639-dd9f-441a-b59f-94fa610e1eef"
      },
      "outputs": [
        {
          "data": {
            "text/plain": [
              "14"
            ]
          },
          "execution_count": 19,
          "metadata": {},
          "output_type": "execute_result"
        }
      ],
      "source": [
        "times_two(7)"
      ]
    },
    {
      "cell_type": "code",
      "execution_count": null,
      "metadata": {
        "id": "_ekaafB9DUVW"
      },
      "outputs": [],
      "source": [
        "# data hiding and encapsulation"
      ]
    },
    {
      "cell_type": "code",
      "execution_count": null,
      "metadata": {
        "id": "oanuJw35Dnzp"
      },
      "outputs": [],
      "source": [
        "# define a function called create_counter that return a 'counter' function that retains/remember\n",
        "# its own state i.e a closure\n",
        "# the 'counter' function should take a parameter called 'start' that determines the starting count\n",
        "# for the counter it retuens; if no start value is provided, 'start' should default to 1"
      ]
    },
    {
      "cell_type": "code",
      "execution_count": null,
      "metadata": {
        "id": "gszBdBUWx2O8"
      },
      "outputs": [],
      "source": [
        "# mutable (list,dict) vs immutable(int, tuple)\n",
        "def create_counter(start=0):\n",
        "  count = [start]\n",
        "\n",
        "  def counter():\n",
        "    count[0] += 1\n",
        "    return count[0]\n",
        "\n",
        "  return counter\n"
      ]
    },
    {
      "cell_type": "code",
      "execution_count": null,
      "metadata": {
        "id": "2-mXQnxMzimI"
      },
      "outputs": [],
      "source": [
        "counter1 = create_counter()"
      ]
    },
    {
      "cell_type": "code",
      "execution_count": null,
      "metadata": {
        "colab": {
          "base_uri": "https://localhost:8080/"
        },
        "id": "DSy5PVwBzl_u",
        "outputId": "ee37e833-f5c5-42a8-9bb0-88dedfad479f"
      },
      "outputs": [
        {
          "data": {
            "text/plain": [
              "1"
            ]
          },
          "execution_count": 4,
          "metadata": {},
          "output_type": "execute_result"
        }
      ],
      "source": [
        "counter1()"
      ]
    },
    {
      "cell_type": "code",
      "execution_count": null,
      "metadata": {
        "colab": {
          "base_uri": "https://localhost:8080/"
        },
        "id": "Cp58vHxFzo8c",
        "outputId": "05603f7b-bc72-4151-db81-898bef76aa03"
      },
      "outputs": [
        {
          "data": {
            "text/plain": [
              "2"
            ]
          },
          "execution_count": 5,
          "metadata": {},
          "output_type": "execute_result"
        }
      ],
      "source": [
        "counter1()"
      ]
    },
    {
      "cell_type": "code",
      "execution_count": null,
      "metadata": {
        "id": "-L8yREigzraA"
      },
      "outputs": [],
      "source": []
    },
    {
      "cell_type": "code",
      "execution_count": null,
      "metadata": {
        "id": "MFIxG9rgzxaP"
      },
      "outputs": [],
      "source": [
        "# basic introduction of decorators"
      ]
    },
    {
      "cell_type": "code",
      "execution_count": null,
      "metadata": {
        "id": "5xljeCpE0Aho"
      },
      "outputs": [],
      "source": [
        "def fry():\n",
        "  return \"fryinf good\"\n",
        "\n",
        "def grill():\n",
        "  return \"grilling the food\"\n",
        "\n",
        "def boil():\n",
        "  return \"boiling the food\""
      ]
    },
    {
      "cell_type": "code",
      "execution_count": null,
      "metadata": {
        "id": "jxa7j7JZZPFT"
      },
      "outputs": [],
      "source": [
        "# '@' -pie decorator syantax"
      ]
    },
    {
      "cell_type": "code",
      "execution_count": null,
      "metadata": {
        "id": "4houA-pXaByq"
      },
      "outputs": [],
      "source": [
        "def session(chef):\n",
        "  def wrapping():\n",
        "    print(\"adding the print value...\")\n",
        "    return chef()\n",
        "  return wrapping"
      ]
    },
    {
      "cell_type": "code",
      "execution_count": null,
      "metadata": {
        "id": "F2lQ3oXSaW_z"
      },
      "outputs": [],
      "source": [
        "@session\n",
        "def fry():\n",
        "  return \"fryinf good\"\n",
        "\n",
        "def grill():\n",
        "  return \"grilling the food\"\n",
        "\n",
        "def boil():\n",
        "  return \"boiling the food\""
      ]
    },
    {
      "cell_type": "code",
      "execution_count": null,
      "metadata": {
        "colab": {
          "base_uri": "https://localhost:8080/",
          "height": 53
        },
        "id": "0sesQwHJalZl",
        "outputId": "d7e7fda1-704d-4f96-f182-6d22d83a6101"
      },
      "outputs": [
        {
          "name": "stdout",
          "output_type": "stream",
          "text": [
            "adding the print value...\n"
          ]
        },
        {
          "data": {
            "application/vnd.google.colaboratory.intrinsic+json": {
              "type": "string"
            },
            "text/plain": [
              "'fryinf good'"
            ]
          },
          "execution_count": 9,
          "metadata": {},
          "output_type": "execute_result"
        }
      ],
      "source": [
        "fry()"
      ]
    },
    {
      "cell_type": "code",
      "execution_count": null,
      "metadata": {
        "colab": {
          "base_uri": "https://localhost:8080/",
          "height": 36
        },
        "id": "PbZ105s-anDf",
        "outputId": "a19b715b-a884-43b8-8eb0-96a31f22c427"
      },
      "outputs": [
        {
          "data": {
            "application/vnd.google.colaboratory.intrinsic+json": {
              "type": "string"
            },
            "text/plain": [
              "'grilling the food'"
            ]
          },
          "execution_count": 10,
          "metadata": {},
          "output_type": "execute_result"
        }
      ],
      "source": [
        "grill()"
      ]
    },
    {
      "cell_type": "code",
      "execution_count": null,
      "metadata": {
        "id": "fYM_Ks7sapoS"
      },
      "outputs": [],
      "source": [
        "# decorating function with parameter\n",
        "\n",
        "def simple_decorator(func):\n",
        "  def wrapper():\n",
        "    print(\"Before function execution\")\n",
        "    result = func()\n",
        "    return result\n",
        "  return wrapper\n",
        "\n",
        "@simple_decorator\n",
        "def greet():\n",
        "  return \"hello kashi\""
      ]
    },
    {
      "cell_type": "code",
      "execution_count": null,
      "metadata": {
        "colab": {
          "base_uri": "https://localhost:8080/",
          "height": 53
        },
        "id": "Q9CT81mrG5v-",
        "outputId": "e988ed22-bab9-42b4-98f3-ff3883251f4a"
      },
      "outputs": [
        {
          "name": "stdout",
          "output_type": "stream",
          "text": [
            "Before function execution\n"
          ]
        },
        {
          "data": {
            "application/vnd.google.colaboratory.intrinsic+json": {
              "type": "string"
            },
            "text/plain": [
              "'hello kashi'"
            ]
          },
          "execution_count": 27,
          "metadata": {},
          "output_type": "execute_result"
        }
      ],
      "source": [
        "greet()"
      ]
    },
    {
      "cell_type": "code",
      "execution_count": null,
      "metadata": {
        "id": "DThJ0myteWgr"
      },
      "outputs": [],
      "source": [
        "@simple_decorator\n",
        "def greet(name):\n",
        "  return f\"hello, {name}!\""
      ]
    },
    {
      "cell_type": "code",
      "execution_count": null,
      "metadata": {
        "id": "VjOex-V9gjRE"
      },
      "outputs": [],
      "source": [
        "# greet(\"madan\")"
      ]
    },
    {
      "cell_type": "code",
      "execution_count": null,
      "metadata": {
        "colab": {
          "base_uri": "https://localhost:8080/"
        },
        "id": "knYMNfQ3g4H5",
        "outputId": "63d300a3-39ef-404f-b571-df06757f7f2a"
      },
      "outputs": [
        {
          "name": "stdout",
          "output_type": "stream",
          "text": [
            "Before function execution\n",
            "hello kashi\n",
            "Before function execution\n",
            "hello, madan!\n"
          ]
        }
      ],
      "source": [
        "def simple_decorator(func):\n",
        "    def wrapper(*args, **kwargs):\n",
        "        print(\"Before function execution\")\n",
        "        result = func(*args, **kwargs)\n",
        "        return result\n",
        "    return wrapper\n",
        "\n",
        "@simple_decorator\n",
        "def greet():\n",
        "    return \"hello kashi\"\n",
        "\n",
        "@simple_decorator\n",
        "def greet_with_name(name):\n",
        "    return f\"hello, {name}!\"\n",
        "\n",
        "print(greet())\n",
        "print(greet_with_name(\"madan\"))\n"
      ]
    },
    {
      "cell_type": "code",
      "execution_count": null,
      "metadata": {
        "id": "KvS5uHpfiVjr"
      },
      "outputs": [],
      "source": [
        "# skill chalanged"
      ]
    },
    {
      "cell_type": "code",
      "execution_count": null,
      "metadata": {
        "id": "k4JCtU8dipdD"
      },
      "outputs": [],
      "source": [
        "# define a decorator called 'logger' that logs out the function name and args/kwrgs\n",
        "# of the function it is applied as well as result that the function returns"
      ]
    },
    {
      "cell_type": "code",
      "execution_count": null,
      "metadata": {
        "id": "MhbZ3P6ei8FA"
      },
      "outputs": [],
      "source": [
        "def logger(func):\n",
        "  def wrapper(*args, **kwargs):\n",
        "    print(f\"calling the function: {func.__name__} with argumnets:{args}, {kwargs}\")\n",
        "    result = func(*args, **kwargs)\n",
        "    print(f\"Function {func.__name__} returned: {result}\")\n",
        "    return result\n",
        "  return wrapper"
      ]
    },
    {
      "cell_type": "code",
      "execution_count": null,
      "metadata": {
        "colab": {
          "base_uri": "https://localhost:8080/"
        },
        "id": "6ZG4MpHUpGMO",
        "outputId": "7c236fe8-cd5a-4167-c972-9006b1a5b37e"
      },
      "outputs": [
        {
          "name": "stdout",
          "output_type": "stream",
          "text": [
            "calling the function: calculate_sum with argumnets:(4, 6), {'random_kw': 'hello there'}\n",
            "Function calculate_sum returned: 10\n"
          ]
        },
        {
          "data": {
            "text/plain": [
              "10"
            ]
          },
          "execution_count": 45,
          "metadata": {},
          "output_type": "execute_result"
        }
      ],
      "source": [
        "@logger\n",
        "def calculate_sum(a, b, **kwargs):\n",
        "  return a + b\n",
        "calculate_sum(4, 6, random_kw = \"hello there\")"
      ]
    },
    {
      "cell_type": "code",
      "execution_count": null,
      "metadata": {
        "id": "aR-wlzcIpM-4"
      },
      "outputs": [],
      "source": [
        "# skill challenged\n",
        "# define a decorator called 'repeat' that invokes a function of variable/unknown artiry twice\n",
        "# then, define a function called 'lotto_draw' that takes a start and number as argumnents and returns a number\n",
        "# decorate 'lotto_draw' with 'repeat' to get 2 random numbers"
      ]
    },
    {
      "cell_type": "code",
      "execution_count": null,
      "metadata": {
        "id": "1hWWZiwg3uOP"
      },
      "outputs": [],
      "source": [
        "# solutions\n",
        "\n",
        "def repeat(func):\n",
        "  def wrapper(*args, **kwargs):\n",
        "    func(*args, **kwargs)\n",
        "    func(*args, **kwargs)\n",
        "  return wrapper"
      ]
    },
    {
      "cell_type": "code",
      "execution_count": null,
      "metadata": {
        "id": "VdiH1fe55SSq"
      },
      "outputs": [],
      "source": [
        "from random import randint"
      ]
    },
    {
      "cell_type": "code",
      "execution_count": null,
      "metadata": {
        "id": "Zby-pzIA5Wfn"
      },
      "outputs": [],
      "source": [
        "@repeat\n",
        "def lott_draw(start, end):\n",
        "  number = randint(start, end)\n",
        "  print(f\"random draw number: {number}\")"
      ]
    },
    {
      "cell_type": "code",
      "execution_count": null,
      "metadata": {
        "colab": {
          "base_uri": "https://localhost:8080/"
        },
        "id": "0bzr8Edj5cBP",
        "outputId": "d03eb7bf-2884-4c2b-fa2a-adb8dba90179"
      },
      "outputs": [
        {
          "name": "stdout",
          "output_type": "stream",
          "text": [
            "random draw number: 14\n",
            "random draw number: 1\n"
          ]
        }
      ],
      "source": [
        "lott_draw(1, 45)"
      ]
    },
    {
      "cell_type": "code",
      "execution_count": null,
      "metadata": {
        "id": "vHQJbcU55w4W"
      },
      "outputs": [],
      "source": [
        "# skill challenge\n",
        "# define a decorator called 'timed' that measures the amount of time a given function\n",
        "# takes to run and prints that out in seconds then, define a function that takes some\n",
        "# number of seconds to run(eg. a long loop) and decorate it with 'timed'"
      ]
    },
    {
      "cell_type": "code",
      "execution_count": null,
      "metadata": {
        "id": "kpLKEoYm6e3L"
      },
      "outputs": [],
      "source": [
        "import time\n",
        "# time() -> since epoch, jan 1, 1970\n",
        "# perf_counter()\n",
        "\n",
        "def timed(func):\n",
        "  def wrapper(*args, **kwrgs):\n",
        "    start_time = time.perf_counter()\n",
        "    result = func(*args, **kwrgs)\n",
        "    end_time = time.perf_counter()\n",
        "\n",
        "    print(f\"Function {func.__name__} took {round(end_time - start_time, 4)} second to execute\")\n",
        "    return result\n",
        "  return wrapper"
      ]
    },
    {
      "cell_type": "code",
      "execution_count": null,
      "metadata": {
        "id": "a6MkEwdW_F14"
      },
      "outputs": [],
      "source": [
        "@timed\n",
        "def loop_this_many_time(n=10**6):\n",
        "  for i in range(n):\n",
        "    pass"
      ]
    },
    {
      "cell_type": "code",
      "execution_count": null,
      "metadata": {
        "colab": {
          "base_uri": "https://localhost:8080/"
        },
        "id": "f4X51awB_ec9",
        "outputId": "cbec9575-c4fd-49ef-cd2c-893c4b4c9aa3"
      },
      "outputs": [
        {
          "name": "stdout",
          "output_type": "stream",
          "text": [
            "Function loop_this_many_time took 0.03 second to execute\n"
          ]
        }
      ],
      "source": [
        "loop_this_many_time()"
      ]
    },
    {
      "cell_type": "code",
      "execution_count": null,
      "metadata": {
        "colab": {
          "base_uri": "https://localhost:8080/"
        },
        "id": "SNEkkgyL_hAH",
        "outputId": "db015916-9a51-4728-bd6c-c2d511684449"
      },
      "outputs": [
        {
          "name": "stdout",
          "output_type": "stream",
          "text": [
            "Function loop_this_many_time took 0.4958 second to execute\n"
          ]
        }
      ],
      "source": [
        "loop_this_many_time(10**7)"
      ]
    },
    {
      "cell_type": "code",
      "execution_count": null,
      "metadata": {
        "colab": {
          "base_uri": "https://localhost:8080/"
        },
        "id": "i88Yj59W_ktO",
        "outputId": "82e04650-62ba-4c10-88c9-9397d6e67d62"
      },
      "outputs": [
        {
          "name": "stdout",
          "output_type": "stream",
          "text": [
            "Function loop_this_many_time took 4.1575 second to execute\n"
          ]
        }
      ],
      "source": [
        "loop_this_many_time(10**8)"
      ]
    },
    {
      "cell_type": "code",
      "execution_count": null,
      "metadata": {
        "id": "53JjsILy_2r2"
      },
      "outputs": [],
      "source": [
        "# decorators and arguments"
      ]
    },
    {
      "cell_type": "code",
      "execution_count": null,
      "metadata": {
        "id": "nHLxZv7n__uw"
      },
      "outputs": [],
      "source": [
        "def calories_burned(duration_in_minutes, calories_burned_per_minute):\n",
        "  return duration_in_minutes * calories_burned_per_minute"
      ]
    },
    {
      "cell_type": "code",
      "execution_count": null,
      "metadata": {
        "colab": {
          "base_uri": "https://localhost:8080/"
        },
        "id": "LvWvbyENMDgh",
        "outputId": "cbb44f54-bd6c-4616-deb2-d08adfdedd38"
      },
      "outputs": [
        {
          "data": {
            "text/plain": [
              "300"
            ]
          },
          "execution_count": 2,
          "metadata": {},
          "output_type": "execute_result"
        }
      ],
      "source": [
        "calories_burned(30, 10)"
      ]
    },
    {
      "cell_type": "code",
      "execution_count": null,
      "metadata": {
        "id": "GkBkRENuMGmv"
      },
      "outputs": [],
      "source": [
        "def ensure_health_workout(func):\n",
        "  def wrapper(*args, **kwargs):\n",
        "    result = func(*args, **kwargs)\n",
        "    if result < 500:\n",
        "      print(\"this workout was not instense enough\")\n",
        "    else:\n",
        "      print(f\"welldone!! Target by {result-500} calories!!\")\n",
        "  return wrapper\n"
      ]
    },
    {
      "cell_type": "code",
      "execution_count": null,
      "metadata": {
        "id": "ZrNO-bVhMu0b"
      },
      "outputs": [],
      "source": [
        "@ensure_health_workout\n",
        "def calories_burned(duration_in_minutes, calories_burned_per_minute):\n",
        "  return duration_in_minutes * calories_burned_per_minute"
      ]
    },
    {
      "cell_type": "code",
      "execution_count": null,
      "metadata": {
        "colab": {
          "base_uri": "https://localhost:8080/"
        },
        "id": "TcSlaJYrM37G",
        "outputId": "61fcc8a0-051e-489b-a643-578e4d005af8"
      },
      "outputs": [
        {
          "name": "stdout",
          "output_type": "stream",
          "text": [
            "this workout was not instense enough\n"
          ]
        }
      ],
      "source": [
        "calories_burned(30, 10)"
      ]
    },
    {
      "cell_type": "code",
      "execution_count": null,
      "metadata": {
        "colab": {
          "base_uri": "https://localhost:8080/"
        },
        "id": "1UbOmVC_M7Gq",
        "outputId": "7b2c584e-c9aa-4e59-d103-ec3c69b77ee5"
      },
      "outputs": [
        {
          "name": "stdout",
          "output_type": "stream",
          "text": [
            "welldone!! Target by 100 calories!!\n"
          ]
        }
      ],
      "source": [
        "calories_burned(60, 10)"
      ]
    },
    {
      "cell_type": "code",
      "execution_count": null,
      "metadata": {
        "id": "Ngo3DOLCpN1Z"
      },
      "outputs": [],
      "source": [
        "def ensure_health_workout(calories_target):\n",
        "  def actual_decorator(func):\n",
        "    def wrapper(*args, **kwargs):\n",
        "      result = func(*args, **kwargs)\n",
        "      if result < calories_target:\n",
        "        print(\"this workout was not instense enough\")\n",
        "      else:\n",
        "        print(f\"welldone!! Target by {result- calories_target} calories!!\")\n",
        "    return wrapper\n",
        "  return actual_decorator"
      ]
    },
    {
      "cell_type": "code",
      "execution_count": null,
      "metadata": {
        "id": "vwNIfyoponZg"
      },
      "outputs": [],
      "source": [
        "@ensure_health_workout(calories_target = 700)\n",
        "def calories_burned(duration_in_minutes, calories_burned_per_minute):\n",
        "  return duration_in_minutes * calories_burned_per_minute"
      ]
    },
    {
      "cell_type": "code",
      "execution_count": null,
      "metadata": {
        "colab": {
          "base_uri": "https://localhost:8080/"
        },
        "id": "iEcWW56YqFD5",
        "outputId": "e47f317a-204f-41c8-af46-50801b933a5b"
      },
      "outputs": [
        {
          "name": "stdout",
          "output_type": "stream",
          "text": [
            "this workout was not instense enough\n"
          ]
        }
      ],
      "source": [
        "calories_burned(60, 10)"
      ]
    },
    {
      "cell_type": "code",
      "execution_count": null,
      "metadata": {
        "colab": {
          "base_uri": "https://localhost:8080/"
        },
        "id": "zIHSuKYQqI2D",
        "outputId": "4846b694-21be-4652-a02c-c5988e845201"
      },
      "outputs": [
        {
          "name": "stdout",
          "output_type": "stream",
          "text": [
            "welldone!! Target by 100 calories!!\n"
          ]
        }
      ],
      "source": [
        "calories_burned(80, 10)"
      ]
    },
    {
      "cell_type": "code",
      "execution_count": null,
      "metadata": {
        "id": "B7xLtgPeqN-4"
      },
      "outputs": [],
      "source": []
    },
    {
      "cell_type": "markdown",
      "metadata": {
        "id": "UM0HlmF_qauo"
      },
      "source": [
        "skill challenged -repeated lotto draw\n",
        "\n",
        "in early challenged, we defined a 'repeat' decorator that invoked a given function twice. It's time to generalize that implementation so that it invokes a given function any number of times, instead of just twice\n",
        "\n",
        "the 'repeat' decorator should work with any function that returns numeric values\n",
        "it should accept an argument that specifies the number of time the decorated function is invoked, and return a list of the numbers returnd in sorted order\n",
        "apply the new 'repeat' decorator to the lotto_draw function to obtain 7 random generated integers"
      ]
    },
    {
      "cell_type": "code",
      "execution_count": null,
      "metadata": {
        "id": "-IlsdMe4rfrA"
      },
      "outputs": [],
      "source": [
        "def repeat(num_time):\n",
        "  def decorator(func):\n",
        "    def inner(*args, **kwargs):\n",
        "      result = []\n",
        "      for _ in range(num_time):\n",
        "        number = func(*args, **kwargs)\n",
        "        result.append(number)\n",
        "      return sorted(result)\n",
        "    return inner\n",
        "  return decorator\n"
      ]
    },
    {
      "cell_type": "code",
      "execution_count": null,
      "metadata": {
        "id": "9VeL65X4wjna"
      },
      "outputs": [],
      "source": [
        "import random\n",
        "\n",
        "@repeat(num_time = 7)\n",
        "def lott_draw(start, end):\n",
        "  return random.randint(start, end)\n"
      ]
    },
    {
      "cell_type": "code",
      "execution_count": null,
      "metadata": {
        "colab": {
          "base_uri": "https://localhost:8080/"
        },
        "id": "rfAUjN1dw_Y4",
        "outputId": "95041b46-5874-41ca-ae0e-f966ca429b77"
      },
      "outputs": [
        {
          "data": {
            "text/plain": [
              "[2, 4, 10, 35, 36, 45, 49]"
            ]
          },
          "execution_count": 29,
          "metadata": {},
          "output_type": "execute_result"
        }
      ],
      "source": [
        "lott_draw(2, 55)"
      ]
    },
    {
      "cell_type": "code",
      "execution_count": null,
      "metadata": {
        "id": "c8r3efuoxGbu"
      },
      "outputs": [],
      "source": [
        "# chaining multiple decorators"
      ]
    },
    {
      "cell_type": "code",
      "execution_count": null,
      "metadata": {
        "id": "gU7A9MlHxRVS"
      },
      "outputs": [],
      "source": [
        "def uppercase(func):\n",
        "  def wrapper():\n",
        "    result = func()\n",
        "    return result.upper()\n",
        "  return wrapper\n",
        "\n",
        "def split(func):\n",
        "  def wrapper():\n",
        "    result = func()\n",
        "    return result.split()\n",
        "  return wrapper"
      ]
    },
    {
      "cell_type": "code",
      "execution_count": null,
      "metadata": {
        "id": "vEx-j3Pq0gwj"
      },
      "outputs": [],
      "source": [
        "# target function\n",
        "\n",
        "@split\n",
        "@uppercase\n",
        "def passphrase():\n",
        "  return \"horizontal omit station Reflection\""
      ]
    },
    {
      "cell_type": "code",
      "execution_count": null,
      "metadata": {
        "colab": {
          "base_uri": "https://localhost:8080/"
        },
        "id": "MljSGXy20t1S",
        "outputId": "c8259b97-cb8c-4d12-c0ab-57b71d3fdbf6"
      },
      "outputs": [
        {
          "data": {
            "text/plain": [
              "['HORIZONTAL', 'OMIT', 'STATION', 'REFLECTION']"
            ]
          },
          "execution_count": 33,
          "metadata": {},
          "output_type": "execute_result"
        }
      ],
      "source": [
        "passphrase()"
      ]
    },
    {
      "cell_type": "code",
      "execution_count": null,
      "metadata": {
        "id": "90eRxSJt0xeM"
      },
      "outputs": [],
      "source": [
        "# preserving identity with @wraper"
      ]
    },
    {
      "cell_type": "code",
      "execution_count": null,
      "metadata": {
        "colab": {
          "base_uri": "https://localhost:8080/"
        },
        "id": "Kkos5ASy3GYa",
        "outputId": "8fb66461-0eb5-437c-b050-9c4e4bbcd6fa"
      },
      "outputs": [
        {
          "data": {
            "text/plain": [
              "<function __main__.split.<locals>.wrapper()>"
            ]
          },
          "execution_count": 35,
          "metadata": {},
          "output_type": "execute_result"
        }
      ],
      "source": [
        "passphrase"
      ]
    },
    {
      "cell_type": "code",
      "execution_count": null,
      "metadata": {
        "colab": {
          "base_uri": "https://localhost:8080/",
          "height": 36
        },
        "id": "WeFGfgbi3Hnf",
        "outputId": "05eeca86-4cde-45b6-e589-506cf421fd59"
      },
      "outputs": [
        {
          "data": {
            "application/vnd.google.colaboratory.intrinsic+json": {
              "type": "string"
            },
            "text/plain": [
              "'wrapper'"
            ]
          },
          "execution_count": 36,
          "metadata": {},
          "output_type": "execute_result"
        }
      ],
      "source": [
        "passphrase.__name__"
      ]
    },
    {
      "cell_type": "code",
      "execution_count": null,
      "metadata": {
        "id": "0P1OYlC23QTr"
      },
      "outputs": [],
      "source": [
        "passphrase.__doc__"
      ]
    },
    {
      "cell_type": "code",
      "execution_count": null,
      "metadata": {
        "id": "tdVNX96x3ToZ"
      },
      "outputs": [],
      "source": [
        "# functools -> wraps\n",
        "from functools import wraps\n",
        "\n",
        "def split(func):\n",
        "  @wraps(func)\n",
        "  def wrapper():\n",
        "    result = func()\n",
        "    return result.split()\n",
        "  return wrapper\n"
      ]
    },
    {
      "cell_type": "code",
      "execution_count": null,
      "metadata": {
        "id": "1gLKr_Bo4nMN"
      },
      "outputs": [],
      "source": [
        "@split\n",
        "def passphrase():\n",
        "  \"\"\"Return a string.\"\"\"\n",
        "  return \"horizontal omit station Reflection\""
      ]
    },
    {
      "cell_type": "code",
      "execution_count": null,
      "metadata": {
        "colab": {
          "base_uri": "https://localhost:8080/"
        },
        "id": "jjdWFNMe41h1",
        "outputId": "06e98011-41b6-442e-d7ee-01338c0bd8f8"
      },
      "outputs": [
        {
          "data": {
            "text/plain": [
              "['horizontal', 'omit', 'station', 'Reflection']"
            ]
          },
          "execution_count": 40,
          "metadata": {},
          "output_type": "execute_result"
        }
      ],
      "source": [
        "passphrase()"
      ]
    },
    {
      "cell_type": "code",
      "execution_count": null,
      "metadata": {
        "colab": {
          "base_uri": "https://localhost:8080/",
          "height": 36
        },
        "id": "D71pKjdE458Z",
        "outputId": "cc99cc20-2e31-4673-836c-0d983f5f8c44"
      },
      "outputs": [
        {
          "data": {
            "application/vnd.google.colaboratory.intrinsic+json": {
              "type": "string"
            },
            "text/plain": [
              "'passphrase'"
            ]
          },
          "execution_count": 41,
          "metadata": {},
          "output_type": "execute_result"
        }
      ],
      "source": [
        "passphrase.__name__"
      ]
    },
    {
      "cell_type": "code",
      "execution_count": null,
      "metadata": {
        "colab": {
          "base_uri": "https://localhost:8080/",
          "height": 36
        },
        "id": "1EilwuMB49-w",
        "outputId": "79aaedbf-4b27-4767-87cd-31ac7c008ba6"
      },
      "outputs": [
        {
          "data": {
            "application/vnd.google.colaboratory.intrinsic+json": {
              "type": "string"
            },
            "text/plain": [
              "'Return a string.'"
            ]
          },
          "execution_count": 42,
          "metadata": {},
          "output_type": "execute_result"
        }
      ],
      "source": [
        "passphrase.__doc__"
      ]
    },
    {
      "cell_type": "code",
      "execution_count": null,
      "metadata": {
        "colab": {
          "base_uri": "https://localhost:8080/"
        },
        "id": "miHjDNof5AQA",
        "outputId": "b71ab8c8-9d31-4e81-9308-f6b0e16052c8"
      },
      "outputs": [
        {
          "data": {
            "text/plain": [
              "True"
            ]
          },
          "execution_count": 43,
          "metadata": {},
          "output_type": "execute_result"
        }
      ],
      "source": [
        "passphrase.__wrapped__.__name__ is passphrase.__name__"
      ]
    },
    {
      "cell_type": "code",
      "execution_count": null,
      "metadata": {
        "id": "EFkp5T9Y5dAu"
      },
      "outputs": [],
      "source": [
        "# __name__, __doc__, __module__, __annotations__ ----(assignments)"
      ]
    },
    {
      "cell_type": "code",
      "execution_count": null,
      "metadata": {
        "id": "4sqZQGHH5tO9"
      },
      "outputs": [],
      "source": []
    },
    {
      "cell_type": "markdown",
      "metadata": {
        "id": "hWzB5jmW58sB"
      },
      "source": [
        "write a placeholder function called 'downloader'(user_id,resource) that simulates the generation of a download link. For our purposes that could simply be uuid() or a random alphanumeric string\n",
        "\n",
        "then defined a decorator that progressively slow down the downloads for a given user by doubling the limit it takes for the download link to generated eg. the first invocation happens instantly, the second one takes 1 second, the third 2 second, the fourth 4 second, and so on.\n",
        "note that delay should be user-specific, but not resource specific"
      ]
    },
    {
      "cell_type": "code",
      "execution_count": null,
      "metadata": {
        "id": "hxXLq-mp8ZSO"
      },
      "outputs": [],
      "source": [
        "import time\n",
        "user_delay = {}\n",
        "\n",
        "def delay_decorator(func):\n",
        "  def wrapper(*args, **kwargs):\n",
        "    delay = user_delay.get(kwargs.get(\"user_id\"), 0)\n",
        "    user_delay[kwargs.get(\"user_id\")] = max(1, delay * 2)\n",
        "\n",
        "    if delay > 0:\n",
        "      print(f\"your download will start in {delay}s\")\n",
        "\n",
        "    time.sleep(delay)\n",
        "    return func(*args, **kwargs)\n",
        "\n",
        "\n",
        "  return wrapper"
      ]
    },
    {
      "cell_type": "code",
      "execution_count": null,
      "metadata": {
        "id": "v96DmpBM6693"
      },
      "outputs": [],
      "source": [
        "@delay_decorator\n",
        "\n",
        "def download(user_id, resource):\n",
        "  download_uuid = uuid4()\n",
        "  download_url = f\"andybek.com/{download_uuid}\"\n",
        "\n",
        "  return f\"Your resource is ready at:{download_url}\""
      ]
    },
    {
      "cell_type": "code",
      "execution_count": null,
      "metadata": {
        "colab": {
          "base_uri": "https://localhost:8080/",
          "height": 53
        },
        "id": "YtwG3xmF7x4r",
        "outputId": "c4de5a83-958f-47bc-b747-175a6fa8ea1c"
      },
      "outputs": [
        {
          "name": "stdout",
          "output_type": "stream",
          "text": [
            "your download will start in 4s\n"
          ]
        },
        {
          "data": {
            "application/vnd.google.colaboratory.intrinsic+json": {
              "type": "string"
            },
            "text/plain": [
              "'Your resource is ready at:andybek.com/35a8d221-dc6c-4c07-9b4f-9351cb4e7cfc'"
            ]
          },
          "execution_count": 59,
          "metadata": {},
          "output_type": "execute_result"
        }
      ],
      "source": [
        "download(3, \"python\")"
      ]
    },
    {
      "cell_type": "code",
      "execution_count": null,
      "metadata": {
        "id": "8Cx3qcFK7zZl"
      },
      "outputs": [],
      "source": [
        "# authentication workflow"
      ]
    },
    {
      "cell_type": "code",
      "execution_count": null,
      "metadata": {
        "id": "oJrgzWL0-zui"
      },
      "outputs": [],
      "source": []
    },
    {
      "cell_type": "markdown",
      "metadata": {
        "id": "rDrODR_3-03q"
      },
      "source": [
        "write a basic function that exposes a menu with 3 opetions:\n",
        "a view Roster\n",
        "Upvote\n",
        "Add to Roster\n",
        "Quite\n",
        "\n",
        "each of these options invokes their own respective functions, with the exception of 'Quit' which simply exists the menu\n",
        "\n",
        "1) view Roster prints a list od names and votes, in descending order by votes.For simplicity, this information is stored locally as a python list of dicts.\n",
        "\n",
        "2) Upvote adds 1 vote to the specified user\n",
        "3) Add to Roster allows the user to add a new name to the list"
      ]
    },
    {
      "cell_type": "code",
      "execution_count": null,
      "metadata": {
        "id": "Y5cC5kHt_zxd"
      },
      "outputs": [],
      "source": [
        "# application level\n",
        "ROSTER = [\n",
        "    {\"name\": \"Alice\",\"votes\":12},\n",
        "    {\"name\": \"Dinku\",\"votes\":18},\n",
        "    {\"name\": \"Mathu\",\"votes\":11}\n",
        "\n",
        "]\n",
        "\n",
        "def menu():\n",
        "  while True:\n",
        "    print(\"\"\"\n",
        "    a. View Roster\n",
        "    b. Upvote\n",
        "    c. Add to Roster\n",
        "    d.Quite\n",
        "    \"\"\")\n",
        "\n",
        "    option = input(\"enter option: \").lower()\n",
        "\n",
        "    if option == \"a\":\n",
        "      pass\n",
        "    elif option == \"b\":\n",
        "      upvote()\n",
        "    elif option == \"c\":\n",
        "      pass\n",
        "    elif option == \"d\":\n",
        "      pass\n",
        "    else:\n",
        "      break\n",
        "\n",
        "def view_roster():\n",
        "  sorted(ROSTER, key=lambda p: p[\"votes\"], reverse=True)\n",
        "\n",
        "  for p in sorted_roster:\n",
        "    print(f\"{p['name']}{p['votes']}\")\n",
        "\n",
        "\n",
        "def upvote():\n",
        "  name = input(\"enter the name of the person to upvote: \").lower()\n",
        "\n",
        "  for p in ROSTER:\n",
        "    if p[\"name\"].lower() == name:\n",
        "      p[\"votes\"] += 1\n",
        "      print(f\"UPvoted {p['name']}!\")\n",
        "      return\n",
        "\n",
        "    print(\"Name was not found\")\n",
        "\n",
        "  def add_to_roster():\n",
        "    name = input(\"Enter the name of the person to add: \")\n",
        "    ROSTER.append({\"name\": name, \"votes\":0})\n",
        "    print(f\"Added{name} to the roster!\")\n",
        "\n"
      ]
    },
    {
      "cell_type": "code",
      "execution_count": null,
      "metadata": {
        "colab": {
          "background_save": true,
          "base_uri": "https://localhost:8080/"
        },
        "id": "R_YZDpwzREwo",
        "outputId": "7aa84f42-de41-4de4-fe40-5531f8f4cce6"
      },
      "outputs": [
        {
          "name": "stdout",
          "output_type": "stream",
          "text": [
            "\n",
            "    a. View Roster\n",
            "    b. Upvote\n",
            "    c. Add to Roster\n",
            "    d.Quite\n",
            "    \n",
            "\n",
            "    a. View Roster\n",
            "    b. Upvote\n",
            "    c. Add to Roster\n",
            "    d.Quite\n",
            "    \n",
            "\n",
            "    a. View Roster\n",
            "    b. Upvote\n",
            "    c. Add to Roster\n",
            "    d.Quite\n",
            "    \n",
            "\n",
            "    a. View Roster\n",
            "    b. Upvote\n",
            "    c. Add to Roster\n",
            "    d.Quite\n",
            "    \n",
            "\n",
            "    a. View Roster\n",
            "    b. Upvote\n",
            "    c. Add to Roster\n",
            "    d.Quite\n",
            "    \n",
            "\n",
            "    a. View Roster\n",
            "    b. Upvote\n",
            "    c. Add to Roster\n",
            "    d.Quite\n",
            "    \n"
          ]
        }
      ],
      "source": [
        "menu()"
      ]
    },
    {
      "cell_type": "code",
      "execution_count": null,
      "metadata": {
        "id": "XeQLxQ7cRFek"
      },
      "outputs": [],
      "source": []
    }
  ],
  "metadata": {
    "colab": {
      "provenance": []
    },
    "kernelspec": {
      "display_name": "Python 3",
      "name": "python3"
    },
    "language_info": {
      "name": "python"
    }
  },
  "nbformat": 4,
  "nbformat_minor": 0
}