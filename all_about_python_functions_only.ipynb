{
 "cells": [
  {
   "cell_type": "markdown",
   "metadata": {},
   "source": [
    "# defult arguments"
   ]
  },
  {
   "cell_type": "code",
   "execution_count": 3,
   "metadata": {},
   "outputs": [],
   "source": [
    "\n",
    "def printinfo(name, age =26):\n",
    "    print('Name',name)\n",
    "    print('age', age)\n",
    "    return;\n"
   ]
  },
  {
   "cell_type": "markdown",
   "metadata": {},
   "source": [
    "# to call defult argument function"
   ]
  },
  {
   "cell_type": "code",
   "execution_count": 4,
   "metadata": {},
   "outputs": [
    {
     "name": "stdout",
     "output_type": "stream",
     "text": [
      "Name kashi\n",
      "age 25\n",
      "Name ashok\n",
      "age 26\n"
     ]
    }
   ],
   "source": [
    "\n",
    "printinfo(age=25, name='kashi')\n",
    "printinfo(name='ashok')"
   ]
  },
  {
   "cell_type": "code",
   "execution_count": 5,
   "metadata": {},
   "outputs": [
    {
     "name": "stdout",
     "output_type": "stream",
     "text": [
      "name binod\n",
      "age 22\n",
      "name diraj\n",
      "age 24\n"
     ]
    }
   ],
   "source": [
    "def simpleinfo(name, age=24):\n",
    "    print('name',name)\n",
    "    print('age', age)\n",
    "    return;\n",
    "# to call the function\n",
    "simpleinfo(age=22,name='binod')\n",
    "simpleinfo(name='diraj')"
   ]
  },
  {
   "cell_type": "markdown",
   "metadata": {},
   "source": [
    "# keywords arguements"
   ]
  },
  {
   "cell_type": "code",
   "execution_count": 7,
   "metadata": {},
   "outputs": [
    {
     "name": "stdout",
     "output_type": "stream",
     "text": [
      "it is keyword argument example\n"
     ]
    }
   ],
   "source": [
    "\n",
    "def keyargment1(str):\n",
    "    print(str)\n",
    "    return;\n",
    "# call to the function\n",
    "keyargment1(str='it is keyword argument example')"
   ]
  },
  {
   "cell_type": "markdown",
   "metadata": {},
   "source": [
    "# variable-length arguments synax :def funname([formal_args,]*var_args_tuple):\n",
    "# z = argument[]+...... in the form of tuple\n",
    "# print(z)\n",
    "# call function( numbers...., tuples[])"
   ]
  },
  {
   "cell_type": "code",
   "execution_count": 8,
   "metadata": {},
   "outputs": [
    {
     "name": "stdout",
     "output_type": "stream",
     "text": [
      "13246\n"
     ]
    }
   ],
   "source": [
    "# variable length argument\n",
    "# first define of function\n",
    "def add(*num):\n",
    "    z = num[0]+num[1]+num[2]\n",
    "    print(z)\n",
    "add(6785,5564,897)"
   ]
  },
  {
   "cell_type": "markdown",
   "metadata": {},
   "source": [
    "# built in function::"
   ]
  },
  {
   "cell_type": "code",
   "execution_count": 10,
   "metadata": {},
   "outputs": [
    {
     "name": "stdout",
     "output_type": "stream",
     "text": [
      "s\n",
      "a\n",
      "5\n"
     ]
    }
   ],
   "source": [
    "s= 'kashi'\n",
    "print(max(s))\n",
    "\n",
    "print(min(s))\n",
    "print(len(s))"
   ]
  },
  {
   "cell_type": "markdown",
   "metadata": {},
   "source": [
    "# math functions"
   ]
  },
  {
   "cell_type": "code",
   "execution_count": 11,
   "metadata": {},
   "outputs": [],
   "source": [
    "from math import *"
   ]
  },
  {
   "cell_type": "code",
   "execution_count": 17,
   "metadata": {},
   "outputs": [
    {
     "name": "stdout",
     "output_type": "stream",
     "text": [
      "1.0\n"
     ]
    }
   ],
   "source": [
    "theta=45\n",
    "(sin(theta)+cos(theta)*tan(theta))\n",
    "theta2 =90\n",
    "print(tan(theta2)*cos(theta2)/sin(theta2))\n",
    "\n"
   ]
  },
  {
   "cell_type": "markdown",
   "metadata": {},
   "source": [
    "theta 1=90\n",
    "\n",
    "Theta 2=89\n",
    "\n",
    "Theta 3=120\n",
    "\n",
    "Find?\n",
    "\n",
    "1)sin(theta 1)+ cos(theta 3)*tan(theta 2)\n",
    "\n",
    "proof that\n",
    "\n",
    "if theta=120\n",
    "\n",
    "sin(theta )*sin(theta)=sin^2(theta)"
   ]
  },
  {
   "cell_type": "code",
   "execution_count": 9,
   "metadata": {},
   "outputs": [
    {
     "name": "stdout",
     "output_type": "stream",
     "text": [
      "Expression result: -27.644980815379558\n",
      "Left side: 0.7500000000000001\n",
      "Right side: 0.7500000000000001\n",
      "Identity proof: True\n"
     ]
    }
   ],
   "source": [
    "import math\n",
    "\n",
    "# Define the values\n",
    "theta1 = 90\n",
    "theta2 = 89\n",
    "theta3 = 120\n",
    "\n",
    "# Calculate the expression\n",
    "result = math.sin(math.radians(theta1)) + math.cos(math.radians(theta3)) * math.tan(math.radians(theta2))\n",
    "print(\"Expression result:\", result)\n",
    "\n",
    "# Prove the identity\n",
    "theta = 120\n",
    "left_side = math.sin(math.radians(theta)) * math.sin(math.radians(theta))\n",
    "right_side = math.sin(math.radians(theta))**2\n",
    "print(\"Left side:\", left_side)\n",
    "print(\"Right side:\", right_side)\n",
    "print(\"Identity proof:\", left_side == right_side)\n"
   ]
  },
  {
   "cell_type": "markdown",
   "metadata": {},
   "source": [
    "# the anonymous function\n",
    "# this is called anonymous function beacuse they are not declared in standard manner by using the def keyword. you can use the lambda keywords to create small anonymous function\n",
    "# syntax::F = lambda[arg1[arg2...argn]]:expression\n",
    "print(F(n))"
   ]
  },
  {
   "cell_type": "code",
   "execution_count": 18,
   "metadata": {},
   "outputs": [
    {
     "name": "stdout",
     "output_type": "stream",
     "text": [
      "77\n"
     ]
    }
   ],
   "source": [
    "# lamda function anonymous function\n",
    "# addition of two numbers\n",
    "# cube of a number\n",
    "# number which even or odd\n",
    "sk= lambda a,b:a+b\n",
    "print(sk(44,33))"
   ]
  },
  {
   "cell_type": "code",
   "execution_count": 19,
   "metadata": {},
   "outputs": [
    {
     "name": "stdout",
     "output_type": "stream",
     "text": [
      "27\n"
     ]
    }
   ],
   "source": [
    "m = lambda x:x**3\n",
    "print(m(3))"
   ]
  },
  {
   "cell_type": "code",
   "execution_count": 21,
   "metadata": {},
   "outputs": [
    {
     "name": "stdout",
     "output_type": "stream",
     "text": [
      "it is even\n"
     ]
    }
   ],
   "source": [
    "r = lambda r: 'it is even' if r%2==0 else 'it is odd'\n",
    "print(r(34))"
   ]
  },
  {
   "cell_type": "markdown",
   "metadata": {},
   "source": [
    "# Reduction function : we use functool from python library: from functool import reduce, reduction function uses a list to perform a logical operation"
   ]
  },
  {
   "cell_type": "code",
   "execution_count": 23,
   "metadata": {},
   "outputs": [
    {
     "name": "stdout",
     "output_type": "stream",
     "text": [
      "36\n",
      "-34\n"
     ]
    }
   ],
   "source": [
    "from functools import reduce\n",
    "lst = [1,2,3,4,5,6,7,8]\n",
    "print(reduce(lambda x,y:x+y,lst))\n",
    "print(reduce(lambda x,y:x-y,lst))"
   ]
  },
  {
   "cell_type": "code",
   "execution_count": 7,
   "metadata": {},
   "outputs": [
    {
     "name": "stdout",
     "output_type": "stream",
     "text": [
      "Sum: 54\n",
      "Product: 8709120\n",
      "Difference: 0\n",
      "Multiplication: 8709120\n"
     ]
    }
   ],
   "source": [
    "from functools import reduce\n",
    "\n",
    "# Custom generator function for element-wise operations\n",
    "def elementwise_generator(a, b, operation):\n",
    "    for i, j in zip(a, b):\n",
    "        yield operation(i, j)\n",
    "\n",
    "# Define the lists\n",
    "A = [1, 2, 3, 4, 5, 6]\n",
    "B = [7, 8, 9, 2, 3, 4]\n",
    "\n",
    "# 1) Sum using reduce and custom generator\n",
    "sum_result = reduce(lambda x, y: x + y, elementwise_generator(A, B, lambda x, y: x + y))\n",
    "print(\"Sum:\", sum_result)\n",
    "\n",
    "# 2) Product using reduce and custom generator\n",
    "product_result = reduce(lambda x, y: x * y, elementwise_generator(A, B, lambda x, y: x * y))\n",
    "print(\"Product:\", product_result)\n",
    "\n",
    "# 3) Difference using reduce and custom generator\n",
    "difference_result = reduce(lambda x, y: x - y, elementwise_generator(A, B, lambda x, y: x - y))\n",
    "print(\"Difference:\", difference_result)\n",
    "\n",
    "# 4) Multiplication using reduce and custom generator\n",
    "multiplication_result = reduce(lambda x, y: x * y, elementwise_generator(A, B, lambda x, y: x * y))\n",
    "print(\"Multiplication:\", multiplication_result)\n"
   ]
  },
  {
   "cell_type": "markdown",
   "metadata": {},
   "source": [
    "# decorator function:"
   ]
  },
  {
   "cell_type": "markdown",
   "metadata": {},
   "source": [
    "# this function which return another function at same time.it is going to decorde add a special meaning to a function, which has passed."
   ]
  },
  {
   "cell_type": "code",
   "execution_count": 6,
   "metadata": {},
   "outputs": [],
   "source": [
    "def decore(fun):\n",
    "    def inner():\n",
    "        result = fun()\n",
    "        return result *4\n",
    "    return inner"
   ]
  },
  {
   "cell_type": "code",
   "execution_count": 7,
   "metadata": {},
   "outputs": [],
   "source": [
    "# now invoke function\n",
    "def num():\n",
    "    return 9"
   ]
  },
  {
   "cell_type": "code",
   "execution_count": 9,
   "metadata": {},
   "outputs": [
    {
     "name": "stdout",
     "output_type": "stream",
     "text": [
      "36\n"
     ]
    }
   ],
   "source": [
    "resultfun = decore(num)\n",
    "print(resultfun())"
   ]
  },
  {
   "cell_type": "markdown",
   "metadata": {},
   "source": [
    "Use Decorator Function and Lambda Function ?\n",
    "\n",
    "Questions for this assignment\n",
    "Use Decorator Function and Lambda Function\n",
    "\n",
    "Calculate\n",
    "\n",
    "1) Product\n",
    "\n",
    "2) Cube\n",
    "\n",
    "x=12\n",
    "\n",
    "y=90\n",
    "\n"
   ]
  },
  {
   "cell_type": "code",
   "execution_count": 8,
   "metadata": {},
   "outputs": [
    {
     "name": "stdout",
     "output_type": "stream",
     "text": [
      "Product: 1080\n",
      "Cube: 1728\n"
     ]
    }
   ],
   "source": [
    "# Decorator function to modify the behavior of a function\n",
    "def decorator_function(func):\n",
    "    def modified_function(*args, **kwargs):\n",
    "        return func(*args, **kwargs)\n",
    "    return modified_function\n",
    "\n",
    "# Lambda function to calculate the product\n",
    "product = decorator_function(lambda x, y: x * y)\n",
    "\n",
    "# Lambda function to calculate the cube\n",
    "cube = decorator_function(lambda x: x ** 3)\n",
    "\n",
    "# Define the values\n",
    "x = 12\n",
    "y = 90\n",
    "\n",
    "# Calculate the product\n",
    "product_result = product(x, y)\n",
    "print(\"Product:\", product_result)\n",
    "\n",
    "# Calculate the cube\n",
    "cube_result = cube(x)\n",
    "print(\"Cube:\", cube_result)\n"
   ]
  },
  {
   "cell_type": "markdown",
   "metadata": {},
   "source": [
    "# custom generator function\n"
   ]
  },
  {
   "cell_type": "code",
   "execution_count": 5,
   "metadata": {},
   "outputs": [
    {
     "name": "stdout",
     "output_type": "stream",
     "text": [
      "23\n",
      "24\n",
      "25\n",
      "26\n",
      "27\n",
      "28\n",
      "29\n",
      "30\n",
      "31\n",
      "32\n",
      "33\n",
      "34\n",
      "35\n",
      "36\n",
      "37\n",
      "38\n",
      "39\n",
      "40\n",
      "41\n",
      "42\n",
      "43\n",
      "44\n",
      "45\n",
      "46\n",
      "47\n",
      "48\n",
      "49\n"
     ]
    }
   ],
   "source": [
    "def customgen(x,y):\n",
    "    \n",
    "    while(x<y):\n",
    "        yield x\n",
    "        x+=1\n",
    "# invoke function\n",
    "a=customgen(23,50)\n",
    "for number in a:\n",
    "    print(number)        "
   ]
  },
  {
   "cell_type": "code",
   "execution_count": 6,
   "metadata": {},
   "outputs": [
    {
     "name": "stdout",
     "output_type": "stream",
     "text": [
      "23\n",
      "25\n",
      "27\n",
      "29\n",
      "31\n",
      "33\n",
      "35\n",
      "37\n",
      "39\n",
      "41\n",
      "43\n",
      "45\n",
      "47\n",
      "49\n"
     ]
    }
   ],
   "source": [
    "def customgen(x,y):\n",
    "    \n",
    "    while(x<y):\n",
    "        yield x\n",
    "        x+=2\n",
    "# invoke function\n",
    "a=customgen(23,50)\n",
    "for number in a:\n",
    "    print(number)    "
   ]
  },
  {
   "cell_type": "code",
   "execution_count": null,
   "metadata": {},
   "outputs": [],
   "source": []
  }
 ],
 "metadata": {
  "kernelspec": {
   "display_name": "Python 3",
   "language": "python",
   "name": "python3"
  },
  "language_info": {
   "codemirror_mode": {
    "name": "ipython",
    "version": 3
   },
   "file_extension": ".py",
   "mimetype": "text/x-python",
   "name": "python",
   "nbconvert_exporter": "python",
   "pygments_lexer": "ipython3",
   "version": "3.7.4"
  }
 },
 "nbformat": 4,
 "nbformat_minor": 2
}
