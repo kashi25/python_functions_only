{
  "nbformat": 4,
  "nbformat_minor": 0,
  "metadata": {
    "colab": {
      "provenance": []
    },
    "kernelspec": {
      "name": "python3",
      "display_name": "Python 3"
    },
    "language_info": {
      "name": "python"
    }
  },
  "cells": [
    {
      "cell_type": "markdown",
      "source": [
        "## Introduction to Python Functions"
      ],
      "metadata": {
        "id": "b1sX6QxTGJm7"
      }
    },
    {
      "cell_type": "code",
      "source": [
        "def greet():\n",
        "    return \"Hello, there!\""
      ],
      "metadata": {
        "id": "0_IJESRRGD8G"
      },
      "execution_count": 25,
      "outputs": []
    },
    {
      "cell_type": "code",
      "source": [
        "greet()"
      ],
      "metadata": {
        "colab": {
          "base_uri": "https://localhost:8080/",
          "height": 36
        },
        "id": "LiHOm4qoJcLk",
        "outputId": "e4feb329-7313-4785-fbac-05032ffa435a"
      },
      "execution_count": 26,
      "outputs": [
        {
          "output_type": "execute_result",
          "data": {
            "text/plain": [
              "'Hello, there!'"
            ],
            "application/vnd.google.colaboratory.intrinsic+json": {
              "type": "string"
            }
          },
          "metadata": {},
          "execution_count": 26
        }
      ]
    },
    {
      "cell_type": "code",
      "source": [
        "def greet(name):\n",
        "    return f\"Hello, {name}!\""
      ],
      "metadata": {
        "id": "N1kOsCQ1Jxt7"
      },
      "execution_count": 27,
      "outputs": []
    },
    {
      "cell_type": "code",
      "source": [
        "greet(\"Andy\")"
      ],
      "metadata": {
        "colab": {
          "base_uri": "https://localhost:8080/",
          "height": 36
        },
        "id": "m_8eX1ObKHku",
        "outputId": "cfd5e80d-f97f-41c9-f4e6-fcfcbc756bf7"
      },
      "execution_count": 28,
      "outputs": [
        {
          "output_type": "execute_result",
          "data": {
            "text/plain": [
              "'Hello, Andy!'"
            ],
            "application/vnd.google.colaboratory.intrinsic+json": {
              "type": "string"
            }
          },
          "metadata": {},
          "execution_count": 28
        }
      ]
    },
    {
      "cell_type": "code",
      "source": [
        "def greet(name=\"stranger\"):\n",
        "    print(f\"Hello, {name}!\")\n",
        "    return None"
      ],
      "metadata": {
        "id": "MnB4jp_OKWpL"
      },
      "execution_count": 32,
      "outputs": []
    },
    {
      "cell_type": "code",
      "source": [
        "greet()"
      ],
      "metadata": {
        "colab": {
          "base_uri": "https://localhost:8080/"
        },
        "id": "5ITKyYHcKmSK",
        "outputId": "748641fc-c62e-4a9c-928d-c201221c5282"
      },
      "execution_count": 33,
      "outputs": [
        {
          "output_type": "stream",
          "name": "stdout",
          "text": [
            "Hello, stranger!\n"
          ]
        }
      ]
    },
    {
      "cell_type": "code",
      "source": [
        "greet(\"Andy\")"
      ],
      "metadata": {
        "colab": {
          "base_uri": "https://localhost:8080/"
        },
        "id": "syXnRmSWKn6-",
        "outputId": "395366db-625d-4c07-f2cc-77199694dafb"
      },
      "execution_count": 34,
      "outputs": [
        {
          "output_type": "stream",
          "name": "stdout",
          "text": [
            "Hello, Andy!\n"
          ]
        }
      ]
    },
    {
      "cell_type": "markdown",
      "source": [
        "## Skill Challenge: Averaging Grades"
      ],
      "metadata": {
        "id": "ncheEqrXKpMF"
      }
    },
    {
      "cell_type": "markdown",
      "source": [
        "\n",
        "> <font size=\"4\">define a new function called calculate_average</font>\n",
        "\n",
        "> <font size=\"4\">it takes a single parameter called numbers, which should be a python list</font>\n",
        "\n",
        "> <font size=\"4\">if numbers is an empty list, the function should print out a message saying 'No numbers provided\" and return None</font>\n",
        "\n",
        "> <font size=\"4\">if numbers is not an empty list, the function should return the arithmetic average (i.e. the mean) of the numbers</font>\n",
        "\n",
        "> <font size=\"4\">also, before returning the average, the function should print out a message stating the count of numbers and the calculated average, e.g. \"Count: 2, Average: 3.1\"</font>"
      ],
      "metadata": {
        "id": "mqJaREZpL824"
      }
    },
    {
      "cell_type": "markdown",
      "source": [
        "## Solution"
      ],
      "metadata": {
        "id": "xCpmWhiJNJn-"
      }
    },
    {
      "cell_type": "code",
      "source": [
        "def calculate_average(numbers):\n",
        "  if not numbers: # numbers == [] or len(numbers) == 0\n",
        "    print(\"No numbers provided\")\n",
        "    return None\n",
        "\n",
        "  total_sum = sum(numbers)\n",
        "  count = len(numbers)\n",
        "  average = total_sum / count\n",
        "\n",
        "  print(f\"Count: {count}, Average: {average}\")\n",
        "  return average"
      ],
      "metadata": {
        "id": "wOt7vGzTN3XV"
      },
      "execution_count": 61,
      "outputs": []
    },
    {
      "cell_type": "code",
      "source": [
        "numbers_list = [3, 5, 9, 12, 4]"
      ],
      "metadata": {
        "id": "GIMPGo3HOksq"
      },
      "execution_count": 39,
      "outputs": []
    },
    {
      "cell_type": "code",
      "source": [
        "calculate_average(numbers_list)"
      ],
      "metadata": {
        "colab": {
          "base_uri": "https://localhost:8080/"
        },
        "id": "Yx4fO1dhOocQ",
        "outputId": "c3b2a94b-b0bd-4abf-9bec-1b0f121b7585"
      },
      "execution_count": 40,
      "outputs": [
        {
          "output_type": "stream",
          "name": "stdout",
          "text": [
            "Count: 5, Average: 6.6\n"
          ]
        },
        {
          "output_type": "execute_result",
          "data": {
            "text/plain": [
              "6.6"
            ]
          },
          "metadata": {},
          "execution_count": 40
        }
      ]
    },
    {
      "cell_type": "markdown",
      "source": [
        "## More On Functions: \\*args and **kwargs"
      ],
      "metadata": {
        "id": "i33rcHWXOqEv"
      }
    },
    {
      "cell_type": "code",
      "source": [
        "def greet(name):\n",
        "    print(f\"Hello, {name}!\")"
      ],
      "metadata": {
        "id": "QinVTH7jO366"
      },
      "execution_count": 41,
      "outputs": []
    },
    {
      "cell_type": "code",
      "source": [
        "def greet(name, other_name):\n",
        "    print(f\"Hello, {name} and {other_name}!\")"
      ],
      "metadata": {
        "id": "MpSSBhsRPQLc"
      },
      "execution_count": 42,
      "outputs": []
    },
    {
      "cell_type": "code",
      "source": [
        "greet(\"Andy\", \"Yona\")"
      ],
      "metadata": {
        "colab": {
          "base_uri": "https://localhost:8080/"
        },
        "id": "aHfxf7XsQ4lv",
        "outputId": "b95beeec-4e03-4da8-8a46-15abbcdc439e"
      },
      "execution_count": 43,
      "outputs": [
        {
          "output_type": "stream",
          "name": "stdout",
          "text": [
            "Hello, Andy and Yona!\n"
          ]
        }
      ]
    },
    {
      "cell_type": "code",
      "source": [
        "def greet(*args):\n",
        "    # args = (\"Andy\", \"Yona\")\n",
        "      # -> \"Andy and Yona and ....\"\n",
        "\n",
        "    print(f\"Hello {' and '.join(args)}\")"
      ],
      "metadata": {
        "id": "k07xG5QuQ7VE"
      },
      "execution_count": 44,
      "outputs": []
    },
    {
      "cell_type": "code",
      "source": [
        "greet(\"Andy\")"
      ],
      "metadata": {
        "colab": {
          "base_uri": "https://localhost:8080/"
        },
        "id": "b3w5q-HwRlQr",
        "outputId": "101c8d1e-0ba3-4e4f-a75f-7f36a6d90abf"
      },
      "execution_count": 45,
      "outputs": [
        {
          "output_type": "stream",
          "name": "stdout",
          "text": [
            "Hello Andy\n"
          ]
        }
      ]
    },
    {
      "cell_type": "code",
      "source": [
        "greet(\"Andy\", \"Yona\")"
      ],
      "metadata": {
        "colab": {
          "base_uri": "https://localhost:8080/"
        },
        "id": "kuxchKLwRoFm",
        "outputId": "f659716a-b8fb-4a12-9e53-5257aa5b99d2"
      },
      "execution_count": 46,
      "outputs": [
        {
          "output_type": "stream",
          "name": "stdout",
          "text": [
            "Hello Andy and Yona\n"
          ]
        }
      ]
    },
    {
      "cell_type": "code",
      "source": [
        "greet(\"Andy\", \"Yona\", \"john\", \"Doe\")"
      ],
      "metadata": {
        "colab": {
          "base_uri": "https://localhost:8080/"
        },
        "id": "Nf8XSM6kRpVQ",
        "outputId": "42a4f037-8ac5-4e09-8ced-53b095b1307a"
      },
      "execution_count": 47,
      "outputs": [
        {
          "output_type": "stream",
          "name": "stdout",
          "text": [
            "Hello Andy and Yona and john and Doe\n"
          ]
        }
      ]
    },
    {
      "cell_type": "code",
      "source": [
        "def introduce(**kwargs):\n",
        "  for key, value in kwargs.items():\n",
        "    print(f\"{key}: {value}\")"
      ],
      "metadata": {
        "id": "CYOOoGTuRra4"
      },
      "execution_count": 48,
      "outputs": []
    },
    {
      "cell_type": "code",
      "source": [
        "introduce(name=\"Jane Bistro\", age=27, country=\"USA\")"
      ],
      "metadata": {
        "colab": {
          "base_uri": "https://localhost:8080/"
        },
        "id": "nHOSzUJeSLTG",
        "outputId": "5e86372c-da9c-4c4b-f0e9-8f54c241241c"
      },
      "execution_count": 49,
      "outputs": [
        {
          "output_type": "stream",
          "name": "stdout",
          "text": [
            "name: Jane Bistro\n",
            "age: 27\n",
            "country: USA\n"
          ]
        }
      ]
    },
    {
      "cell_type": "code",
      "source": [
        "# *args    -> positional args\n",
        "# **kwargs -> keyworded args"
      ],
      "metadata": {
        "id": "m6jhMiHOSPeT"
      },
      "execution_count": 50,
      "outputs": []
    },
    {
      "cell_type": "code",
      "source": [
        "def func(*args, **kwargs):\n",
        "  for arg in args:\n",
        "    print(arg)\n",
        "\n",
        "  for k, v in kwargs.items():\n",
        "    print(k, v)"
      ],
      "metadata": {
        "id": "8A8lu_0uSeZ6"
      },
      "execution_count": 51,
      "outputs": []
    },
    {
      "cell_type": "code",
      "source": [
        "func(1, 2, 3, name=\"Lisa Bohn\", country=\"Germany\")"
      ],
      "metadata": {
        "colab": {
          "base_uri": "https://localhost:8080/"
        },
        "id": "J23t9-UjSsDX",
        "outputId": "bfe6f8dc-35a8-4ce7-d960-3d1bb94ced8f"
      },
      "execution_count": 52,
      "outputs": [
        {
          "output_type": "stream",
          "name": "stdout",
          "text": [
            "1\n",
            "2\n",
            "3\n",
            "name Lisa Bohn\n",
            "country Germany\n"
          ]
        }
      ]
    },
    {
      "cell_type": "code",
      "source": [
        "func(country=\"Germany\", 1, 2, 3, name=\"Lisa Bohn\")"
      ],
      "metadata": {
        "id": "_VU9GMdCSwsj"
      },
      "execution_count": null,
      "outputs": []
    },
    {
      "cell_type": "code",
      "source": [
        "func(3, 2, 1, country=\"Germany\", name=\"Lisa Bohn\")"
      ],
      "metadata": {
        "colab": {
          "base_uri": "https://localhost:8080/"
        },
        "id": "cJ8McEzZS2_d",
        "outputId": "6aa2ece7-5fe1-4fd2-fe0a-a0426484b606"
      },
      "execution_count": 56,
      "outputs": [
        {
          "output_type": "stream",
          "name": "stdout",
          "text": [
            "3\n",
            "2\n",
            "1\n",
            "country Germany\n",
            "name Lisa Bohn\n"
          ]
        }
      ]
    },
    {
      "cell_type": "code",
      "source": [
        "# (a, b, c) -> (b, a, c)\n",
        "\n",
        "# {\"a\": 1, \"b\": 2} -> {\"b\": 2, \"a\": 1}"
      ],
      "metadata": {
        "id": "77Nhi_IrTCJ1"
      },
      "execution_count": null,
      "outputs": []
    },
    {
      "cell_type": "code",
      "source": [
        "def func(*andy, **bek):\n",
        "  pass"
      ],
      "metadata": {
        "id": "WZkPjKXoTcz4"
      },
      "execution_count": 59,
      "outputs": []
    },
    {
      "cell_type": "code",
      "source": [
        "# variadic funcs\n",
        "# variable arity"
      ],
      "metadata": {
        "id": "WMQ4f9oPTee-"
      },
      "execution_count": null,
      "outputs": []
    },
    {
      "cell_type": "markdown",
      "source": [
        "## Skill Challenge: Variadics"
      ],
      "metadata": {
        "id": "p6mOYiWUUVb0"
      }
    },
    {
      "cell_type": "markdown",
      "source": [
        "\n",
        "> <font size=\"4\">modify the calculate_average function so it accepts a variable number of positional arguments, instead of a single python list</font>\n",
        "\n",
        "> <font size=\"4\">in addition, add an optional keyword argument called \"round_to\", which should accept an integer and round the average to that many decimal places before returning it</font>\n",
        "\n",
        "\n",
        "> ```\n",
        "calculate_average(1, 2, 3, 4, 5) # Count: 5, Average: 3.0\n",
        "\n",
        ">```\n",
        "calculate_average(1, 2.1, 3.123, 4.070001, 5, round_to=3) # Count: 5, Average: 3.059\n",
        "\n"
      ],
      "metadata": {
        "id": "y4qgngWMUYNd"
      }
    },
    {
      "cell_type": "code",
      "source": [
        "def calculate_average(numbers):\n",
        "  if not numbers: # numbers == [] or len(numbers) == 0\n",
        "    print(\"No numbers provided\")\n",
        "    return None\n",
        "\n",
        "  total_sum = sum(numbers)\n",
        "  count = len(numbers)\n",
        "  average = total_sum / count\n",
        "\n",
        "  print(f\"Count: {count}, Average: {average}\")\n",
        "  return average"
      ],
      "metadata": {
        "id": "VtespV7_UYtl"
      },
      "execution_count": 62,
      "outputs": []
    },
    {
      "cell_type": "markdown",
      "source": [
        "## Solution"
      ],
      "metadata": {
        "id": "9tntdJkQVel3"
      }
    },
    {
      "cell_type": "code",
      "source": [
        "def calculate_average(*numbers, round_to=2):\n",
        "  if not numbers: # numbers == (,) or len(numbers) == 0\n",
        "    print(\"No numbers provided\")\n",
        "    return None\n",
        "\n",
        "  total_sum = sum(numbers)\n",
        "  count = len(numbers)\n",
        "  average = total_sum / count\n",
        "  round_average = round(average, round_to)\n",
        "\n",
        "  print(f\"Count: {count}, Average: {round_average}\")\n",
        "  return round_average"
      ],
      "metadata": {
        "id": "gmmXIa7_Wl0A"
      },
      "execution_count": 67,
      "outputs": []
    },
    {
      "cell_type": "code",
      "source": [
        "calculate_average(1, 2.1, 3.123, 4.070001, 5, round_to=3)"
      ],
      "metadata": {
        "colab": {
          "base_uri": "https://localhost:8080/"
        },
        "id": "qV54cQNyWpdr",
        "outputId": "65c421da-888e-4385-9d93-406464ab2c64"
      },
      "execution_count": 68,
      "outputs": [
        {
          "output_type": "stream",
          "name": "stdout",
          "text": [
            "Count: 5, Average: 3.059\n"
          ]
        },
        {
          "output_type": "execute_result",
          "data": {
            "text/plain": [
              "3.059"
            ]
          },
          "metadata": {},
          "execution_count": 68
        }
      ]
    },
    {
      "cell_type": "code",
      "source": [
        "calculate_average(10, 20, 30, 50)"
      ],
      "metadata": {
        "colab": {
          "base_uri": "https://localhost:8080/"
        },
        "id": "fZdDc9JeWsob",
        "outputId": "4d5c3102-b9aa-46bb-fec0-3db96b51d8b3"
      },
      "execution_count": 70,
      "outputs": [
        {
          "output_type": "stream",
          "name": "stdout",
          "text": [
            "Count: 4, Average: 27.5\n"
          ]
        },
        {
          "output_type": "execute_result",
          "data": {
            "text/plain": [
              "27.5"
            ]
          },
          "metadata": {},
          "execution_count": 70
        }
      ]
    },
    {
      "cell_type": "markdown",
      "source": [
        "## Higher-Order Functions"
      ],
      "metadata": {
        "id": "1vr7bfEeXfdb"
      }
    },
    {
      "cell_type": "markdown",
      "source": [
        "> <font size=\"4\">funcs as arguments?</font>"
      ],
      "metadata": {
        "id": "9Gxq2MxNXsZJ"
      }
    },
    {
      "cell_type": "code",
      "source": [
        "def loud(func):\n",
        "\n",
        "  def wrapper():\n",
        "    return func().upper() + \"!!!\"\n",
        "\n",
        "  return wrapper"
      ],
      "metadata": {
        "id": "zL4bHaHXbxZ1"
      },
      "execution_count": 72,
      "outputs": []
    },
    {
      "cell_type": "code",
      "source": [],
      "metadata": {
        "id": "2FEoFyI3b1se"
      },
      "execution_count": null,
      "outputs": []
    },
    {
      "cell_type": "markdown",
      "source": [
        "> <font size=\"4\">HOFs</font>"
      ],
      "metadata": {
        "id": "M0wj2lh3bKdc"
      }
    },
    {
      "cell_type": "code",
      "source": [
        "# > take one or more functions as their arguments, or\n",
        "# > return a function as its result"
      ],
      "metadata": {
        "id": "B_YlPOCyc0W-"
      },
      "execution_count": 73,
      "outputs": []
    },
    {
      "cell_type": "code",
      "source": [
        "def greet():\n",
        "  return \"Hello, there\""
      ],
      "metadata": {
        "id": "G402nlEnc4_p"
      },
      "execution_count": 74,
      "outputs": []
    },
    {
      "cell_type": "code",
      "source": [
        "loud_greet = loud(greet)"
      ],
      "metadata": {
        "id": "E_PFBWgodN9P"
      },
      "execution_count": 75,
      "outputs": []
    },
    {
      "cell_type": "code",
      "source": [
        "loud_greet()"
      ],
      "metadata": {
        "colab": {
          "base_uri": "https://localhost:8080/",
          "height": 36
        },
        "id": "LVbcXwhpdXAJ",
        "outputId": "84b8a9da-528d-49ea-f4fd-98c5ef0b1275"
      },
      "execution_count": 76,
      "outputs": [
        {
          "output_type": "execute_result",
          "data": {
            "text/plain": [
              "'HELLO, THERE!!!'"
            ],
            "application/vnd.google.colaboratory.intrinsic+json": {
              "type": "string"
            }
          },
          "metadata": {},
          "execution_count": 76
        }
      ]
    },
    {
      "cell_type": "markdown",
      "source": [
        "## Skill Challenge: Arithmetic HOF"
      ],
      "metadata": {
        "id": "bv4MRhlaeH-_"
      }
    },
    {
      "cell_type": "markdown",
      "source": [
        "> <font size=\"4\">define an HOF called 'double', that takes a function as its argument, and returns a modified version of it where the output of that func is multiplied by 2</font>\n",
        "\n",
        "> <font size=\"4\">define another function, 'add' that takes two arguments and returns their sum</font>\n",
        "\n",
        "> <font size=\"4\">apply the 'double' HOF to 'add' and store the result in a new function 'double_add', which when invokes should return the sum of two numbers multiplied by 2</font>\n",
        "\n",
        "> ```\n",
        "add(1, 2) # Output: 3, because 1+2 = 3\n",
        "\n",
        "> ```\n",
        "double_add(1, 2) # Output: 6, because (1+2)*2 = 6\n",
        "\n",
        ">```\n",
        "double_add(5, 10) # Output: 30, because (5+10)*2 = 30\n",
        "\n"
      ],
      "metadata": {
        "id": "dq7kls6sdo5F"
      }
    },
    {
      "cell_type": "markdown",
      "source": [
        "## Solution"
      ],
      "metadata": {
        "id": "d9TJQbN4fDeu"
      }
    },
    {
      "cell_type": "code",
      "source": [
        "# def add(x, y):\n",
        "#   return x + y"
      ],
      "metadata": {
        "id": "sLfxaYkugtKJ"
      },
      "execution_count": 82,
      "outputs": []
    },
    {
      "cell_type": "code",
      "source": [
        "from operator import add"
      ],
      "metadata": {
        "id": "qsa1-nkZg8bB"
      },
      "execution_count": 83,
      "outputs": []
    },
    {
      "cell_type": "code",
      "source": [
        "add(1, 2)"
      ],
      "metadata": {
        "colab": {
          "base_uri": "https://localhost:8080/"
        },
        "id": "j7F8ticEg-hT",
        "outputId": "d95077a5-ac47-4426-d297-6da739eef8aa"
      },
      "execution_count": 85,
      "outputs": [
        {
          "output_type": "execute_result",
          "data": {
            "text/plain": [
              "3"
            ]
          },
          "metadata": {},
          "execution_count": 85
        }
      ]
    },
    {
      "cell_type": "code",
      "source": [
        "def double(func):\n",
        "  def inner(*args):\n",
        "    return func(*args) * 2\n",
        "\n",
        "  return inner"
      ],
      "metadata": {
        "id": "BR7xk9RIhCI6"
      },
      "execution_count": 86,
      "outputs": []
    },
    {
      "cell_type": "code",
      "source": [
        "double_add = double(add)"
      ],
      "metadata": {
        "id": "HgOSasBjhKmx"
      },
      "execution_count": 87,
      "outputs": []
    },
    {
      "cell_type": "code",
      "source": [
        "double_add(1, 2)"
      ],
      "metadata": {
        "colab": {
          "base_uri": "https://localhost:8080/"
        },
        "id": "W19tleqihO4y",
        "outputId": "4c9537e6-3bd1-41c0-bdff-728d42ad7d23"
      },
      "execution_count": 88,
      "outputs": [
        {
          "output_type": "execute_result",
          "data": {
            "text/plain": [
              "6"
            ]
          },
          "metadata": {},
          "execution_count": 88
        }
      ]
    },
    {
      "cell_type": "code",
      "source": [
        "double_add(5, 11)"
      ],
      "metadata": {
        "colab": {
          "base_uri": "https://localhost:8080/"
        },
        "id": "PijV7WSehT4R",
        "outputId": "c8cab65b-7959-43aa-8bd4-d0367c74e945"
      },
      "execution_count": 90,
      "outputs": [
        {
          "output_type": "execute_result",
          "data": {
            "text/plain": [
              "32"
            ]
          },
          "metadata": {},
          "execution_count": 90
        }
      ]
    },
    {
      "cell_type": "code",
      "source": [
        "# (5+11) = 16 * 2 = 32"
      ],
      "metadata": {
        "id": "Ja1UDspyhW85"
      },
      "execution_count": 91,
      "outputs": []
    },
    {
      "cell_type": "markdown",
      "source": [
        "## First-Class Functions"
      ],
      "metadata": {
        "id": "RbOkCsTqhapJ"
      }
    },
    {
      "cell_type": "markdown",
      "source": [
        "> <font size=\"4\">first-class functions</font>"
      ],
      "metadata": {
        "id": "fIvT8EbRjaRd"
      }
    },
    {
      "cell_type": "code",
      "source": [
        "def loud_greeting(name):\n",
        "  return f\"HELLO {name.upper()}!!!\""
      ],
      "metadata": {
        "id": "5fAnr1zHi5vf"
      },
      "execution_count": 92,
      "outputs": []
    },
    {
      "cell_type": "code",
      "source": [
        "def quiet_greeting(name):\n",
        "  return f\"Hello, {name}...\""
      ],
      "metadata": {
        "id": "qFV4ddJli5ku"
      },
      "execution_count": 93,
      "outputs": []
    },
    {
      "cell_type": "code",
      "source": [
        "def greet(name, greeting):\n",
        "  return greeting(name)"
      ],
      "metadata": {
        "id": "wCtcznZui5Yx"
      },
      "execution_count": 94,
      "outputs": []
    },
    {
      "cell_type": "code",
      "source": [
        "greet(\"Andy\", loud_greeting)"
      ],
      "metadata": {
        "colab": {
          "base_uri": "https://localhost:8080/",
          "height": 36
        },
        "id": "gFvmLAcki5MD",
        "outputId": "492781df-a30e-4ed2-e016-527c9307fddb"
      },
      "execution_count": 96,
      "outputs": [
        {
          "output_type": "execute_result",
          "data": {
            "text/plain": [
              "'HELLO ANDY!!!'"
            ],
            "application/vnd.google.colaboratory.intrinsic+json": {
              "type": "string"
            }
          },
          "metadata": {},
          "execution_count": 96
        }
      ]
    },
    {
      "cell_type": "code",
      "source": [
        "greet(\"Andy\", quiet_greeting)"
      ],
      "metadata": {
        "colab": {
          "base_uri": "https://localhost:8080/",
          "height": 36
        },
        "id": "6CmVz1gOi42v",
        "outputId": "4b9ddb82-ba0c-456e-d9d0-1b350b187a45"
      },
      "execution_count": 97,
      "outputs": [
        {
          "output_type": "execute_result",
          "data": {
            "text/plain": [
              "'Hello, Andy...'"
            ],
            "application/vnd.google.colaboratory.intrinsic+json": {
              "type": "string"
            }
          },
          "metadata": {},
          "execution_count": 97
        }
      ]
    },
    {
      "cell_type": "code",
      "source": [
        "from typing import Callable\n",
        "\n",
        "def greet(name: str, greeting: Callable[[str], str]) -> str:\n",
        "  return greeting(name)"
      ],
      "metadata": {
        "id": "FMJuLtcPi24w"
      },
      "execution_count": 99,
      "outputs": []
    },
    {
      "cell_type": "code",
      "source": [
        "nums = [1,2, 234, 123, 9]"
      ],
      "metadata": {
        "id": "ER9gS_q6kL8j"
      },
      "execution_count": 101,
      "outputs": []
    },
    {
      "cell_type": "code",
      "source": [
        "def is_even(num):\n",
        "  return num % 2 == 0"
      ],
      "metadata": {
        "id": "wUrgxEkYkkwB"
      },
      "execution_count": 102,
      "outputs": []
    },
    {
      "cell_type": "code",
      "source": [
        "is_even(3)"
      ],
      "metadata": {
        "colab": {
          "base_uri": "https://localhost:8080/"
        },
        "id": "zdItT2efkrPU",
        "outputId": "00a40e93-d2e2-48a4-abe6-1f0805d9ab21"
      },
      "execution_count": 104,
      "outputs": [
        {
          "output_type": "execute_result",
          "data": {
            "text/plain": [
              "False"
            ]
          },
          "metadata": {},
          "execution_count": 104
        }
      ]
    },
    {
      "cell_type": "code",
      "source": [
        "list(filter(is_even, nums))"
      ],
      "metadata": {
        "colab": {
          "base_uri": "https://localhost:8080/"
        },
        "id": "ZjPHWkNDkr8H",
        "outputId": "2cb2cb4c-8100-4df8-f07f-43fcc5fb1736"
      },
      "execution_count": 105,
      "outputs": [
        {
          "output_type": "execute_result",
          "data": {
            "text/plain": [
              "[2, 234]"
            ]
          },
          "metadata": {},
          "execution_count": 105
        }
      ]
    },
    {
      "cell_type": "code",
      "source": [
        "list(filter(lambda n: n % 2 == 0, nums))"
      ],
      "metadata": {
        "colab": {
          "base_uri": "https://localhost:8080/"
        },
        "id": "y0gGbX1BkwRV",
        "outputId": "83210d51-ce18-4026-b432-1456112234e2"
      },
      "execution_count": 106,
      "outputs": [
        {
          "output_type": "execute_result",
          "data": {
            "text/plain": [
              "[2, 234]"
            ]
          },
          "metadata": {},
          "execution_count": 106
        }
      ]
    },
    {
      "cell_type": "markdown",
      "source": [
        "## Closures"
      ],
      "metadata": {
        "id": "09MEv0U9pcDk"
      }
    },
    {
      "cell_type": "code",
      "source": [
        "def outer(x):\n",
        "    def inner(y):\n",
        "        return x + y\n",
        "    return inner"
      ],
      "metadata": {
        "id": "YmdH7rLRq2uE"
      },
      "execution_count": 6,
      "outputs": []
    },
    {
      "cell_type": "code",
      "source": [
        "closure = outer(10)"
      ],
      "metadata": {
        "id": "zZ4Z8BXd8wbY"
      },
      "execution_count": 8,
      "outputs": []
    },
    {
      "cell_type": "code",
      "source": [
        "closure(6)"
      ],
      "metadata": {
        "colab": {
          "base_uri": "https://localhost:8080/"
        },
        "id": "Xlj6ktcf9Xj_",
        "outputId": "9d296771-93e8-4c72-e650-cf2e66a5a515"
      },
      "execution_count": 9,
      "outputs": [
        {
          "output_type": "execute_result",
          "data": {
            "text/plain": [
              "16"
            ]
          },
          "metadata": {},
          "execution_count": 9
        }
      ]
    },
    {
      "cell_type": "code",
      "source": [
        "closure(12)"
      ],
      "metadata": {
        "colab": {
          "base_uri": "https://localhost:8080/"
        },
        "id": "t5oGm0ld9sst",
        "outputId": "58fcf87f-ee51-4f00-8fcc-573d7bf4c3db"
      },
      "execution_count": 10,
      "outputs": [
        {
          "output_type": "execute_result",
          "data": {
            "text/plain": [
              "22"
            ]
          },
          "metadata": {},
          "execution_count": 10
        }
      ]
    },
    {
      "cell_type": "code",
      "source": [
        "def make_multiplier(x):\n",
        "  def multiplier(n):\n",
        "    return x * n\n",
        "\n",
        "  return multiplier"
      ],
      "metadata": {
        "id": "LxRocbUT9tyl"
      },
      "execution_count": 11,
      "outputs": []
    },
    {
      "cell_type": "code",
      "source": [
        "times_two = make_multiplier(2)\n",
        "times_three = make_multiplier(3)"
      ],
      "metadata": {
        "id": "gTCauy9y-Dcx"
      },
      "execution_count": 13,
      "outputs": []
    },
    {
      "cell_type": "code",
      "source": [
        "times_three(4)"
      ],
      "metadata": {
        "colab": {
          "base_uri": "https://localhost:8080/"
        },
        "id": "WZDsrH7m-HfV",
        "outputId": "40e57f6b-453d-4307-c94e-1cb9a3e1c6e9"
      },
      "execution_count": 14,
      "outputs": [
        {
          "output_type": "execute_result",
          "data": {
            "text/plain": [
              "12"
            ]
          },
          "metadata": {},
          "execution_count": 14
        }
      ]
    },
    {
      "cell_type": "code",
      "source": [
        "times_two(7)"
      ],
      "metadata": {
        "colab": {
          "base_uri": "https://localhost:8080/"
        },
        "id": "1_5WZs9L-LQ9",
        "outputId": "52fee1c9-652c-4fc4-c5e0-24b722851548"
      },
      "execution_count": 15,
      "outputs": [
        {
          "output_type": "execute_result",
          "data": {
            "text/plain": [
              "14"
            ]
          },
          "metadata": {},
          "execution_count": 15
        }
      ]
    },
    {
      "cell_type": "code",
      "source": [
        "# data hiding & encapsulation"
      ],
      "metadata": {
        "id": "CNBsK87C-NM7"
      },
      "execution_count": 16,
      "outputs": []
    },
    {
      "cell_type": "markdown",
      "source": [
        "## Skill Challenge: Counter Factory"
      ],
      "metadata": {
        "id": "EL0PXm4--ex4"
      }
    },
    {
      "cell_type": "markdown",
      "source": [
        "> <font size=\"4\">define a function called 'create_counter' that returns a 'counter' function that retains/remembers its own state, i.e. a closure</font>\n",
        "\n",
        "> <font size=\"4\">the 'counter' function should increment the count each time it is called, before returning it</font>\n",
        "\n",
        "> <font size=\"4\">as a bonus, implement 'create_counter' so that it takes a parameter called 'start' that determines the starting count for the counter it returns; if no start value is provided, 'start' should default to 0</font>\n",
        "\n",
        "> ```\n",
        "counterA = create_counter()\n",
        "counterA() # returns: 1\n",
        "counterA() # returns: 2\n",
        "counterB = create_counter()\n",
        "counterB() # returns: 1\n",
        "counterA() # returns: 3\n",
        "counterB() # returns: 2\n",
        "\n"
      ],
      "metadata": {
        "id": "byca4ybS-_8Q"
      }
    },
    {
      "cell_type": "markdown",
      "source": [
        "## Solution"
      ],
      "metadata": {
        "id": "ohgTmXiODWGB"
      }
    },
    {
      "cell_type": "code",
      "source": [
        "# mutable (list, dict) vs immutable (int, tuple)\n",
        "\n",
        "def create_counter(start=0):\n",
        "  count = [start]\n",
        "\n",
        "  def counter():\n",
        "    count[0] += 1\n",
        "    return count[0]\n",
        "\n",
        "  return counter"
      ],
      "metadata": {
        "id": "iFWbhvcADYke"
      },
      "execution_count": 18,
      "outputs": []
    },
    {
      "cell_type": "code",
      "source": [
        "counter1 = create_counter()"
      ],
      "metadata": {
        "id": "jiczFnxKAPZJ"
      },
      "execution_count": 19,
      "outputs": []
    },
    {
      "cell_type": "code",
      "source": [
        "counter1()"
      ],
      "metadata": {
        "colab": {
          "base_uri": "https://localhost:8080/"
        },
        "id": "dMYug7EiEyaR",
        "outputId": "9291a0fb-f4b3-4734-e738-a35b8c9dbc52"
      },
      "execution_count": 20,
      "outputs": [
        {
          "output_type": "execute_result",
          "data": {
            "text/plain": [
              "1"
            ]
          },
          "metadata": {},
          "execution_count": 20
        }
      ]
    },
    {
      "cell_type": "code",
      "source": [
        "counter1()"
      ],
      "metadata": {
        "colab": {
          "base_uri": "https://localhost:8080/"
        },
        "id": "X71FB_FTEzjg",
        "outputId": "2dc18de2-923c-4cfb-c1fd-833c265f96a4"
      },
      "execution_count": 21,
      "outputs": [
        {
          "output_type": "execute_result",
          "data": {
            "text/plain": [
              "2"
            ]
          },
          "metadata": {},
          "execution_count": 21
        }
      ]
    },
    {
      "cell_type": "code",
      "source": [
        "counter2 = create_counter()"
      ],
      "metadata": {
        "id": "WhgipGrFE0av"
      },
      "execution_count": 22,
      "outputs": []
    },
    {
      "cell_type": "code",
      "source": [
        "counter2()"
      ],
      "metadata": {
        "colab": {
          "base_uri": "https://localhost:8080/"
        },
        "id": "0DrK0JldE177",
        "outputId": "5118ebd5-a37d-4479-9863-7e5127e97250"
      },
      "execution_count": 24,
      "outputs": [
        {
          "output_type": "execute_result",
          "data": {
            "text/plain": [
              "1"
            ]
          },
          "metadata": {},
          "execution_count": 24
        }
      ]
    },
    {
      "cell_type": "code",
      "source": [
        "counter1()"
      ],
      "metadata": {
        "colab": {
          "base_uri": "https://localhost:8080/"
        },
        "id": "x7qHUxk7E241",
        "outputId": "51419178-e08e-411d-f854-3bdfc6533725"
      },
      "execution_count": 26,
      "outputs": [
        {
          "output_type": "execute_result",
          "data": {
            "text/plain": [
              "4"
            ]
          },
          "metadata": {},
          "execution_count": 26
        }
      ]
    },
    {
      "cell_type": "code",
      "source": [
        "counter3 = create_counter(6)"
      ],
      "metadata": {
        "id": "qY5U7TdwE5Km"
      },
      "execution_count": 27,
      "outputs": []
    },
    {
      "cell_type": "code",
      "source": [
        "counter3()"
      ],
      "metadata": {
        "colab": {
          "base_uri": "https://localhost:8080/"
        },
        "id": "QLiADANZE88L",
        "outputId": "25a2b7c6-2993-4f50-f992-c945f08141c9"
      },
      "execution_count": 28,
      "outputs": [
        {
          "output_type": "execute_result",
          "data": {
            "text/plain": [
              "7"
            ]
          },
          "metadata": {},
          "execution_count": 28
        }
      ]
    },
    {
      "cell_type": "markdown",
      "source": [
        "## Basic Introduction to Decorators"
      ],
      "metadata": {
        "id": "OKuIdVprE9o7"
      }
    },
    {
      "cell_type": "code",
      "source": [
        "def fry():\n",
        "    return \"Frying the food!\"\n",
        "\n",
        "def grill():\n",
        "    return \"Grilling the food!\"\n",
        "\n",
        "def boil():\n",
        "    return \"Boiling the food!\""
      ],
      "metadata": {
        "id": "0WRFQCLBMbzr"
      },
      "execution_count": 1,
      "outputs": []
    },
    {
      "cell_type": "code",
      "source": [
        "# '@' - pie decorator syntax"
      ],
      "metadata": {
        "id": "bP4OFjQ-Mbi7"
      },
      "execution_count": null,
      "outputs": []
    },
    {
      "cell_type": "code",
      "source": [
        "def seasoning(chef):\n",
        "  def wrapper():\n",
        "    print(\"Adding some salt and pepper!\")\n",
        "    return chef()\n",
        "  return wrapper"
      ],
      "metadata": {
        "id": "AuH57UVYMbXu"
      },
      "execution_count": 2,
      "outputs": []
    },
    {
      "cell_type": "code",
      "source": [
        "@seasoning\n",
        "def fry():\n",
        "    return \"Frying the food!\"\n",
        "\n",
        "@seasoning\n",
        "def grill():\n",
        "    return \"Grilling the food!\"\n",
        "\n",
        "def boil():\n",
        "    return \"Boiling the food!\""
      ],
      "metadata": {
        "id": "fhnOsvctMbGZ"
      },
      "execution_count": 5,
      "outputs": []
    },
    {
      "cell_type": "code",
      "source": [
        "fry()"
      ],
      "metadata": {
        "colab": {
          "base_uri": "https://localhost:8080/",
          "height": 54
        },
        "id": "bdLwsdWjMa8T",
        "outputId": "c200d390-bcde-46fc-eae2-da9dcd4beef0"
      },
      "execution_count": 4,
      "outputs": [
        {
          "output_type": "stream",
          "name": "stdout",
          "text": [
            "Adding some salt and pepper!\n"
          ]
        },
        {
          "output_type": "execute_result",
          "data": {
            "text/plain": [
              "'Frying the food!'"
            ],
            "application/vnd.google.colaboratory.intrinsic+json": {
              "type": "string"
            }
          },
          "metadata": {},
          "execution_count": 4
        }
      ]
    },
    {
      "cell_type": "code",
      "source": [
        "grill()"
      ],
      "metadata": {
        "colab": {
          "base_uri": "https://localhost:8080/",
          "height": 54
        },
        "id": "HBzvBk9xMY0U",
        "outputId": "df475544-763e-458e-ec3e-c0686ae58d2b"
      },
      "execution_count": 6,
      "outputs": [
        {
          "output_type": "stream",
          "name": "stdout",
          "text": [
            "Adding some salt and pepper!\n"
          ]
        },
        {
          "output_type": "execute_result",
          "data": {
            "text/plain": [
              "'Grilling the food!'"
            ],
            "application/vnd.google.colaboratory.intrinsic+json": {
              "type": "string"
            }
          },
          "metadata": {},
          "execution_count": 6
        }
      ]
    },
    {
      "cell_type": "code",
      "source": [
        "boil()"
      ],
      "metadata": {
        "colab": {
          "base_uri": "https://localhost:8080/",
          "height": 36
        },
        "id": "VoXcSGQpNgQ_",
        "outputId": "04617fee-81da-45ed-99bf-0a87aeb5d6e3"
      },
      "execution_count": 7,
      "outputs": [
        {
          "output_type": "execute_result",
          "data": {
            "text/plain": [
              "'Boiling the food!'"
            ],
            "application/vnd.google.colaboratory.intrinsic+json": {
              "type": "string"
            }
          },
          "metadata": {},
          "execution_count": 7
        }
      ]
    },
    {
      "cell_type": "code",
      "source": [
        "seasoned_boil = seasoning(boil)"
      ],
      "metadata": {
        "id": "Sku2OsGHNg2m"
      },
      "execution_count": 8,
      "outputs": []
    },
    {
      "cell_type": "code",
      "source": [
        "seasoned_boil()"
      ],
      "metadata": {
        "colab": {
          "base_uri": "https://localhost:8080/",
          "height": 54
        },
        "id": "OtIzzl4aN3Il",
        "outputId": "fbab6046-ef61-40d4-edb6-e56fbcb99978"
      },
      "execution_count": 9,
      "outputs": [
        {
          "output_type": "stream",
          "name": "stdout",
          "text": [
            "Adding some salt and pepper!\n"
          ]
        },
        {
          "output_type": "execute_result",
          "data": {
            "text/plain": [
              "'Boiling the food!'"
            ],
            "application/vnd.google.colaboratory.intrinsic+json": {
              "type": "string"
            }
          },
          "metadata": {},
          "execution_count": 9
        }
      ]
    },
    {
      "cell_type": "code",
      "source": [
        "# callables -> function, class, method"
      ],
      "metadata": {
        "id": "jHploOOpN4yg"
      },
      "execution_count": null,
      "outputs": []
    },
    {
      "cell_type": "markdown",
      "source": [
        "## Skill Challenge - Let's Log"
      ],
      "metadata": {
        "id": "QIj66sENOrb9"
      }
    },
    {
      "cell_type": "markdown",
      "source": [
        "> <font size=\"4\">define a decorator called 'logger' that logs out the function name and args/kwargs of the function it is applied to as well as the result that the function returns</font>\n",
        "\n",
        "\n",
        "> ```\n",
        "@logger\n",
        "def calculate_sum(a, b):\n",
        "    return a + b\n",
        "\n",
        "> ```\n",
        "calculate_sum(3, 6)\n",
        "\n",
        "> ```\n",
        "Calling function: 'calculate_sum' with arguments: (3, 6) {}\n",
        "Function 'calculate_sum' returned: 9\n",
        "9\n",
        "\n"
      ],
      "metadata": {
        "id": "9MyMFCRbOt9j"
      }
    },
    {
      "cell_type": "markdown",
      "source": [
        "## Solution"
      ],
      "metadata": {
        "id": "6Mx_VVy7PYvx"
      }
    },
    {
      "cell_type": "code",
      "source": [
        "def logger(func):\n",
        "  def wrapper(*args, **kwargs):\n",
        "    print(f\"Calling function: '{func.__name__}' with arguments: {args}, {kwargs}\")\n",
        "    result = func(*args, **kwargs)\n",
        "    print(f\"Function '{func.__name__}' returned: {result}\")\n",
        "    return result\n",
        "  return wrapper"
      ],
      "metadata": {
        "id": "755-V5dSSdYS"
      },
      "execution_count": 22,
      "outputs": []
    },
    {
      "cell_type": "code",
      "source": [],
      "metadata": {
        "id": "WBWhyPGNRs9l"
      },
      "execution_count": 22,
      "outputs": []
    },
    {
      "cell_type": "code",
      "source": [
        "@logger\n",
        "def calculate_sum(a, b, **kwargs):\n",
        "    return a + b\n",
        "\n",
        "calculate_sum(3, 6, random_kw=\"helo there\")"
      ],
      "metadata": {
        "colab": {
          "base_uri": "https://localhost:8080/"
        },
        "id": "0Fy9od-WQxKz",
        "outputId": "7ce6c980-78b6-4e84-ffa8-c3d8ee5ee4d5"
      },
      "execution_count": 25,
      "outputs": [
        {
          "output_type": "stream",
          "name": "stdout",
          "text": [
            "Calling function: 'calculate_sum' with arguments: (3, 6), {'random_kw': 'helo there'}\n",
            "Function 'calculate_sum' returned: 9\n"
          ]
        },
        {
          "output_type": "execute_result",
          "data": {
            "text/plain": [
              "9"
            ]
          },
          "metadata": {},
          "execution_count": 25
        }
      ]
    },
    {
      "cell_type": "markdown",
      "source": [
        "## Decorating Parameterized Functions"
      ],
      "metadata": {
        "id": "nQLEgwTbSK37"
      }
    },
    {
      "cell_type": "code",
      "source": [
        "def simple_decorator(func):\n",
        "    def wrapper():\n",
        "        print(\"Before function execution\")\n",
        "        result = func()\n",
        "        print(\"After function execution\")\n",
        "        return result\n",
        "    return wrapper\n",
        "\n",
        "@simple_decorator\n",
        "def greet():\n",
        "    return \"Hello, world!\""
      ],
      "metadata": {
        "id": "JvJwoirFTop7"
      },
      "execution_count": 20,
      "outputs": []
    },
    {
      "cell_type": "code",
      "source": [
        "greet()"
      ],
      "metadata": {
        "colab": {
          "base_uri": "https://localhost:8080/",
          "height": 73
        },
        "id": "WMXfipJLToaB",
        "outputId": "0aa80fbb-e0b5-48c6-97d7-0d5ad97372c9"
      },
      "execution_count": 17,
      "outputs": [
        {
          "output_type": "stream",
          "name": "stdout",
          "text": [
            "Before function execution\n",
            "After function execution\n"
          ]
        },
        {
          "output_type": "execute_result",
          "data": {
            "text/plain": [
              "'Hello, world!'"
            ],
            "application/vnd.google.colaboratory.intrinsic+json": {
              "type": "string"
            }
          },
          "metadata": {},
          "execution_count": 17
        }
      ]
    },
    {
      "cell_type": "code",
      "source": [
        "def simple_decorator(func):\n",
        "    def wrapper(name):\n",
        "        print(\"Before function execution\")\n",
        "        result = func(name)\n",
        "        print(\"After function execution\")\n",
        "        return result\n",
        "    return wrapper"
      ],
      "metadata": {
        "id": "ofrJL9geBsKx"
      },
      "execution_count": 21,
      "outputs": []
    },
    {
      "cell_type": "code",
      "source": [
        "@simple_decorator\n",
        "def greet(name):\n",
        "    return f\"Hello, {name}!\""
      ],
      "metadata": {
        "id": "qlQt4_8uBI-J"
      },
      "execution_count": 22,
      "outputs": []
    },
    {
      "cell_type": "code",
      "source": [
        "greet(\"Andy\")"
      ],
      "metadata": {
        "colab": {
          "base_uri": "https://localhost:8080/",
          "height": 73
        },
        "id": "H3r9d3TWBJM8",
        "outputId": "23339cb2-51f4-40fb-e23b-da2a63e38883"
      },
      "execution_count": 23,
      "outputs": [
        {
          "output_type": "stream",
          "name": "stdout",
          "text": [
            "Before function execution\n",
            "After function execution\n"
          ]
        },
        {
          "output_type": "execute_result",
          "data": {
            "text/plain": [
              "'Hello, Andy!'"
            ],
            "application/vnd.google.colaboratory.intrinsic+json": {
              "type": "string"
            }
          },
          "metadata": {},
          "execution_count": 23
        }
      ]
    },
    {
      "cell_type": "code",
      "source": [
        "def simple_decorator(func):\n",
        "    def wrapper(*args, **kwargs):\n",
        "        print(\"Before function execution\")\n",
        "        result = func(*args, **kwargs)\n",
        "        print(\"After function execution\")\n",
        "        return result\n",
        "    return wrapper"
      ],
      "metadata": {
        "id": "47IyE7SKBJYN"
      },
      "execution_count": 28,
      "outputs": []
    },
    {
      "cell_type": "code",
      "source": [
        "@simple_decorator\n",
        "def greet(name):\n",
        "    return f\"Hello, {name}!\"\n",
        "\n",
        "greet(\"Andy\")"
      ],
      "metadata": {
        "colab": {
          "base_uri": "https://localhost:8080/",
          "height": 73
        },
        "id": "1CgUFrFvBJfb",
        "outputId": "cdecce5b-234d-4824-8c8a-4b8419f51b97"
      },
      "execution_count": 25,
      "outputs": [
        {
          "output_type": "stream",
          "name": "stdout",
          "text": [
            "Before function execution\n",
            "After function execution\n"
          ]
        },
        {
          "output_type": "execute_result",
          "data": {
            "text/plain": [
              "'Hello, Andy!'"
            ],
            "application/vnd.google.colaboratory.intrinsic+json": {
              "type": "string"
            }
          },
          "metadata": {},
          "execution_count": 25
        }
      ]
    },
    {
      "cell_type": "code",
      "source": [
        "@simple_decorator\n",
        "def greet(name, surname):\n",
        "    return f\"Hello, {name} {surname}!\"\n",
        "\n",
        "greet(\"Andy\", \"Bek\")"
      ],
      "metadata": {
        "colab": {
          "base_uri": "https://localhost:8080/",
          "height": 73
        },
        "id": "4YITh3RWBJm-",
        "outputId": "c9ca9964-7bf7-4731-f89d-1d522b459038"
      },
      "execution_count": 26,
      "outputs": [
        {
          "output_type": "stream",
          "name": "stdout",
          "text": [
            "Before function execution\n",
            "After function execution\n"
          ]
        },
        {
          "output_type": "execute_result",
          "data": {
            "text/plain": [
              "'Hello, Andy Bek!'"
            ],
            "application/vnd.google.colaboratory.intrinsic+json": {
              "type": "string"
            }
          },
          "metadata": {},
          "execution_count": 26
        }
      ]
    },
    {
      "cell_type": "code",
      "source": [
        "@simple_decorator\n",
        "def greet():\n",
        "    return f\"Hello!\"\n",
        "\n",
        "greet()"
      ],
      "metadata": {
        "colab": {
          "base_uri": "https://localhost:8080/",
          "height": 73
        },
        "id": "7-JLoSmvCVjV",
        "outputId": "4a561e78-5d70-4977-d62f-2a14744bf2eb"
      },
      "execution_count": 27,
      "outputs": [
        {
          "output_type": "stream",
          "name": "stdout",
          "text": [
            "Before function execution\n",
            "After function execution\n"
          ]
        },
        {
          "output_type": "execute_result",
          "data": {
            "text/plain": [
              "'Hello!'"
            ],
            "application/vnd.google.colaboratory.intrinsic+json": {
              "type": "string"
            }
          },
          "metadata": {},
          "execution_count": 27
        }
      ]
    },
    {
      "cell_type": "markdown",
      "source": [
        "## Skill Challenge - Lotto Draws"
      ],
      "metadata": {
        "id": "pohxswXdCYTI"
      }
    },
    {
      "cell_type": "markdown",
      "source": [
        "> <font size=\"4\">define a decorator called 'repeat' that invokes a function of variable/unknown arity twice</font>\n",
        "\n",
        "> <font size=\"4\">then, define a function called 'lotto_draw' that takes a start and end number as arguments and returns an integer that is randomly drawn from that range (inclusively)</font>\n",
        "\n",
        "> <font size=\"4\">decorate 'lotto_draw' with 'repeat' to get 2 random numbers</font>\n",
        "\n",
        "\n",
        "> ```\n",
        "lotto_draw(1, 49)\n",
        "\n",
        "> ```\n",
        "Randomly drawn number: 1\n",
        "Randomly drawn number: 36\n"
      ],
      "metadata": {
        "id": "173XTDoiyRSu"
      }
    },
    {
      "cell_type": "markdown",
      "source": [
        "## Solution"
      ],
      "metadata": {
        "id": "h1DAbWq-y7qc"
      }
    },
    {
      "cell_type": "code",
      "source": [
        "def repeat(func):\n",
        "  def wrapper(*args, **kwargs):\n",
        "    func(*args, **kwargs)\n",
        "    func(*args, **kwargs)\n",
        "  return wrapper"
      ],
      "metadata": {
        "id": "XHkDYsjZz0W-"
      },
      "execution_count": 1,
      "outputs": []
    },
    {
      "cell_type": "code",
      "source": [
        "from random import randint"
      ],
      "metadata": {
        "id": "3K-evXNu0FW9"
      },
      "execution_count": 3,
      "outputs": []
    },
    {
      "cell_type": "code",
      "source": [
        "@repeat\n",
        "def lotto_draw(start, end):\n",
        "  number = randint(start, end)\n",
        "  print(f\"Randomly drawn number: {number}\")"
      ],
      "metadata": {
        "id": "ts9TkzTt0JvT"
      },
      "execution_count": 16,
      "outputs": []
    },
    {
      "cell_type": "code",
      "source": [
        "lotto_draw(1, 49)"
      ],
      "metadata": {
        "colab": {
          "base_uri": "https://localhost:8080/"
        },
        "id": "DwLJNDxA0RMe",
        "outputId": "1b373485-d60e-41d7-c691-a4b8395ab239"
      },
      "execution_count": 20,
      "outputs": [
        {
          "output_type": "stream",
          "name": "stdout",
          "text": [
            "Randomly drawn number: 48\n",
            "Randomly drawn number: 8\n"
          ]
        }
      ]
    },
    {
      "cell_type": "markdown",
      "source": [
        "## Skill Challenge - Writing A Timer"
      ],
      "metadata": {
        "id": "oyYQgj8o0eyQ"
      }
    },
    {
      "cell_type": "markdown",
      "source": [
        "> <font size=\"4\">define a decorator called 'timed' that measures the amount of time a given function takes to run and prints that out in seconds</font>\n",
        "\n",
        "> <font size=\"4\">then, define a function that takes some number of seconds to run (e.g. a long loop) and decorate it with 'timed'</font>\n",
        "\n",
        "\n",
        "> ```\n",
        "loop_this_many_times(10**6) # decorated func\n",
        "\n",
        "> ```\n",
        "Function loop_this_many_times took 0.0286 seconds to execute.\n"
      ],
      "metadata": {
        "id": "C_vE_g4EKeMV"
      }
    },
    {
      "cell_type": "markdown",
      "source": [
        "## Solution"
      ],
      "metadata": {
        "id": "eCUvNv8QMM4d"
      }
    },
    {
      "cell_type": "code",
      "source": [
        "import time\n",
        "\n",
        "# time() -> since epoch, jan 1, 1970\n",
        "# perf_counter()\n",
        "\n",
        "def timed(func):\n",
        "  def wrapper(*args, **kwargs):\n",
        "    start_time = time.perf_counter()\n",
        "    result = func(*args, **kwargs)\n",
        "    end_time = time.perf_counter()\n",
        "\n",
        "    print(f\"Function {func.__name__} took {round(end_time - start_time, 4)} seconds to execute.\")\n",
        "    return result\n",
        "  return wrapper"
      ],
      "metadata": {
        "id": "nrq_fFWIMkte"
      },
      "execution_count": 1,
      "outputs": []
    },
    {
      "cell_type": "code",
      "source": [
        "@timed\n",
        "def loop_this_many_times(n=10**6):\n",
        "  for i in range(n):\n",
        "    pass"
      ],
      "metadata": {
        "id": "qgim6ZIWNprd"
      },
      "execution_count": 2,
      "outputs": []
    },
    {
      "cell_type": "code",
      "source": [
        "loop_this_many_times()"
      ],
      "metadata": {
        "colab": {
          "base_uri": "https://localhost:8080/"
        },
        "id": "t05R5_qWN2Q_",
        "outputId": "9a7f75d7-e491-446f-e3d6-a476eaba3c4a"
      },
      "execution_count": 3,
      "outputs": [
        {
          "output_type": "stream",
          "name": "stdout",
          "text": [
            "Function loop_this_many_times took 0.0273 seconds to execute.\n"
          ]
        }
      ]
    },
    {
      "cell_type": "code",
      "source": [
        "loop_this_many_times(10**7)"
      ],
      "metadata": {
        "colab": {
          "base_uri": "https://localhost:8080/"
        },
        "id": "ORjcOZ21N4cu",
        "outputId": "cd9437cd-2f72-4ac4-a74a-0eb0c26a3a3a"
      },
      "execution_count": 4,
      "outputs": [
        {
          "output_type": "stream",
          "name": "stdout",
          "text": [
            "Function loop_this_many_times took 0.5855 seconds to execute.\n"
          ]
        }
      ]
    },
    {
      "cell_type": "code",
      "source": [
        "loop_this_many_times(10**8)"
      ],
      "metadata": {
        "colab": {
          "base_uri": "https://localhost:8080/"
        },
        "id": "VELfr67dN6k9",
        "outputId": "21b6a0ab-475c-4596-9776-ba30465ebd68"
      },
      "execution_count": 5,
      "outputs": [
        {
          "output_type": "stream",
          "name": "stdout",
          "text": [
            "Function loop_this_many_times took 2.2025 seconds to execute.\n"
          ]
        }
      ]
    },
    {
      "cell_type": "markdown",
      "source": [
        "## Decorators With Arguments"
      ],
      "metadata": {
        "id": "kkLBEiyjN8Ft"
      }
    },
    {
      "cell_type": "code",
      "source": [
        "def calories_burned(duration_in_minutes, calories_burned_per_minute):\n",
        "    return duration_in_minutes * calories_burned_per_minute"
      ],
      "metadata": {
        "id": "qrOTwDuiPbgR"
      },
      "execution_count": 6,
      "outputs": []
    },
    {
      "cell_type": "code",
      "source": [
        "calories_burned(30, 10)"
      ],
      "metadata": {
        "colab": {
          "base_uri": "https://localhost:8080/"
        },
        "id": "Kx6iYIsBPd-t",
        "outputId": "2d21e4a7-f49c-47c0-d9dc-0cd00e078754"
      },
      "execution_count": 7,
      "outputs": [
        {
          "output_type": "execute_result",
          "data": {
            "text/plain": [
              "300"
            ]
          },
          "metadata": {},
          "execution_count": 7
        }
      ]
    },
    {
      "cell_type": "code",
      "source": [
        "def ensure_healthy_workout(func):\n",
        "  def wrapper(*args, **kwargs):\n",
        "    result = func(*args, **kwargs)\n",
        "    if result < 500:\n",
        "      print(\"This workout was not intense enough!\")\n",
        "    else:\n",
        "      print(f\"Well done! Target exceeded by {result - 500} calories!\")\n",
        "  return wrapper"
      ],
      "metadata": {
        "id": "7f5yBkwzPwSA"
      },
      "execution_count": 8,
      "outputs": []
    },
    {
      "cell_type": "code",
      "source": [
        "@ensure_healthy_workout\n",
        "def calories_burned(duration_in_minutes, calories_burned_per_minute):\n",
        "    return duration_in_minutes * calories_burned_per_minute"
      ],
      "metadata": {
        "id": "t0zqpWGMQOoG"
      },
      "execution_count": 9,
      "outputs": []
    },
    {
      "cell_type": "code",
      "source": [
        "calories_burned(30, 10)"
      ],
      "metadata": {
        "colab": {
          "base_uri": "https://localhost:8080/"
        },
        "id": "eJomipGhQRL6",
        "outputId": "f6fa707e-64f6-4f8a-e330-fbb8d7f5bfb3"
      },
      "execution_count": 10,
      "outputs": [
        {
          "output_type": "stream",
          "name": "stdout",
          "text": [
            "This workout was not intense enough!\n"
          ]
        }
      ]
    },
    {
      "cell_type": "code",
      "source": [
        "calories_burned(60, 10)"
      ],
      "metadata": {
        "colab": {
          "base_uri": "https://localhost:8080/"
        },
        "id": "qDutkAAAQSj0",
        "outputId": "e279fece-35d0-4cf3-be3f-8a9a3cd8fc64"
      },
      "execution_count": 11,
      "outputs": [
        {
          "output_type": "stream",
          "name": "stdout",
          "text": [
            "Well done! Target exceeded by 100 calories!\n"
          ]
        }
      ]
    },
    {
      "cell_type": "code",
      "source": [
        "def ensure_healthy_workout(calorie_target):\n",
        "  def actual_decorator(func):\n",
        "    def wrapper(*args, **kwargs):\n",
        "      result = func(*args, **kwargs)\n",
        "      if result < calorie_target:\n",
        "        print(\"This workout was not intense enough!\")\n",
        "      else:\n",
        "        print(f\"Well done! Target exceeded by {result - calorie_target} calories!\")\n",
        "    return wrapper\n",
        "  return actual_decorator"
      ],
      "metadata": {
        "id": "wiD8GrSFQ-hk"
      },
      "execution_count": 16,
      "outputs": []
    },
    {
      "cell_type": "code",
      "source": [
        "@ensure_healthy_workout(calorie_target=500)\n",
        "def calories_burned(duration_in_minutes, calories_burned_per_minute):\n",
        "    return duration_in_minutes * calories_burned_per_minute"
      ],
      "metadata": {
        "id": "ZFTsUPSoQVyk"
      },
      "execution_count": 21,
      "outputs": []
    },
    {
      "cell_type": "code",
      "source": [
        "calories_burned(30, 20)"
      ],
      "metadata": {
        "colab": {
          "base_uri": "https://localhost:8080/"
        },
        "id": "TLcXR-AMQs9v",
        "outputId": "58159853-5bf1-462f-ed34-2c9a8aef3d72"
      },
      "execution_count": 22,
      "outputs": [
        {
          "output_type": "stream",
          "name": "stdout",
          "text": [
            "Well done! Target exceeded by 100 calories!\n"
          ]
        }
      ]
    },
    {
      "cell_type": "markdown",
      "source": [
        "## Skill Challenge - Repeated Lotto Draws"
      ],
      "metadata": {
        "id": "tUZQr22cR6EV"
      }
    },
    {
      "cell_type": "markdown",
      "source": [
        "> <font size=\"4\">in an earlier challenge, we defined a 'repeat' decorator that invoked a given function twice. It's time to generalize that implementation so that it invokes a given function any number of times, instead of just twice</font>\n",
        "\n",
        "> <font size=\"4\">the 'repeat' decorator should work with any function that returns numeric values</font>\n",
        "\n",
        "> <font size=\"4\">it should accept an argument that specifies the number of time the decorated function is invoked, and return a list of the numbers returned in sorted order</font>\n",
        "\n",
        "> <font size=\"4\">apply the new 'repeat' decorator to the lotto_draw function to obtain 7 randomly generated integers</font>\n",
        "\n",
        "\n",
        "> ```\n",
        "@repeat(num_times=7)\n",
        "def lotto_draw(start, end):\n",
        "    return random.randint(start, end)\n",
        "\n",
        "\n",
        "> ```\n",
        "lotto_draw(1, 49)\n",
        "[1, 15, 19, 19, 31, 40, 44]\n"
      ],
      "metadata": {
        "id": "fHvg6lCCRVGt"
      }
    },
    {
      "cell_type": "markdown",
      "source": [
        "## Solution"
      ],
      "metadata": {
        "id": "Num011YLUHn9"
      }
    },
    {
      "cell_type": "code",
      "source": [
        "def repeat(num_times):\n",
        "  def decorator(func):\n",
        "    def inner(*args, **kwargs):\n",
        "      result = []\n",
        "      for _ in range(num_times):\n",
        "        number = func(*args, **kwargs)\n",
        "        result.append(number)\n",
        "      return sorted(result)\n",
        "    return inner\n",
        "  return decorator"
      ],
      "metadata": {
        "id": "zbcErulWVFws"
      },
      "execution_count": 23,
      "outputs": []
    },
    {
      "cell_type": "code",
      "source": [
        "import random\n",
        "\n",
        "@repeat(num_times=7)\n",
        "def lotto_draw(start, end):\n",
        "  return random.randint(start, end)"
      ],
      "metadata": {
        "id": "B_OUYbQnVEwo"
      },
      "execution_count": 32,
      "outputs": []
    },
    {
      "cell_type": "code",
      "source": [
        "lotto_draw(1, 49)"
      ],
      "metadata": {
        "colab": {
          "base_uri": "https://localhost:8080/"
        },
        "id": "O4_HX8B4VhNc",
        "outputId": "929bd0cc-2c02-465e-b5cd-421932b6ec34"
      },
      "execution_count": 33,
      "outputs": [
        {
          "output_type": "execute_result",
          "data": {
            "text/plain": [
              "[5, 18, 19, 28, 31, 34, 47]"
            ]
          },
          "metadata": {},
          "execution_count": 33
        }
      ]
    },
    {
      "cell_type": "markdown",
      "source": [
        "## Chaining Multiple Decorators"
      ],
      "metadata": {
        "id": "PKU7LzdRVh8i"
      }
    },
    {
      "cell_type": "code",
      "source": [
        "# available decorators\n",
        "\n",
        "def uppercase(func):\n",
        "    def wrapper():\n",
        "        result = func()\n",
        "        return result.upper()\n",
        "    return wrapper\n",
        "\n",
        "def split(func):\n",
        "    def wrapper():\n",
        "        result = func()\n",
        "        return result.split()\n",
        "    return wrapper"
      ],
      "metadata": {
        "id": "e03n7rh2WUI5"
      },
      "execution_count": 41,
      "outputs": []
    },
    {
      "cell_type": "code",
      "source": [
        "# target function\n",
        "\n",
        "@split\n",
        "@uppercase\n",
        "def passphrase():\n",
        "    return \"Horizontal Omit Station Reflection\""
      ],
      "metadata": {
        "id": "QKuCstL6WD9N"
      },
      "execution_count": 50,
      "outputs": []
    },
    {
      "cell_type": "code",
      "source": [
        "passphrase()"
      ],
      "metadata": {
        "colab": {
          "base_uri": "https://localhost:8080/"
        },
        "id": "kObekejKXXha",
        "outputId": "5f15df6a-36c4-43e2-9d91-8924ae813409"
      },
      "execution_count": 51,
      "outputs": [
        {
          "output_type": "execute_result",
          "data": {
            "text/plain": [
              "['HORIZONTAL', 'OMIT', 'STATION', 'REFLECTION']"
            ]
          },
          "metadata": {},
          "execution_count": 51
        }
      ]
    },
    {
      "cell_type": "code",
      "source": [
        "@uppercase\n",
        "@split\n",
        "def passphrase():\n",
        "    return \"Horizontal Omit Station Reflection\""
      ],
      "metadata": {
        "id": "H6IdE3laZFoX"
      },
      "execution_count": 53,
      "outputs": []
    },
    {
      "cell_type": "code",
      "source": [
        "passphrase()"
      ],
      "metadata": {
        "colab": {
          "base_uri": "https://localhost:8080/",
          "height": 299
        },
        "id": "DpoIJKeTacYu",
        "outputId": "1aa850c8-e3dc-4271-fa81-7515c7efc776"
      },
      "execution_count": 54,
      "outputs": [
        {
          "output_type": "error",
          "ename": "AttributeError",
          "evalue": "ignored",
          "traceback": [
            "\u001b[0;31m---------------------------------------------------------------------------\u001b[0m",
            "\u001b[0;31mAttributeError\u001b[0m                            Traceback (most recent call last)",
            "\u001b[0;32m<ipython-input-54-50a7c7d1a977>\u001b[0m in \u001b[0;36m<cell line: 1>\u001b[0;34m()\u001b[0m\n\u001b[0;32m----> 1\u001b[0;31m \u001b[0mpassphrase\u001b[0m\u001b[0;34m(\u001b[0m\u001b[0;34m)\u001b[0m\u001b[0;34m\u001b[0m\u001b[0;34m\u001b[0m\u001b[0m\n\u001b[0m",
            "\u001b[0;32m<ipython-input-41-107ea022472d>\u001b[0m in \u001b[0;36mwrapper\u001b[0;34m()\u001b[0m\n\u001b[1;32m      4\u001b[0m     \u001b[0;32mdef\u001b[0m \u001b[0mwrapper\u001b[0m\u001b[0;34m(\u001b[0m\u001b[0;34m)\u001b[0m\u001b[0;34m:\u001b[0m\u001b[0;34m\u001b[0m\u001b[0;34m\u001b[0m\u001b[0m\n\u001b[1;32m      5\u001b[0m         \u001b[0mresult\u001b[0m \u001b[0;34m=\u001b[0m \u001b[0mfunc\u001b[0m\u001b[0;34m(\u001b[0m\u001b[0;34m)\u001b[0m\u001b[0;34m\u001b[0m\u001b[0;34m\u001b[0m\u001b[0m\n\u001b[0;32m----> 6\u001b[0;31m         \u001b[0;32mreturn\u001b[0m \u001b[0mresult\u001b[0m\u001b[0;34m.\u001b[0m\u001b[0mupper\u001b[0m\u001b[0;34m(\u001b[0m\u001b[0;34m)\u001b[0m\u001b[0;34m\u001b[0m\u001b[0;34m\u001b[0m\u001b[0m\n\u001b[0m\u001b[1;32m      7\u001b[0m     \u001b[0;32mreturn\u001b[0m \u001b[0mwrapper\u001b[0m\u001b[0;34m\u001b[0m\u001b[0;34m\u001b[0m\u001b[0m\n\u001b[1;32m      8\u001b[0m \u001b[0;34m\u001b[0m\u001b[0m\n",
            "\u001b[0;31mAttributeError\u001b[0m: 'list' object has no attribute 'upper'"
          ]
        }
      ]
    },
    {
      "cell_type": "code",
      "source": [
        "\"Horizontal Omit Station Reflection\".split().upper()"
      ],
      "metadata": {
        "colab": {
          "base_uri": "https://localhost:8080/",
          "height": 171
        },
        "id": "GoIwKrlXadPX",
        "outputId": "34470d90-7d9b-4e55-900c-1cc0e23e87ec"
      },
      "execution_count": 56,
      "outputs": [
        {
          "output_type": "error",
          "ename": "AttributeError",
          "evalue": "ignored",
          "traceback": [
            "\u001b[0;31m---------------------------------------------------------------------------\u001b[0m",
            "\u001b[0;31mAttributeError\u001b[0m                            Traceback (most recent call last)",
            "\u001b[0;32m<ipython-input-56-73a25c06e629>\u001b[0m in \u001b[0;36m<cell line: 1>\u001b[0;34m()\u001b[0m\n\u001b[0;32m----> 1\u001b[0;31m \u001b[0;34m\"Horizontal Omit Station Reflection\"\u001b[0m\u001b[0;34m.\u001b[0m\u001b[0msplit\u001b[0m\u001b[0;34m(\u001b[0m\u001b[0;34m)\u001b[0m\u001b[0;34m.\u001b[0m\u001b[0mupper\u001b[0m\u001b[0;34m(\u001b[0m\u001b[0;34m)\u001b[0m\u001b[0;34m\u001b[0m\u001b[0;34m\u001b[0m\u001b[0m\n\u001b[0m",
            "\u001b[0;31mAttributeError\u001b[0m: 'list' object has no attribute 'upper'"
          ]
        }
      ]
    },
    {
      "cell_type": "markdown",
      "source": [
        "## Preserving Identify With @wraps"
      ],
      "metadata": {
        "id": "IhqSx8sfag74"
      }
    },
    {
      "cell_type": "code",
      "source": [
        "def split(func):\n",
        "    def wrapper():\n",
        "        result = func()\n",
        "        return result.split()\n",
        "    return wrapper"
      ],
      "metadata": {
        "id": "u3FnyuRxbd0B"
      },
      "execution_count": 58,
      "outputs": []
    },
    {
      "cell_type": "code",
      "source": [],
      "metadata": {
        "id": "TjuGefcTbfWz"
      },
      "execution_count": null,
      "outputs": []
    },
    {
      "cell_type": "code",
      "source": [
        "def passphrase():\n",
        "    \"\"\"Returns a string.\"\"\"\n",
        "    print(\"Horizontal Omit Station Reflection\")"
      ],
      "metadata": {
        "id": "77H9NvAXbF0X"
      },
      "execution_count": 57,
      "outputs": []
    },
    {
      "cell_type": "code",
      "source": [
        "passphrase"
      ],
      "metadata": {
        "colab": {
          "base_uri": "https://localhost:8080/"
        },
        "id": "cnjR-GmrbPkq",
        "outputId": "c8a2d56d-8dde-4910-8ccf-1dfe4c2a1a86"
      },
      "execution_count": 59,
      "outputs": [
        {
          "output_type": "execute_result",
          "data": {
            "text/plain": [
              "<function __main__.passphrase()>"
            ]
          },
          "metadata": {},
          "execution_count": 59
        }
      ]
    },
    {
      "cell_type": "code",
      "source": [
        "passphrase.__name__"
      ],
      "metadata": {
        "colab": {
          "base_uri": "https://localhost:8080/",
          "height": 36
        },
        "id": "Ppm1wJjCc7m6",
        "outputId": "bed81564-0026-4eb1-dcbc-fedca7cc79eb"
      },
      "execution_count": 60,
      "outputs": [
        {
          "output_type": "execute_result",
          "data": {
            "text/plain": [
              "'passphrase'"
            ],
            "application/vnd.google.colaboratory.intrinsic+json": {
              "type": "string"
            }
          },
          "metadata": {},
          "execution_count": 60
        }
      ]
    },
    {
      "cell_type": "code",
      "source": [
        "passphrase.__doc__"
      ],
      "metadata": {
        "colab": {
          "base_uri": "https://localhost:8080/",
          "height": 36
        },
        "id": "xc0Fk0YqdD8s",
        "outputId": "39d856c5-3e43-403b-af02-289eded693f5"
      },
      "execution_count": 61,
      "outputs": [
        {
          "output_type": "execute_result",
          "data": {
            "text/plain": [
              "'Returns a string.'"
            ],
            "application/vnd.google.colaboratory.intrinsic+json": {
              "type": "string"
            }
          },
          "metadata": {},
          "execution_count": 61
        }
      ]
    },
    {
      "cell_type": "code",
      "source": [
        "@split\n",
        "def passphrase():\n",
        "    \"\"\"Returns a string.\"\"\"\n",
        "    return \"Horizontal Omit Station Reflection\""
      ],
      "metadata": {
        "id": "ZAF-V1kudGbp"
      },
      "execution_count": 64,
      "outputs": []
    },
    {
      "cell_type": "code",
      "source": [
        "passphrase()"
      ],
      "metadata": {
        "colab": {
          "base_uri": "https://localhost:8080/"
        },
        "id": "VXj4mBFidQQ_",
        "outputId": "301ee2aa-f08d-40d6-8af6-4de28d992601"
      },
      "execution_count": 65,
      "outputs": [
        {
          "output_type": "execute_result",
          "data": {
            "text/plain": [
              "['Horizontal', 'Omit', 'Station', 'Reflection']"
            ]
          },
          "metadata": {},
          "execution_count": 65
        }
      ]
    },
    {
      "cell_type": "code",
      "source": [
        "passphrase.__name__"
      ],
      "metadata": {
        "colab": {
          "base_uri": "https://localhost:8080/",
          "height": 36
        },
        "id": "5wWOpIY7dRW2",
        "outputId": "24f3218d-e4b7-4f11-9839-5f7b269dae73"
      },
      "execution_count": 67,
      "outputs": [
        {
          "output_type": "execute_result",
          "data": {
            "text/plain": [
              "'wrapper'"
            ],
            "application/vnd.google.colaboratory.intrinsic+json": {
              "type": "string"
            }
          },
          "metadata": {},
          "execution_count": 67
        }
      ]
    },
    {
      "cell_type": "code",
      "source": [
        "passphrase.__doc__"
      ],
      "metadata": {
        "id": "HAn7e8S7daEm"
      },
      "execution_count": 68,
      "outputs": []
    },
    {
      "cell_type": "code",
      "source": [
        "# functools -> wraps\n",
        "\n",
        "# __wrapped__ ->"
      ],
      "metadata": {
        "id": "Ke1gSw9DdcS3"
      },
      "execution_count": 69,
      "outputs": []
    },
    {
      "cell_type": "code",
      "source": [
        "from functools import wraps\n",
        "\n",
        "def split(func):\n",
        "    @wraps(func)\n",
        "    def wrapper():\n",
        "        result = func()\n",
        "        return result.split()\n",
        "    return wrapper"
      ],
      "metadata": {
        "id": "tJ71CoiEd1j7"
      },
      "execution_count": 70,
      "outputs": []
    },
    {
      "cell_type": "code",
      "source": [
        "@split\n",
        "def passphrase():\n",
        "    \"\"\"Returns a string.\"\"\"\n",
        "    return \"Horizontal Omit Station Reflection\""
      ],
      "metadata": {
        "id": "bPcXWK9OeAZ6"
      },
      "execution_count": 71,
      "outputs": []
    },
    {
      "cell_type": "code",
      "source": [
        "passphrase()"
      ],
      "metadata": {
        "colab": {
          "base_uri": "https://localhost:8080/"
        },
        "id": "wXRMR3d3eCXf",
        "outputId": "d8c5ab9c-a5c2-4f8a-9b45-522d2a280296"
      },
      "execution_count": 72,
      "outputs": [
        {
          "output_type": "execute_result",
          "data": {
            "text/plain": [
              "['Horizontal', 'Omit', 'Station', 'Reflection']"
            ]
          },
          "metadata": {},
          "execution_count": 72
        }
      ]
    },
    {
      "cell_type": "code",
      "source": [
        "passphrase.__name__"
      ],
      "metadata": {
        "colab": {
          "base_uri": "https://localhost:8080/",
          "height": 36
        },
        "id": "p0UTOiy8eEAt",
        "outputId": "268f4c94-bd2c-4a83-8b05-0c9f9cc7098f"
      },
      "execution_count": 73,
      "outputs": [
        {
          "output_type": "execute_result",
          "data": {
            "text/plain": [
              "'passphrase'"
            ],
            "application/vnd.google.colaboratory.intrinsic+json": {
              "type": "string"
            }
          },
          "metadata": {},
          "execution_count": 73
        }
      ]
    },
    {
      "cell_type": "code",
      "source": [
        "passphrase.__doc__"
      ],
      "metadata": {
        "colab": {
          "base_uri": "https://localhost:8080/",
          "height": 36
        },
        "id": "NRUotxIgeF6M",
        "outputId": "bb40872d-5142-4deb-9275-21276d0525e2"
      },
      "execution_count": 74,
      "outputs": [
        {
          "output_type": "execute_result",
          "data": {
            "text/plain": [
              "'Returns a string.'"
            ],
            "application/vnd.google.colaboratory.intrinsic+json": {
              "type": "string"
            }
          },
          "metadata": {},
          "execution_count": 74
        }
      ]
    },
    {
      "cell_type": "code",
      "source": [
        "passphrase.__wrapped__.__name__ is passphrase.__name__"
      ],
      "metadata": {
        "colab": {
          "base_uri": "https://localhost:8080/"
        },
        "id": "XwzpHLUQeG5K",
        "outputId": "468f39e5-691d-4a1c-a397-2a4d94ca72a6"
      },
      "execution_count": 75,
      "outputs": [
        {
          "output_type": "execute_result",
          "data": {
            "text/plain": [
              "True"
            ]
          },
          "metadata": {},
          "execution_count": 75
        }
      ]
    },
    {
      "cell_type": "code",
      "source": [
        "# __name__, __doc__, __module__, __annotations__... (assignments)\n",
        "# __dict__ (wrapper updates)"
      ],
      "metadata": {
        "id": "9f1IvCjCeaI6"
      },
      "execution_count": 76,
      "outputs": []
    },
    {
      "cell_type": "markdown",
      "source": [
        "## Skill Challenge: Delaying Downloads"
      ],
      "metadata": {
        "id": "mWG_rFonevPt"
      }
    },
    {
      "cell_type": "markdown",
      "source": [
        "> <font size=\"4\">write a placeholder function called 'download(user_id, resource)' that simulates the generation of a download link. For our purposes that could simply be a uuid() or a random alphanumeric string</font>\n",
        "\n",
        "> <font size=\"4\">then define a decorator that progressively slows down the downsloads for a given user by doubling the time it takes for the download link to be generated, e.g. the first invocation happens instantly, the second one takes 1 second, the third 2 second, the fourth 4 seconds, and so on. </font>\n",
        "\n",
        "> <font size=\"4\">note that the delay should be user-specific, but not resource specific</font>\n",
        "\n",
        "\n",
        "> ```\n",
        "download(3, \"Python\") # first invocation for UserId 3\n",
        "\n",
        "\n",
        "> ```\n",
        "Your resource is ready at: andybek.com/a0accf2c-9e65-44db-be5e-d4e64b9bee6e\n",
        "\n",
        "\n",
        "> ```\n",
        "download(3, \"Python\") # second invocation for UserId 3\n",
        "\n",
        "\n",
        "> ```\n",
        "Your download will start in 1s\n",
        "Your resource is ready at: andybek.com/fbcab9a3-b90b-4dd1-9882-d33b766ac273\n",
        "\n",
        "\n",
        "> ```\n",
        "download(3, \"Python\") # third invocation for UserId 3\n",
        "\n",
        "> ```\n",
        "Your download will start in 2s\n",
        "Your resource is ready at: andybek.com/cb8e6534-3128-4ce9-966e-9f8037a4cc66\n",
        "\n",
        "> ```\n",
        "download(4, \"Python\") # first invocation for UserId 4\n",
        "\n",
        "> ```\n",
        "Your resource is ready at: andybek.com/f8de5e18-b01c-4650-acda-27eff61a3b5a\n",
        "\n"
      ],
      "metadata": {
        "id": "nu1C-wSUfN4k"
      }
    },
    {
      "cell_type": "markdown",
      "source": [
        "## Solution"
      ],
      "metadata": {
        "id": "PgVP6iFFgsKs"
      }
    },
    {
      "cell_type": "code",
      "source": [
        "from uuid import uuid4\n",
        "\n",
        "def download(user_id, resource):\n",
        "  download_uuid = uuid4()\n",
        "  download_url = f\"andybek.com/{download_uuid}\"\n",
        "\n",
        "  return f\"Your resource is ready at: {download_url}\""
      ],
      "metadata": {
        "id": "QjYbHe-nhlaK"
      },
      "execution_count": 80,
      "outputs": []
    },
    {
      "cell_type": "code",
      "source": [
        "download(3, \"python\")"
      ],
      "metadata": {
        "colab": {
          "base_uri": "https://localhost:8080/",
          "height": 36
        },
        "id": "5HB_QJaUhvIK",
        "outputId": "78d94a37-a425-4b0e-8df3-12ef1eed7289"
      },
      "execution_count": 94,
      "outputs": [
        {
          "output_type": "execute_result",
          "data": {
            "text/plain": [
              "'Your resource is ready at: andybek.com/3e148ea7-28c8-4d12-ba1a-d2e92579daec'"
            ],
            "application/vnd.google.colaboratory.intrinsic+json": {
              "type": "string"
            }
          },
          "metadata": {},
          "execution_count": 94
        }
      ]
    },
    {
      "cell_type": "code",
      "source": [
        "import time\n",
        "\n",
        "user_delay = {}\n",
        "\n",
        "def delay_decorator(func):\n",
        "  def wrapper(*args, **kwargs):\n",
        "    delay = user_delay.get(kwargs.get(\"user_id\"), 0)\n",
        "    user_delay[kwargs.get(\"user_id\")] = max(1, delay * 2)\n",
        "\n",
        "    if delay > 0:\n",
        "      print(f\"Your download will start in {delay}s\")\n",
        "\n",
        "    time.sleep(delay)\n",
        "    return func(*args, **kwargs)\n",
        "\n",
        "  return wrapper"
      ],
      "metadata": {
        "id": "6rKQaOhHhwam"
      },
      "execution_count": 99,
      "outputs": []
    },
    {
      "cell_type": "code",
      "source": [
        "@delay_decorator\n",
        "def download(user_id, resource):\n",
        "  download_uuid = uuid4()\n",
        "  download_url = f\"andybek.com/{download_uuid}\"\n",
        "\n",
        "  return f\"Your resource is ready at: {download_url}\""
      ],
      "metadata": {
        "id": "aTysg4adi3Rl"
      },
      "execution_count": 100,
      "outputs": []
    },
    {
      "cell_type": "code",
      "source": [
        "download(2, \"python\")"
      ],
      "metadata": {
        "colab": {
          "base_uri": "https://localhost:8080/",
          "height": 54
        },
        "id": "hPgFT4ELi5gO",
        "outputId": "bdffe8ef-1bb7-40e0-87b5-4bf26e01344f"
      },
      "execution_count": 105,
      "outputs": [
        {
          "output_type": "stream",
          "name": "stdout",
          "text": [
            "Your download will start in 8s\n"
          ]
        },
        {
          "output_type": "execute_result",
          "data": {
            "text/plain": [
              "'Your resource is ready at: andybek.com/91c451ab-7e9b-44d8-8c9a-d3f256e2cd87'"
            ],
            "application/vnd.google.colaboratory.intrinsic+json": {
              "type": "string"
            }
          },
          "metadata": {},
          "execution_count": 105
        }
      ]
    },
    {
      "cell_type": "markdown",
      "source": [
        "## Skill Challenge: Authentication Workflow Part I"
      ],
      "metadata": {
        "id": "fDi2Q4M-i6zr"
      }
    },
    {
      "cell_type": "markdown",
      "source": [
        "<h2>Mock an interface</h2>\n",
        "\n",
        "> <font size=\"4\">write a basic function that exposes a menu with 3 options:\n",
        "\n",
        "\n",
        "- a. View Roster\n",
        "- b. Upvote\n",
        "- c. Add to Roster\n",
        "- d. Quit\n",
        "\n",
        "</font>\n",
        "\n",
        "> <font size=\"4\">...each of these options invokes their own respective functions, with the exception of 'Quit' which simply exits the menu.\n",
        "\n",
        "1.   'View Roster' prints a list of names and votes, in descending order by votes. For simplicity, this information is stored locally as a python list of dicts.\n",
        "2.   'Upvote' adds 1 vote to the specified user\n",
        "3.   'Add to Roster' allows the user to add a new name to that list\n",
        "</font>\n",
        "\n",
        "> ```\n",
        " Choose an option:\n",
        "        a. View roster\n",
        "        b. Upvote\n",
        "        c. Add to roster\n",
        "        d. Quit\n",
        "\n",
        "\n",
        "> ```\n",
        "Enter option: a\n",
        "\n",
        "\n",
        "> ```\n",
        "Bob: 3 votes\n",
        "Alice: 1 votes\n"
      ],
      "metadata": {
        "id": "XSnw1mUSj0gs"
      }
    },
    {
      "cell_type": "markdown",
      "source": [
        "## Solution Part I"
      ],
      "metadata": {
        "id": "fgnF2tZz5pAJ"
      }
    },
    {
      "cell_type": "code",
      "source": [
        "# application state ###\n",
        "ROSTER = [\n",
        "    { \"name\": \"Alice\", \"votes\": 12},\n",
        "    { \"name\": \"Tyler\", \"votes\": 9},\n",
        "    { \"name\": \"Andrew\", \"votes\": 10}\n",
        "]\n",
        "#######################\n",
        "\n",
        "def menu():\n",
        "  while True:\n",
        "    print(\"\"\"\n",
        "    a. View Roster\n",
        "    b. Upvote\n",
        "    c. Add to Roster\n",
        "    d. Quit\n",
        "    \"\"\")\n",
        "\n",
        "    option = input(\"Enter option: \").lower()\n",
        "\n",
        "    if option == \"a\":\n",
        "      view_roster()\n",
        "    elif option == \"b\":\n",
        "      upvote()\n",
        "    elif option == \"c\":\n",
        "      add_to_roster()\n",
        "    else:\n",
        "      break\n",
        "\n",
        "def view_roster():\n",
        "  sorted_roster = sorted(ROSTER, key=lambda p: p[\"votes\"], reverse=True)\n",
        "\n",
        "  for p in sorted_roster:\n",
        "    print(f\"{p['name']}: {p['votes']}\")\n",
        "\n",
        "\n",
        "def upvote():\n",
        "  name = input(\"Enter the name of the person to upvote: \").lower()\n",
        "\n",
        "  for p in ROSTER:\n",
        "    if p[\"name\"].lower() == name:\n",
        "      p[\"votes\"] += 1\n",
        "      print(f\"Upvoted {p['name']}!\")\n",
        "      return\n",
        "\n",
        "  print(\"Name was not found!\")\n",
        "\n",
        "\n",
        "def add_to_roster():\n",
        "  name = input(\"Enter the name of the person to add: \")\n",
        "  ROSTER.append({\"name\": name, \"votes\": 0})\n",
        "  print(f\"Added {name} to the roster!\")"
      ],
      "metadata": {
        "id": "mDUGCUtxG09g"
      },
      "execution_count": 22,
      "outputs": []
    },
    {
      "cell_type": "code",
      "source": [
        "menu()"
      ],
      "metadata": {
        "colab": {
          "base_uri": "https://localhost:8080/"
        },
        "id": "5gyZkBcBG0xD",
        "outputId": "18660065-d633-413d-cb5b-7a8d586e2bb8"
      },
      "execution_count": 21,
      "outputs": [
        {
          "name": "stdout",
          "output_type": "stream",
          "text": [
            "\n",
            "    a. View Roster\n",
            "    b. Upvote\n",
            "    c. Add to Roster\n",
            "    d. Quit\n",
            "    \n",
            "Enter option: a\n",
            "Alice: 12\n",
            "Andrew: 10\n",
            "Tyler: 9\n",
            "\n",
            "    a. View Roster\n",
            "    b. Upvote\n",
            "    c. Add to Roster\n",
            "    d. Quit\n",
            "    \n",
            "Enter option: b\n",
            "Enter the name of the person to upvote: tyler\n",
            "Upvoted Tyler!\n",
            "\n",
            "    a. View Roster\n",
            "    b. Upvote\n",
            "    c. Add to Roster\n",
            "    d. Quit\n",
            "    \n",
            "Enter option: a\n",
            "Alice: 12\n",
            "Tyler: 10\n",
            "Andrew: 10\n",
            "\n",
            "    a. View Roster\n",
            "    b. Upvote\n",
            "    c. Add to Roster\n",
            "    d. Quit\n",
            "    \n",
            "Enter option: c\n",
            "Enter the name of the person to add: tanya\n",
            "Added tanya to the roster!\n",
            "\n",
            "    a. View Roster\n",
            "    b. Upvote\n",
            "    c. Add to Roster\n",
            "    d. Quit\n",
            "    \n",
            "Enter option: a\n",
            "Alice: 12\n",
            "Tyler: 10\n",
            "Andrew: 10\n",
            "tanya: 0\n",
            "\n",
            "    a. View Roster\n",
            "    b. Upvote\n",
            "    c. Add to Roster\n",
            "    d. Quit\n",
            "    \n",
            "Enter option: d\n"
          ]
        }
      ]
    },
    {
      "cell_type": "code",
      "source": [],
      "metadata": {
        "id": "pVigJTnCG0lH"
      },
      "execution_count": null,
      "outputs": []
    },
    {
      "cell_type": "code",
      "source": [],
      "metadata": {
        "id": "6pWJN9DFG0YP"
      },
      "execution_count": null,
      "outputs": []
    },
    {
      "cell_type": "code",
      "source": [],
      "metadata": {
        "id": "tP4ty_w-G0Lk"
      },
      "execution_count": null,
      "outputs": []
    },
    {
      "cell_type": "code",
      "source": [],
      "metadata": {
        "id": "H7_6HA58Gz_Z"
      },
      "execution_count": null,
      "outputs": []
    },
    {
      "cell_type": "code",
      "source": [],
      "metadata": {
        "id": "L8xaejooGzz5"
      },
      "execution_count": null,
      "outputs": []
    },
    {
      "cell_type": "code",
      "source": [],
      "metadata": {
        "id": "_aFNfN5NGznf"
      },
      "execution_count": null,
      "outputs": []
    },
    {
      "cell_type": "code",
      "source": [],
      "metadata": {
        "id": "xxaiWEKyGzUv"
      },
      "execution_count": null,
      "outputs": []
    },
    {
      "cell_type": "code",
      "source": [],
      "metadata": {
        "id": "ueFMRLKH9dZY"
      },
      "execution_count": 6,
      "outputs": []
    },
    {
      "cell_type": "markdown",
      "source": [
        "## Skill Challenge: Authentication Workflow Part II"
      ],
      "metadata": {
        "id": "SbJxkUPKA5Fj"
      }
    },
    {
      "cell_type": "markdown",
      "source": [
        "\n",
        "\n",
        "> <font size=\"4\">write a decorator called 'authd' which could be applied to any of the functions in our interface so as to require the user to be authenticated before the function is invoked</font>\n",
        "\n",
        "> <font size=\"4\">apply that decorator to the 'Add to Roster' and 'Upvote' options in the menu</font>\n",
        "\n",
        "> <font size=\"4\">Assume the authentication would be based on a username and password, which for simplicity could be stored as global variables</font>\n",
        "\n",
        "> ```\n",
        " Choose an option:\n",
        "        a. View roster\n",
        "        b. Upvote\n",
        "        c. Add to roster\n",
        "        d. Quit\n",
        "\n",
        "\n",
        "> ```\n",
        "Enter option: b\n",
        "\n",
        "\n",
        "> ```\n",
        "Enter username:\n",
        "Enter password:\n"
      ],
      "metadata": {
        "id": "EQwC2iwn_7kt"
      }
    },
    {
      "cell_type": "markdown",
      "source": [
        "## Solution Part II"
      ],
      "metadata": {
        "id": "nGifUdpgPmsf"
      }
    },
    {
      "cell_type": "code",
      "source": [
        "# application state ###\n",
        "ROSTER = [\n",
        "    { \"name\": \"Alice\", \"votes\": 12},\n",
        "    { \"name\": \"Tyler\", \"votes\": 9},\n",
        "    { \"name\": \"Andrew\", \"votes\": 10}\n",
        "]\n",
        "\n",
        "USERNAME = \"admin\"\n",
        "PASSWORD = \"pw\"\n",
        "\n",
        "AUTHD_USER =set()\n",
        "#######################\n",
        "\n",
        "from functools import wraps\n",
        "\n",
        "def authd(func):\n",
        "  @wraps(func)\n",
        "  def wrapper(*args, **kwargs):\n",
        "    if USERNAME not in AUTHD_USER:\n",
        "      entered_username = input(\"Enter username: \")\n",
        "      entered_password = input(\"Enter password: \")\n",
        "\n",
        "      if entered_password != PASSWORD or entered_username != USERNAME:\n",
        "        print(\"Authentication failed!\")\n",
        "        return\n",
        "\n",
        "      AUTHD_USER.add(entered_username)\n",
        "\n",
        "    func(*args, **kwargs)\n",
        "  return wrapper\n",
        "\n",
        "\n",
        "def menu():\n",
        "  while True:\n",
        "    print(\"\"\"\n",
        "    a. View Roster\n",
        "    b. Upvote\n",
        "    c. Add to Roster\n",
        "    d. Quit\n",
        "    \"\"\")\n",
        "\n",
        "    option = input(\"Enter option: \").lower()\n",
        "\n",
        "    if option == \"a\":\n",
        "      view_roster()\n",
        "    elif option == \"b\":\n",
        "      upvote()\n",
        "    elif option == \"c\":\n",
        "      add_to_roster()\n",
        "    else:\n",
        "      break\n",
        "\n",
        "def view_roster():\n",
        "  sorted_roster = sorted(ROSTER, key=lambda p: p[\"votes\"], reverse=True)\n",
        "\n",
        "  for p in sorted_roster:\n",
        "    print(f\"{p['name']}: {p['votes']}\")\n",
        "\n",
        "\n",
        "@authd\n",
        "def upvote():\n",
        "  name = input(\"Enter the name of the person to upvote: \").lower()\n",
        "\n",
        "  for p in ROSTER:\n",
        "    if p[\"name\"].lower() == name:\n",
        "      p[\"votes\"] += 1\n",
        "      print(f\"Upvoted {p['name']}!\")\n",
        "      return\n",
        "\n",
        "  print(\"Name was not found!\")\n",
        "\n",
        "\n",
        "@authd\n",
        "def add_to_roster():\n",
        "  name = input(\"Enter the name of the person to add: \")\n",
        "  ROSTER.append({\"name\": name, \"votes\": 0})\n",
        "  print(f\"Added {name} to the roster!\")"
      ],
      "metadata": {
        "id": "hssRiRT1LElB"
      },
      "execution_count": 27,
      "outputs": []
    },
    {
      "cell_type": "code",
      "source": [
        "menu()"
      ],
      "metadata": {
        "colab": {
          "base_uri": "https://localhost:8080/"
        },
        "id": "ZgM_bi-NCq5b",
        "outputId": "56c1a7f7-24d3-4ceb-fc00-42456f5ca592"
      },
      "execution_count": 28,
      "outputs": [
        {
          "name": "stdout",
          "output_type": "stream",
          "text": [
            "\n",
            "    a. View Roster\n",
            "    b. Upvote\n",
            "    c. Add to Roster\n",
            "    d. Quit\n",
            "    \n",
            "Enter option: b\n",
            "Enter username: admin\n",
            "Enter password: pw\n",
            "Enter the name of the person to upvote: alice\n",
            "Upvoted Alice!\n",
            "\n",
            "    a. View Roster\n",
            "    b. Upvote\n",
            "    c. Add to Roster\n",
            "    d. Quit\n",
            "    \n",
            "Enter option: a\n",
            "Alice: 13\n",
            "Andrew: 10\n",
            "Tyler: 9\n",
            "\n",
            "    a. View Roster\n",
            "    b. Upvote\n",
            "    c. Add to Roster\n",
            "    d. Quit\n",
            "    \n",
            "Enter option: c\n",
            "Enter the name of the person to add: Tanya\n",
            "Added Tanya to the roster!\n",
            "\n",
            "    a. View Roster\n",
            "    b. Upvote\n",
            "    c. Add to Roster\n",
            "    d. Quit\n",
            "    \n",
            "Enter option: a\n",
            "Alice: 13\n",
            "Andrew: 10\n",
            "Tyler: 9\n",
            "Tanya: 0\n",
            "\n",
            "    a. View Roster\n",
            "    b. Upvote\n",
            "    c. Add to Roster\n",
            "    d. Quit\n",
            "    \n",
            "Enter option: d\n"
          ]
        }
      ]
    },
    {
      "cell_type": "markdown",
      "source": [
        "## Skill Challenge - Building A Cache"
      ],
      "metadata": {
        "id": "CrsB9-KkPZgD"
      }
    },
    {
      "cell_type": "markdown",
      "source": [
        "> <font size=\"4\">define a function 'get_weather(city)' that simulates the retrieval of weather data for a given city. For simplicity, the function will return a dictionary containing random values for temperature (range from -10 to 30) and humidity (range from 0 to 100). Use a delay  of 1 second to mimic the real-time delay of calling a live API</font>\n",
        "\n",
        "> <font size=\"4\">then define a decorator 'cache_decorator(func)' that checks if the requested city's weather data is already in the cache AND it isn't too old (i.e. less than 10 seconds old). If the data meets both conditions, the decorator should return a value from cache rather than allow the invocation of the target function</font>\n",
        "\n",
        "> <font size=\"4\">if the weather data for the city is not in the cache or it's too old, the 'get_weather(city)' invocation should be allowed to get and return fresh data. In addition, the cacheshould be updated with the new data</font>\n",
        "\n",
        "> <font size=\"4\">for simplicity, implement the weather data cache for each city as a dictionary</font>\n",
        "\n",
        "> ```\n",
        " get_weather(\"Toronto\")\n",
        "\n",
        "\n",
        "> ```\n",
        "Fetching weather data for Toronto...\n",
        "{'temperature': -1, 'humidity': 32}\n",
        "\n",
        "\n",
        "> ```\n",
        "get_weather(\"Toronto\")\n",
        "\n",
        "> ```\n",
        "Returning cached result for  Toronto\n",
        "{'temperature': -1, 'humidity': 32}\n",
        "\n",
        "> ```\n",
        "get_weather(\"Toronto\") # more than 10 seconds after 1st call\n",
        "\n",
        "> ```\n",
        "Fetching weather data for Toronto...\n",
        "{'temperature': 11, 'humidity': 14}\n"
      ],
      "metadata": {
        "id": "Ltkvq2otEOAg"
      }
    },
    {
      "cell_type": "markdown",
      "source": [
        "## Solution"
      ],
      "metadata": {
        "id": "6ypeRCuZRgsH"
      }
    },
    {
      "cell_type": "code",
      "source": [
        "import time\n",
        "from random import randint\n",
        "from functools import wraps\n",
        "\n",
        "# cache = {\n",
        "#     \"city1\": {\n",
        "#         \"data\": **weather**,\n",
        "#         \"time\": 12312312\n",
        "#     },\n",
        "#     \"city2\": {},\n",
        "#     \"city3\": {},\n",
        "# }\n",
        "\n",
        "cache = {}\n",
        "\n",
        "# - introduce some cache/memory\n",
        "# - before invocation, check cache\n",
        "\n",
        "def cache_decorator(func):\n",
        "  @wraps(func)\n",
        "  def wrapper(city):\n",
        "\n",
        "    if city in cache and time.time() - cache[city]['time'] < 10:\n",
        "      print(f\"Returning cached result for {city}...\")\n",
        "      return cache[city]['data']\n",
        "\n",
        "    result = func(city)\n",
        "    cache[city] = {\n",
        "        \"data\": result,\n",
        "        \"time\": time.time()\n",
        "    }\n",
        "\n",
        "    return result\n",
        "  return wrapper\n",
        "\n",
        "\n",
        "@cache_decorator\n",
        "def get_weather(city):\n",
        "  print(f\"Fetching weather data for {city}...\")\n",
        "  time.sleep(1)\n",
        "\n",
        "  weather_data = {\n",
        "      'temperature': randint(-10, 30),\n",
        "      'humidity': randint(0, 100)\n",
        "  }\n",
        "\n",
        "  return weather_data"
      ],
      "metadata": {
        "id": "EAr9b9AbSt-S"
      },
      "execution_count": 41,
      "outputs": []
    },
    {
      "cell_type": "code",
      "source": [
        "get_weather(\"Toronto\")"
      ],
      "metadata": {
        "colab": {
          "base_uri": "https://localhost:8080/"
        },
        "id": "6LtWKSNdStzQ",
        "outputId": "0c54d9b6-901b-41f4-a4b4-16c41ef2d566"
      },
      "execution_count": 43,
      "outputs": [
        {
          "output_type": "stream",
          "name": "stdout",
          "text": [
            "Returning cached result for Toronto...\n"
          ]
        },
        {
          "output_type": "execute_result",
          "data": {
            "text/plain": [
              "{'temperature': 24, 'humidity': 6}"
            ]
          },
          "metadata": {},
          "execution_count": 43
        }
      ]
    },
    {
      "cell_type": "code",
      "source": [
        "get_weather(\"Toronto\")"
      ],
      "metadata": {
        "colab": {
          "base_uri": "https://localhost:8080/"
        },
        "id": "EfGAfai5StgT",
        "outputId": "eabc2683-c6bb-4dcf-faf2-39283b74cfda"
      },
      "execution_count": 44,
      "outputs": [
        {
          "output_type": "stream",
          "name": "stdout",
          "text": [
            "Returning cached result for Toronto...\n"
          ]
        },
        {
          "output_type": "execute_result",
          "data": {
            "text/plain": [
              "{'temperature': 24, 'humidity': 6}"
            ]
          },
          "metadata": {},
          "execution_count": 44
        }
      ]
    },
    {
      "cell_type": "code",
      "source": [
        "get_weather(\"Toronto\")"
      ],
      "metadata": {
        "colab": {
          "base_uri": "https://localhost:8080/"
        },
        "id": "tmul78gSSs3C",
        "outputId": "14222a68-ae66-4700-c770-31c409d7a7d7"
      },
      "execution_count": 46,
      "outputs": [
        {
          "output_type": "stream",
          "name": "stdout",
          "text": [
            "Returning cached result for Toronto...\n"
          ]
        },
        {
          "output_type": "execute_result",
          "data": {
            "text/plain": [
              "{'temperature': 7, 'humidity': 91}"
            ]
          },
          "metadata": {},
          "execution_count": 46
        }
      ]
    },
    {
      "cell_type": "code",
      "source": [
        "get_weather(\"Toronto\")"
      ],
      "metadata": {
        "colab": {
          "base_uri": "https://localhost:8080/"
        },
        "id": "DlLkzLvvSsNH",
        "outputId": "f324dd7d-4075-4233-e24e-7d4817f13364"
      },
      "execution_count": 47,
      "outputs": [
        {
          "output_type": "stream",
          "name": "stdout",
          "text": [
            "Fetching weather data for Toronto...\n"
          ]
        },
        {
          "output_type": "execute_result",
          "data": {
            "text/plain": [
              "{'temperature': -5, 'humidity': 3}"
            ]
          },
          "metadata": {},
          "execution_count": 47
        }
      ]
    },
    {
      "cell_type": "code",
      "source": [],
      "metadata": {
        "id": "eW0jLhjbSrOh"
      },
      "execution_count": null,
      "outputs": []
    }
  ]
}