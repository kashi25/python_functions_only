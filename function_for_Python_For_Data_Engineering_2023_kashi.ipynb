{
  "nbformat": 4,
  "nbformat_minor": 0,
  "metadata": {
    "colab": {
      "provenance": []
    },
    "kernelspec": {
      "name": "python3",
      "display_name": "Python 3"
    },
    "language_info": {
      "name": "python"
    }
  },
  "cells": [
    {
      "cell_type": "code",
      "execution_count": 4,
      "metadata": {
        "id": "s0jwvgJDN2ah",
        "colab": {
          "base_uri": "https://localhost:8080/"
        },
        "outputId": "0d9fb2cd-7679-4fae-f8ac-158fbe87d1c7"
      },
      "outputs": [
        {
          "output_type": "stream",
          "name": "stdout",
          "text": [
            "the sum of numbers are 350\n",
            "the subtraction of numbers are 50\n",
            "the multiplication of numbers are 30000\n"
          ]
        }
      ],
      "source": [
        "# function\n",
        "'''a = 10\n",
        "b = 30\n",
        "add = print(a + b)\n",
        "sub = print(a - b)\n",
        "mult = print(a * b)'''\n",
        "\n",
        "def calculate(a, b):\n",
        "  result1 = print(\"the sum of numbers are\",(a + b))\n",
        "  result2 = print(\"the subtraction of numbers are\",(a - b))\n",
        "  result3 = print(\"the multiplication of numbers are\", (a * b))\n",
        "\n",
        "calculate(200, 150)\n",
        "\n",
        "\n",
        "\n",
        "\n"
      ]
    },
    {
      "cell_type": "code",
      "source": [
        "calculate(400, 345)"
      ],
      "metadata": {
        "colab": {
          "base_uri": "https://localhost:8080/"
        },
        "id": "fBlozCNaS97R",
        "outputId": "6e399ad2-e323-4bca-ba55-a171175466a8"
      },
      "execution_count": 5,
      "outputs": [
        {
          "output_type": "stream",
          "name": "stdout",
          "text": [
            "the sum of numbers are 745\n",
            "the subtraction of numbers are 55\n",
            "the multiplication of numbers are 138000\n"
          ]
        }
      ]
    },
    {
      "cell_type": "code",
      "source": [
        "def cal(a, b):\n",
        "  sum = a + b\n",
        "  return sum\n",
        "\n",
        "cal(199,34)"
      ],
      "metadata": {
        "colab": {
          "base_uri": "https://localhost:8080/"
        },
        "id": "UAiIo-1AUsx8",
        "outputId": "ab3ef123-0794-4181-e6c2-6a8582599d54"
      },
      "execution_count": 8,
      "outputs": [
        {
          "output_type": "execute_result",
          "data": {
            "text/plain": [
              "233"
            ]
          },
          "metadata": {},
          "execution_count": 8
        }
      ]
    },
    {
      "cell_type": "code",
      "source": [
        "def cal(a, b):\n",
        "  sum = a + b\n",
        "  sub = a - b\n",
        "  return sum, sub\n",
        "\n",
        "cal(199,34)"
      ],
      "metadata": {
        "colab": {
          "base_uri": "https://localhost:8080/"
        },
        "id": "TjTtxYiVVeYW",
        "outputId": "091e52f8-263b-46db-ab08-7d498bce069c"
      },
      "execution_count": 10,
      "outputs": [
        {
          "output_type": "execute_result",
          "data": {
            "text/plain": [
              "(233, 165)"
            ]
          },
          "metadata": {},
          "execution_count": 10
        }
      ]
    },
    {
      "cell_type": "code",
      "source": [
        "def cal(a, b):\n",
        "  sum = a + b\n",
        "  sub = a - b\n",
        "  return sum, sub\n",
        "\n",
        "sum, sub = cal(199,34)\n",
        "print(\"the sum is\", sum)\n",
        "print(\"the sub is\", sub)"
      ],
      "metadata": {
        "colab": {
          "base_uri": "https://localhost:8080/"
        },
        "id": "YDaCyL2HV2gy",
        "outputId": "0fdbcc8f-6ba0-450d-8453-bbd0314574a2"
      },
      "execution_count": 12,
      "outputs": [
        {
          "output_type": "stream",
          "name": "stdout",
          "text": [
            "the sum is 233\n",
            "the sub is 165\n"
          ]
        }
      ]
    },
    {
      "cell_type": "code",
      "source": [
        "# positional arguments\n",
        "def addition(a, b):\n",
        "  print(a + b)\n",
        "\n",
        "addition(10, 45)"
      ],
      "metadata": {
        "colab": {
          "base_uri": "https://localhost:8080/"
        },
        "id": "JeQl48ECWEgN",
        "outputId": "0762468c-c47b-4c27-e59c-8c2bd44f52c5"
      },
      "execution_count": 13,
      "outputs": [
        {
          "output_type": "stream",
          "name": "stdout",
          "text": [
            "55\n"
          ]
        }
      ]
    },
    {
      "cell_type": "code",
      "source": [
        "# keword arguments\n",
        "def addition(a, b):\n",
        "  print(a + b)\n",
        "\n",
        "addition( b = 10, a = 45)\n",
        "# note positional arguments follows keywords arguments"
      ],
      "metadata": {
        "colab": {
          "base_uri": "https://localhost:8080/"
        },
        "id": "sk0rbMyea27l",
        "outputId": "55e08785-9c44-4499-d484-ef2fc5e8f9eb"
      },
      "execution_count": 14,
      "outputs": [
        {
          "output_type": "stream",
          "name": "stdout",
          "text": [
            "55\n"
          ]
        }
      ]
    },
    {
      "cell_type": "code",
      "source": [
        "# Defult arguments\n",
        "def addition(a = 23, b = 25):\n",
        "  print(a + b)\n",
        "\n",
        "addition(a = 100, b = 20)\n"
      ],
      "metadata": {
        "colab": {
          "base_uri": "https://localhost:8080/"
        },
        "id": "XLZtFfGHbO0I",
        "outputId": "061a708d-d8d6-4e7e-9547-c161791e3561"
      },
      "execution_count": 21,
      "outputs": [
        {
          "output_type": "stream",
          "name": "stdout",
          "text": [
            "120\n"
          ]
        }
      ]
    },
    {
      "cell_type": "code",
      "source": [
        "# Defult arguments\n",
        "def addition(a, b = 25):\n",
        "  print(a + b)\n",
        "\n",
        "addition(a = 100, b = 20)\n",
        "# when writing defult argument first value can be empty , but last should not"
      ],
      "metadata": {
        "colab": {
          "base_uri": "https://localhost:8080/"
        },
        "id": "yMLweJCQbYGw",
        "outputId": "8d6d7dbc-c4de-4654-aafa-c1d577c7a6d1"
      },
      "execution_count": 23,
      "outputs": [
        {
          "output_type": "stream",
          "name": "stdout",
          "text": [
            "120\n"
          ]
        }
      ]
    },
    {
      "cell_type": "code",
      "source": [
        "# variable length argument\n",
        "\n",
        "def sums(*n):\n",
        "  print(type(n))\n",
        "  print(n)\n",
        "sums(29,78,89)"
      ],
      "metadata": {
        "colab": {
          "base_uri": "https://localhost:8080/"
        },
        "id": "jCTsJteMcU2h",
        "outputId": "36abf223-ed0b-4cae-b3de-074c1f493aa7"
      },
      "execution_count": 27,
      "outputs": [
        {
          "output_type": "stream",
          "name": "stdout",
          "text": [
            "<class 'tuple'>\n",
            "(29, 78, 89)\n"
          ]
        }
      ]
    },
    {
      "cell_type": "code",
      "source": [
        "# variable length argument\n",
        "\n",
        "def sums(*n):\n",
        "  total = 0\n",
        "  for x in n:\n",
        "    total = total + x\n",
        "  print(\"the sum of value is \", total)\n",
        "\n",
        "sums()\n",
        "sums(23, 12)\n",
        "sums(29,78,89)"
      ],
      "metadata": {
        "colab": {
          "base_uri": "https://localhost:8080/"
        },
        "id": "NRCVHj04czLz",
        "outputId": "f8343d5e-6dba-4a78-b84b-c80faf75ed4b"
      },
      "execution_count": 29,
      "outputs": [
        {
          "output_type": "stream",
          "name": "stdout",
          "text": [
            "the sum of value is  0\n",
            "the sum of value is  35\n",
            "the sum of value is  196\n"
          ]
        }
      ]
    },
    {
      "cell_type": "code",
      "source": [
        "def jod(*n):\n",
        "  total = 0\n",
        "  for x in n:\n",
        "    total = total + x\n",
        "  print(\"the jod of value is \", total)\n",
        "\n",
        "jod()\n",
        "jod(34,56,56)\n",
        "jod(1,2,3)"
      ],
      "metadata": {
        "colab": {
          "base_uri": "https://localhost:8080/"
        },
        "id": "hRmu5oBEdg5h",
        "outputId": "e7d75ffa-121c-42de-ba58-2ff05a400643"
      },
      "execution_count": 40,
      "outputs": [
        {
          "output_type": "stream",
          "name": "stdout",
          "text": [
            "the jod of value is  0\n",
            "the jod of value is  146\n",
            "the jod of value is  6\n"
          ]
        }
      ]
    },
    {
      "cell_type": "code",
      "source": [],
      "metadata": {
        "id": "Co7uikgDeaNW"
      },
      "execution_count": 40,
      "outputs": []
    },
    {
      "cell_type": "code",
      "source": [
        "# *args and **kwargs\n",
        "def f1(*args):\n",
        "  print(args)\n",
        "  print(type(args))\n",
        "\n",
        "f1()\n",
        "f1(10, 2, 20, 40, 50)\n"
      ],
      "metadata": {
        "colab": {
          "base_uri": "https://localhost:8080/"
        },
        "id": "UgMklwbtepFX",
        "outputId": "7c4e75cd-9385-4ef7-e9be-164d47e8a7f9"
      },
      "execution_count": 1,
      "outputs": [
        {
          "output_type": "stream",
          "name": "stdout",
          "text": [
            "()\n",
            "<class 'tuple'>\n",
            "(10, 2, 20, 40, 50)\n",
            "<class 'tuple'>\n"
          ]
        }
      ]
    },
    {
      "cell_type": "code",
      "source": [
        "def f2(**kwargs):\n",
        "  print(kwargs)\n",
        "  print(type(kwargs))\n",
        "\n",
        "f2()\n",
        "f2(a = 10, b = 2, c = 20, d = 40, e = 50)"
      ],
      "metadata": {
        "colab": {
          "base_uri": "https://localhost:8080/"
        },
        "id": "_TP_cRz0LUQc",
        "outputId": "7508ee3a-ae26-487f-e343-3712a7b7262f"
      },
      "execution_count": 6,
      "outputs": [
        {
          "output_type": "stream",
          "name": "stdout",
          "text": [
            "{}\n",
            "<class 'dict'>\n",
            "{'a': 10, 'b': 2, 'c': 20, 'd': 40, 'e': 50}\n",
            "<class 'dict'>\n"
          ]
        }
      ]
    },
    {
      "cell_type": "code",
      "source": [
        "def f2(*args, **kwargs):\n",
        "  print(args)\n",
        "  print(type(args))\n",
        "  print(kwargs)\n",
        "  print(type(kwargs))\n",
        "\n",
        "f2()\n",
        "f2(a = 10, b = 2, c = 20, d = 40, e = 50)"
      ],
      "metadata": {
        "colab": {
          "base_uri": "https://localhost:8080/"
        },
        "id": "1pBc5t9JNTwk",
        "outputId": "385d149b-fab5-4897-cf74-2a4c26c4ac63"
      },
      "execution_count": 7,
      "outputs": [
        {
          "output_type": "stream",
          "name": "stdout",
          "text": [
            "()\n",
            "<class 'tuple'>\n",
            "{}\n",
            "<class 'dict'>\n",
            "()\n",
            "<class 'tuple'>\n",
            "{'a': 10, 'b': 2, 'c': 20, 'd': 40, 'e': 50}\n",
            "<class 'dict'>\n"
          ]
        }
      ]
    },
    {
      "cell_type": "code",
      "source": [
        "a = 20 # this is global variable\n",
        "def f1(a):\n",
        "  print(a)\n",
        "\n",
        "f1(a)\n",
        "f1(12)\n",
        "\n"
      ],
      "metadata": {
        "colab": {
          "base_uri": "https://localhost:8080/"
        },
        "id": "mJQfLVwmOIpB",
        "outputId": "35acddbb-ea83-4482-de81-41752686fe87"
      },
      "execution_count": 11,
      "outputs": [
        {
          "output_type": "stream",
          "name": "stdout",
          "text": [
            "20\n",
            "12\n"
          ]
        }
      ]
    },
    {
      "cell_type": "code",
      "source": [
        "# lamda function\n",
        "s = lambda n: n * n\n",
        "print(s(4))\n"
      ],
      "metadata": {
        "colab": {
          "base_uri": "https://localhost:8080/"
        },
        "id": "ofdpGJ7wRtP5",
        "outputId": "0f087966-504d-4779-c3ba-e1d1d79376c1"
      },
      "execution_count": 12,
      "outputs": [
        {
          "output_type": "stream",
          "name": "stdout",
          "text": [
            "16\n"
          ]
        }
      ]
    },
    {
      "cell_type": "code",
      "source": [
        "s = lambda n: n + n\n",
        "print(s(4))\n"
      ],
      "metadata": {
        "colab": {
          "base_uri": "https://localhost:8080/"
        },
        "id": "u_Iq1VmRU3E7",
        "outputId": "4c8654ed-7c91-4969-af60-2eff38a81c7e"
      },
      "execution_count": 13,
      "outputs": [
        {
          "output_type": "stream",
          "name": "stdout",
          "text": [
            "8\n"
          ]
        }
      ]
    },
    {
      "cell_type": "code",
      "source": [
        "s = lambda n, m: n * n\n",
        "print(s(4, 5))\n"
      ],
      "metadata": {
        "colab": {
          "base_uri": "https://localhost:8080/"
        },
        "id": "S-1hzjjbU_Di",
        "outputId": "10d95f98-da4f-41ed-953b-ab95df67b77d"
      },
      "execution_count": 15,
      "outputs": [
        {
          "output_type": "stream",
          "name": "stdout",
          "text": [
            "16\n"
          ]
        }
      ]
    },
    {
      "cell_type": "code",
      "source": [
        "bigger = lambda a, b: a if a > b else b\n",
        "print(bigger(5, 8))"
      ],
      "metadata": {
        "colab": {
          "base_uri": "https://localhost:8080/"
        },
        "id": "SsY-6JQjVEzI",
        "outputId": "5c17f1d5-67a5-4eac-a41a-001bc6098aad"
      },
      "execution_count": 16,
      "outputs": [
        {
          "output_type": "stream",
          "name": "stdout",
          "text": [
            "8\n"
          ]
        }
      ]
    },
    {
      "cell_type": "code",
      "source": [
        "# filter\n",
        "\n",
        "lst = [1, 2, 4, 6, 8, 9, 10, 11, 12, 13, 14]\n",
        "\n",
        "def iseven(n):\n",
        "  if n % 2 ==0:\n",
        "    return True\n",
        "  else:\n",
        "    return False\n",
        "lst2 = []\n",
        "for n in lst:\n",
        "  if iseven(n) == True:\n",
        "    lst2.append(n)\n",
        "print(lst2)"
      ],
      "metadata": {
        "colab": {
          "base_uri": "https://localhost:8080/"
        },
        "id": "uVMcnWWsVU1f",
        "outputId": "e3d81cbd-3467-4cf6-b7ac-680095a3a37a"
      },
      "execution_count": 18,
      "outputs": [
        {
          "output_type": "stream",
          "name": "stdout",
          "text": [
            "[2, 4, 6, 8, 10, 12, 14]\n"
          ]
        }
      ]
    },
    {
      "cell_type": "code",
      "source": [
        "# filter\n",
        "\n",
        "lst = [1, 2, 4, 6, 8, 9, 10, 11, 12, 13, 14]\n",
        "\n",
        "def iseven(n):\n",
        "  if n % 2 ==0:\n",
        "    return True\n",
        "  else:\n",
        "    return False\n",
        "s = filter(iseven, lst)\n",
        "print(s)"
      ],
      "metadata": {
        "colab": {
          "base_uri": "https://localhost:8080/"
        },
        "id": "otqGYID6V60n",
        "outputId": "73d05755-d607-4058-cca1-8017d7349a28"
      },
      "execution_count": 22,
      "outputs": [
        {
          "output_type": "stream",
          "name": "stdout",
          "text": [
            "<filter object at 0x7b1b7aa1b2e0>\n"
          ]
        }
      ]
    },
    {
      "cell_type": "code",
      "source": [
        "# filter\n",
        "\n",
        "lst = [1, 2, 4, 6, 8, 9, 10, 11, 12, 13, 14]\n",
        "\n",
        "def iseven(n):\n",
        "  if n % 2 ==0:\n",
        "    return True\n",
        "  else:\n",
        "    return False\n",
        "s = list(filter(iseven, lst)) #now type casting the filter into list to see the results\n",
        "print(s)"
      ],
      "metadata": {
        "colab": {
          "base_uri": "https://localhost:8080/"
        },
        "id": "rCobPUWYW0xv",
        "outputId": "2d76b518-532e-443c-a55d-aaf14eedc025"
      },
      "execution_count": 23,
      "outputs": [
        {
          "output_type": "stream",
          "name": "stdout",
          "text": [
            "[2, 4, 6, 8, 10, 12, 14]\n"
          ]
        }
      ]
    },
    {
      "cell_type": "code",
      "source": [
        "lst = [1, 2, 4, 6, 8, 9, 10, 11, 12, 13, 14]\n",
        "s = list(filter(lambda n: n % 2 == 0, lst))\n",
        "print(s)"
      ],
      "metadata": {
        "colab": {
          "base_uri": "https://localhost:8080/"
        },
        "id": "4gDHUC1nXR5D",
        "outputId": "07ae8431-2b01-4f7d-c8f4-d4cbd912f70d"
      },
      "execution_count": 24,
      "outputs": [
        {
          "output_type": "stream",
          "name": "stdout",
          "text": [
            "[2, 4, 6, 8, 10, 12, 14]\n"
          ]
        }
      ]
    },
    {
      "cell_type": "code",
      "source": [
        "# map\n",
        "lst = [1, 2, 4, 6, 8, 9, 10, 11, 12, 13, 14]\n",
        "def sqr(n):\n",
        "  return n * n\n",
        "lst2 = map(sqr, lst)\n",
        "print(lst2)\n"
      ],
      "metadata": {
        "colab": {
          "base_uri": "https://localhost:8080/"
        },
        "id": "48DHBlGLYO9I",
        "outputId": "4a7e5fe9-3b4a-406d-f535-b65d96983fad"
      },
      "execution_count": 25,
      "outputs": [
        {
          "output_type": "stream",
          "name": "stdout",
          "text": [
            "<map object at 0x7b1b7aab9e70>\n"
          ]
        }
      ]
    },
    {
      "cell_type": "code",
      "source": [
        "# map\n",
        "# map(function, iterable, ...) sysntax\n",
        "\n",
        "lst = [1, 2, 4, 6, 8, 9, 10, 11, 12, 13, 14]\n",
        "def sqr(n):\n",
        "  return n * n\n",
        "lst2 = list(map(sqr, lst))\n",
        "print(lst2)\n",
        "\n",
        "# The map() function returns an iterator containing the results of applying the function to each item in the iterable. To get the results as a list or other data structures, you can convert the iterator to the desired type, like this\n",
        "# result_list = list(map(function, iterable))"
      ],
      "metadata": {
        "colab": {
          "base_uri": "https://localhost:8080/"
        },
        "id": "3NUjHBu_Zb8N",
        "outputId": "5adee1aa-be1b-427b-ebe0-c198e0dc4b89"
      },
      "execution_count": 27,
      "outputs": [
        {
          "output_type": "stream",
          "name": "stdout",
          "text": [
            "[1, 4, 16, 36, 64, 81, 100, 121, 144, 169, 196]\n"
          ]
        }
      ]
    },
    {
      "cell_type": "code",
      "source": [
        "# map with lambda\n",
        "lst = [1, 2, 4, 6, 8]\n",
        "lst2 = list(map(lambda n: n * n, lst))\n",
        "print(lst2)"
      ],
      "metadata": {
        "colab": {
          "base_uri": "https://localhost:8080/"
        },
        "id": "i5oYVbVAZg8J",
        "outputId": "1b454f95-7e6d-4c64-cfe0-9d6e8ce41f18"
      },
      "execution_count": 28,
      "outputs": [
        {
          "output_type": "stream",
          "name": "stdout",
          "text": [
            "[1, 4, 16, 36, 64]\n"
          ]
        }
      ]
    },
    {
      "cell_type": "code",
      "source": [
        "# map with lambda\n",
        "lst1 = [1, 2, 4, 6, 8]\n",
        "lst2 = [1, 4, 5, 6, 7]\n",
        "lst3 = list(map(lambda n, m: n ** n, lst1, lst2))\n",
        "print(lst3)"
      ],
      "metadata": {
        "colab": {
          "base_uri": "https://localhost:8080/"
        },
        "id": "z0drd9w5aUl5",
        "outputId": "11d4fbf9-2cfb-496b-d8ed-639ba3583916"
      },
      "execution_count": 30,
      "outputs": [
        {
          "output_type": "stream",
          "name": "stdout",
          "text": [
            "[1, 4, 256, 46656, 16777216]\n"
          ]
        }
      ]
    },
    {
      "cell_type": "code",
      "source": [
        "# reducer\n",
        "\n",
        "from functools import reduce\n",
        "lst1 = [1, 2, 4, 6, 8]\n",
        "result = reduce(lambda x, y: x + y, lst1)\n",
        "print(result)"
      ],
      "metadata": {
        "colab": {
          "base_uri": "https://localhost:8080/"
        },
        "id": "Z-systehaynb",
        "outputId": "0d0ab597-c935-4c7d-c4f3-71db606aa6a8"
      },
      "execution_count": 31,
      "outputs": [
        {
          "output_type": "stream",
          "name": "stdout",
          "text": [
            "21\n"
          ]
        }
      ]
    },
    {
      "cell_type": "code",
      "source": [
        "from functools import reduce\n",
        "# first 100 number sum\n",
        "result = reduce(lambda x, y: x + y, range(0, 100))\n",
        "print(result)"
      ],
      "metadata": {
        "colab": {
          "base_uri": "https://localhost:8080/"
        },
        "id": "g4fz2ojrdLQK",
        "outputId": "d3eb69d9-6ec5-48a1-86b3-8e89bf98aa7f"
      },
      "execution_count": 32,
      "outputs": [
        {
          "output_type": "stream",
          "name": "stdout",
          "text": [
            "4950\n"
          ]
        }
      ]
    },
    {
      "cell_type": "code",
      "source": [],
      "metadata": {
        "id": "HqP7v54jdtMx"
      },
      "execution_count": null,
      "outputs": []
    }
  ]
}